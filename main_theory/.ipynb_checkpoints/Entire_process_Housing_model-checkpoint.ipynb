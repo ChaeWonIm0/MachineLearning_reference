{
 "cells": [
  {
   "cell_type": "code",
   "execution_count": 122,
   "id": "91cafde8",
   "metadata": {},
   "outputs": [],
   "source": [
    "import pandas as pd\n",
    "import numpy as np\n",
    "import matplotlib.pyplot as plt\n",
    "import sklearn\n",
    "import seaborn as sns\n"
   ]
  },
  {
   "cell_type": "markdown",
   "id": "7376d637",
   "metadata": {},
   "source": [
    "#### 데이터 조사"
   ]
  },
  {
   "cell_type": "code",
   "execution_count": 123,
   "id": "19e58de4",
   "metadata": {},
   "outputs": [
    {
     "ename": "FileNotFoundError",
     "evalue": "[Errno 2] No such file or directory: 'housing.csv'",
     "output_type": "error",
     "traceback": [
      "\u001b[1;31m---------------------------------------------------------------------------\u001b[0m",
      "\u001b[1;31mFileNotFoundError\u001b[0m                         Traceback (most recent call last)",
      "Cell \u001b[1;32mIn [123], line 2\u001b[0m\n\u001b[0;32m      1\u001b[0m \u001b[38;5;66;03m# 데이터 로드\u001b[39;00m\n\u001b[1;32m----> 2\u001b[0m housing \u001b[38;5;241m=\u001b[39m \u001b[43mpd\u001b[49m\u001b[38;5;241;43m.\u001b[39;49m\u001b[43mread_csv\u001b[49m\u001b[43m(\u001b[49m\u001b[38;5;124;43m\"\u001b[39;49m\u001b[38;5;124;43mhousing.csv\u001b[39;49m\u001b[38;5;124;43m\"\u001b[39;49m\u001b[43m)\u001b[49m\n\u001b[0;32m      3\u001b[0m housing\u001b[38;5;241m.\u001b[39mhead(\u001b[38;5;241m10\u001b[39m)\n\u001b[0;32m      4\u001b[0m housing\u001b[38;5;241m.\u001b[39mtail(\u001b[38;5;241m10\u001b[39m)\n",
      "File \u001b[1;32mC:\\Anaconda3\\lib\\site-packages\\pandas\\util\\_decorators.py:211\u001b[0m, in \u001b[0;36mdeprecate_kwarg.<locals>._deprecate_kwarg.<locals>.wrapper\u001b[1;34m(*args, **kwargs)\u001b[0m\n\u001b[0;32m    209\u001b[0m     \u001b[38;5;28;01melse\u001b[39;00m:\n\u001b[0;32m    210\u001b[0m         kwargs[new_arg_name] \u001b[38;5;241m=\u001b[39m new_arg_value\n\u001b[1;32m--> 211\u001b[0m \u001b[38;5;28;01mreturn\u001b[39;00m func(\u001b[38;5;241m*\u001b[39margs, \u001b[38;5;241m*\u001b[39m\u001b[38;5;241m*\u001b[39mkwargs)\n",
      "File \u001b[1;32mC:\\Anaconda3\\lib\\site-packages\\pandas\\util\\_decorators.py:331\u001b[0m, in \u001b[0;36mdeprecate_nonkeyword_arguments.<locals>.decorate.<locals>.wrapper\u001b[1;34m(*args, **kwargs)\u001b[0m\n\u001b[0;32m    325\u001b[0m \u001b[38;5;28;01mif\u001b[39;00m \u001b[38;5;28mlen\u001b[39m(args) \u001b[38;5;241m>\u001b[39m num_allow_args:\n\u001b[0;32m    326\u001b[0m     warnings\u001b[38;5;241m.\u001b[39mwarn(\n\u001b[0;32m    327\u001b[0m         msg\u001b[38;5;241m.\u001b[39mformat(arguments\u001b[38;5;241m=\u001b[39m_format_argument_list(allow_args)),\n\u001b[0;32m    328\u001b[0m         \u001b[38;5;167;01mFutureWarning\u001b[39;00m,\n\u001b[0;32m    329\u001b[0m         stacklevel\u001b[38;5;241m=\u001b[39mfind_stack_level(),\n\u001b[0;32m    330\u001b[0m     )\n\u001b[1;32m--> 331\u001b[0m \u001b[38;5;28;01mreturn\u001b[39;00m func(\u001b[38;5;241m*\u001b[39margs, \u001b[38;5;241m*\u001b[39m\u001b[38;5;241m*\u001b[39mkwargs)\n",
      "File \u001b[1;32mC:\\Anaconda3\\lib\\site-packages\\pandas\\io\\parsers\\readers.py:950\u001b[0m, in \u001b[0;36mread_csv\u001b[1;34m(filepath_or_buffer, sep, delimiter, header, names, index_col, usecols, squeeze, prefix, mangle_dupe_cols, dtype, engine, converters, true_values, false_values, skipinitialspace, skiprows, skipfooter, nrows, na_values, keep_default_na, na_filter, verbose, skip_blank_lines, parse_dates, infer_datetime_format, keep_date_col, date_parser, dayfirst, cache_dates, iterator, chunksize, compression, thousands, decimal, lineterminator, quotechar, quoting, doublequote, escapechar, comment, encoding, encoding_errors, dialect, error_bad_lines, warn_bad_lines, on_bad_lines, delim_whitespace, low_memory, memory_map, float_precision, storage_options)\u001b[0m\n\u001b[0;32m    935\u001b[0m kwds_defaults \u001b[38;5;241m=\u001b[39m _refine_defaults_read(\n\u001b[0;32m    936\u001b[0m     dialect,\n\u001b[0;32m    937\u001b[0m     delimiter,\n\u001b[1;32m   (...)\u001b[0m\n\u001b[0;32m    946\u001b[0m     defaults\u001b[38;5;241m=\u001b[39m{\u001b[38;5;124m\"\u001b[39m\u001b[38;5;124mdelimiter\u001b[39m\u001b[38;5;124m\"\u001b[39m: \u001b[38;5;124m\"\u001b[39m\u001b[38;5;124m,\u001b[39m\u001b[38;5;124m\"\u001b[39m},\n\u001b[0;32m    947\u001b[0m )\n\u001b[0;32m    948\u001b[0m kwds\u001b[38;5;241m.\u001b[39mupdate(kwds_defaults)\n\u001b[1;32m--> 950\u001b[0m \u001b[38;5;28;01mreturn\u001b[39;00m \u001b[43m_read\u001b[49m\u001b[43m(\u001b[49m\u001b[43mfilepath_or_buffer\u001b[49m\u001b[43m,\u001b[49m\u001b[43m \u001b[49m\u001b[43mkwds\u001b[49m\u001b[43m)\u001b[49m\n",
      "File \u001b[1;32mC:\\Anaconda3\\lib\\site-packages\\pandas\\io\\parsers\\readers.py:605\u001b[0m, in \u001b[0;36m_read\u001b[1;34m(filepath_or_buffer, kwds)\u001b[0m\n\u001b[0;32m    602\u001b[0m _validate_names(kwds\u001b[38;5;241m.\u001b[39mget(\u001b[38;5;124m\"\u001b[39m\u001b[38;5;124mnames\u001b[39m\u001b[38;5;124m\"\u001b[39m, \u001b[38;5;28;01mNone\u001b[39;00m))\n\u001b[0;32m    604\u001b[0m \u001b[38;5;66;03m# Create the parser.\u001b[39;00m\n\u001b[1;32m--> 605\u001b[0m parser \u001b[38;5;241m=\u001b[39m TextFileReader(filepath_or_buffer, \u001b[38;5;241m*\u001b[39m\u001b[38;5;241m*\u001b[39mkwds)\n\u001b[0;32m    607\u001b[0m \u001b[38;5;28;01mif\u001b[39;00m chunksize \u001b[38;5;129;01mor\u001b[39;00m iterator:\n\u001b[0;32m    608\u001b[0m     \u001b[38;5;28;01mreturn\u001b[39;00m parser\n",
      "File \u001b[1;32mC:\\Anaconda3\\lib\\site-packages\\pandas\\io\\parsers\\readers.py:1442\u001b[0m, in \u001b[0;36mTextFileReader.__init__\u001b[1;34m(self, f, engine, **kwds)\u001b[0m\n\u001b[0;32m   1439\u001b[0m     \u001b[38;5;28mself\u001b[39m\u001b[38;5;241m.\u001b[39moptions[\u001b[38;5;124m\"\u001b[39m\u001b[38;5;124mhas_index_names\u001b[39m\u001b[38;5;124m\"\u001b[39m] \u001b[38;5;241m=\u001b[39m kwds[\u001b[38;5;124m\"\u001b[39m\u001b[38;5;124mhas_index_names\u001b[39m\u001b[38;5;124m\"\u001b[39m]\n\u001b[0;32m   1441\u001b[0m \u001b[38;5;28mself\u001b[39m\u001b[38;5;241m.\u001b[39mhandles: IOHandles \u001b[38;5;241m|\u001b[39m \u001b[38;5;28;01mNone\u001b[39;00m \u001b[38;5;241m=\u001b[39m \u001b[38;5;28;01mNone\u001b[39;00m\n\u001b[1;32m-> 1442\u001b[0m \u001b[38;5;28mself\u001b[39m\u001b[38;5;241m.\u001b[39m_engine \u001b[38;5;241m=\u001b[39m \u001b[38;5;28;43mself\u001b[39;49m\u001b[38;5;241;43m.\u001b[39;49m\u001b[43m_make_engine\u001b[49m\u001b[43m(\u001b[49m\u001b[43mf\u001b[49m\u001b[43m,\u001b[49m\u001b[43m \u001b[49m\u001b[38;5;28;43mself\u001b[39;49m\u001b[38;5;241;43m.\u001b[39;49m\u001b[43mengine\u001b[49m\u001b[43m)\u001b[49m\n",
      "File \u001b[1;32mC:\\Anaconda3\\lib\\site-packages\\pandas\\io\\parsers\\readers.py:1735\u001b[0m, in \u001b[0;36mTextFileReader._make_engine\u001b[1;34m(self, f, engine)\u001b[0m\n\u001b[0;32m   1733\u001b[0m     \u001b[38;5;28;01mif\u001b[39;00m \u001b[38;5;124m\"\u001b[39m\u001b[38;5;124mb\u001b[39m\u001b[38;5;124m\"\u001b[39m \u001b[38;5;129;01mnot\u001b[39;00m \u001b[38;5;129;01min\u001b[39;00m mode:\n\u001b[0;32m   1734\u001b[0m         mode \u001b[38;5;241m+\u001b[39m\u001b[38;5;241m=\u001b[39m \u001b[38;5;124m\"\u001b[39m\u001b[38;5;124mb\u001b[39m\u001b[38;5;124m\"\u001b[39m\n\u001b[1;32m-> 1735\u001b[0m \u001b[38;5;28mself\u001b[39m\u001b[38;5;241m.\u001b[39mhandles \u001b[38;5;241m=\u001b[39m \u001b[43mget_handle\u001b[49m\u001b[43m(\u001b[49m\n\u001b[0;32m   1736\u001b[0m \u001b[43m    \u001b[49m\u001b[43mf\u001b[49m\u001b[43m,\u001b[49m\n\u001b[0;32m   1737\u001b[0m \u001b[43m    \u001b[49m\u001b[43mmode\u001b[49m\u001b[43m,\u001b[49m\n\u001b[0;32m   1738\u001b[0m \u001b[43m    \u001b[49m\u001b[43mencoding\u001b[49m\u001b[38;5;241;43m=\u001b[39;49m\u001b[38;5;28;43mself\u001b[39;49m\u001b[38;5;241;43m.\u001b[39;49m\u001b[43moptions\u001b[49m\u001b[38;5;241;43m.\u001b[39;49m\u001b[43mget\u001b[49m\u001b[43m(\u001b[49m\u001b[38;5;124;43m\"\u001b[39;49m\u001b[38;5;124;43mencoding\u001b[39;49m\u001b[38;5;124;43m\"\u001b[39;49m\u001b[43m,\u001b[49m\u001b[43m \u001b[49m\u001b[38;5;28;43;01mNone\u001b[39;49;00m\u001b[43m)\u001b[49m\u001b[43m,\u001b[49m\n\u001b[0;32m   1739\u001b[0m \u001b[43m    \u001b[49m\u001b[43mcompression\u001b[49m\u001b[38;5;241;43m=\u001b[39;49m\u001b[38;5;28;43mself\u001b[39;49m\u001b[38;5;241;43m.\u001b[39;49m\u001b[43moptions\u001b[49m\u001b[38;5;241;43m.\u001b[39;49m\u001b[43mget\u001b[49m\u001b[43m(\u001b[49m\u001b[38;5;124;43m\"\u001b[39;49m\u001b[38;5;124;43mcompression\u001b[39;49m\u001b[38;5;124;43m\"\u001b[39;49m\u001b[43m,\u001b[49m\u001b[43m \u001b[49m\u001b[38;5;28;43;01mNone\u001b[39;49;00m\u001b[43m)\u001b[49m\u001b[43m,\u001b[49m\n\u001b[0;32m   1740\u001b[0m \u001b[43m    \u001b[49m\u001b[43mmemory_map\u001b[49m\u001b[38;5;241;43m=\u001b[39;49m\u001b[38;5;28;43mself\u001b[39;49m\u001b[38;5;241;43m.\u001b[39;49m\u001b[43moptions\u001b[49m\u001b[38;5;241;43m.\u001b[39;49m\u001b[43mget\u001b[49m\u001b[43m(\u001b[49m\u001b[38;5;124;43m\"\u001b[39;49m\u001b[38;5;124;43mmemory_map\u001b[39;49m\u001b[38;5;124;43m\"\u001b[39;49m\u001b[43m,\u001b[49m\u001b[43m \u001b[49m\u001b[38;5;28;43;01mFalse\u001b[39;49;00m\u001b[43m)\u001b[49m\u001b[43m,\u001b[49m\n\u001b[0;32m   1741\u001b[0m \u001b[43m    \u001b[49m\u001b[43mis_text\u001b[49m\u001b[38;5;241;43m=\u001b[39;49m\u001b[43mis_text\u001b[49m\u001b[43m,\u001b[49m\n\u001b[0;32m   1742\u001b[0m \u001b[43m    \u001b[49m\u001b[43merrors\u001b[49m\u001b[38;5;241;43m=\u001b[39;49m\u001b[38;5;28;43mself\u001b[39;49m\u001b[38;5;241;43m.\u001b[39;49m\u001b[43moptions\u001b[49m\u001b[38;5;241;43m.\u001b[39;49m\u001b[43mget\u001b[49m\u001b[43m(\u001b[49m\u001b[38;5;124;43m\"\u001b[39;49m\u001b[38;5;124;43mencoding_errors\u001b[39;49m\u001b[38;5;124;43m\"\u001b[39;49m\u001b[43m,\u001b[49m\u001b[43m \u001b[49m\u001b[38;5;124;43m\"\u001b[39;49m\u001b[38;5;124;43mstrict\u001b[39;49m\u001b[38;5;124;43m\"\u001b[39;49m\u001b[43m)\u001b[49m\u001b[43m,\u001b[49m\n\u001b[0;32m   1743\u001b[0m \u001b[43m    \u001b[49m\u001b[43mstorage_options\u001b[49m\u001b[38;5;241;43m=\u001b[39;49m\u001b[38;5;28;43mself\u001b[39;49m\u001b[38;5;241;43m.\u001b[39;49m\u001b[43moptions\u001b[49m\u001b[38;5;241;43m.\u001b[39;49m\u001b[43mget\u001b[49m\u001b[43m(\u001b[49m\u001b[38;5;124;43m\"\u001b[39;49m\u001b[38;5;124;43mstorage_options\u001b[39;49m\u001b[38;5;124;43m\"\u001b[39;49m\u001b[43m,\u001b[49m\u001b[43m \u001b[49m\u001b[38;5;28;43;01mNone\u001b[39;49;00m\u001b[43m)\u001b[49m\u001b[43m,\u001b[49m\n\u001b[0;32m   1744\u001b[0m \u001b[43m\u001b[49m\u001b[43m)\u001b[49m\n\u001b[0;32m   1745\u001b[0m \u001b[38;5;28;01massert\u001b[39;00m \u001b[38;5;28mself\u001b[39m\u001b[38;5;241m.\u001b[39mhandles \u001b[38;5;129;01mis\u001b[39;00m \u001b[38;5;129;01mnot\u001b[39;00m \u001b[38;5;28;01mNone\u001b[39;00m\n\u001b[0;32m   1746\u001b[0m f \u001b[38;5;241m=\u001b[39m \u001b[38;5;28mself\u001b[39m\u001b[38;5;241m.\u001b[39mhandles\u001b[38;5;241m.\u001b[39mhandle\n",
      "File \u001b[1;32mC:\\Anaconda3\\lib\\site-packages\\pandas\\io\\common.py:856\u001b[0m, in \u001b[0;36mget_handle\u001b[1;34m(path_or_buf, mode, encoding, compression, memory_map, is_text, errors, storage_options)\u001b[0m\n\u001b[0;32m    851\u001b[0m \u001b[38;5;28;01melif\u001b[39;00m \u001b[38;5;28misinstance\u001b[39m(handle, \u001b[38;5;28mstr\u001b[39m):\n\u001b[0;32m    852\u001b[0m     \u001b[38;5;66;03m# Check whether the filename is to be opened in binary mode.\u001b[39;00m\n\u001b[0;32m    853\u001b[0m     \u001b[38;5;66;03m# Binary mode does not support 'encoding' and 'newline'.\u001b[39;00m\n\u001b[0;32m    854\u001b[0m     \u001b[38;5;28;01mif\u001b[39;00m ioargs\u001b[38;5;241m.\u001b[39mencoding \u001b[38;5;129;01mand\u001b[39;00m \u001b[38;5;124m\"\u001b[39m\u001b[38;5;124mb\u001b[39m\u001b[38;5;124m\"\u001b[39m \u001b[38;5;129;01mnot\u001b[39;00m \u001b[38;5;129;01min\u001b[39;00m ioargs\u001b[38;5;241m.\u001b[39mmode:\n\u001b[0;32m    855\u001b[0m         \u001b[38;5;66;03m# Encoding\u001b[39;00m\n\u001b[1;32m--> 856\u001b[0m         handle \u001b[38;5;241m=\u001b[39m \u001b[38;5;28;43mopen\u001b[39;49m\u001b[43m(\u001b[49m\n\u001b[0;32m    857\u001b[0m \u001b[43m            \u001b[49m\u001b[43mhandle\u001b[49m\u001b[43m,\u001b[49m\n\u001b[0;32m    858\u001b[0m \u001b[43m            \u001b[49m\u001b[43mioargs\u001b[49m\u001b[38;5;241;43m.\u001b[39;49m\u001b[43mmode\u001b[49m\u001b[43m,\u001b[49m\n\u001b[0;32m    859\u001b[0m \u001b[43m            \u001b[49m\u001b[43mencoding\u001b[49m\u001b[38;5;241;43m=\u001b[39;49m\u001b[43mioargs\u001b[49m\u001b[38;5;241;43m.\u001b[39;49m\u001b[43mencoding\u001b[49m\u001b[43m,\u001b[49m\n\u001b[0;32m    860\u001b[0m \u001b[43m            \u001b[49m\u001b[43merrors\u001b[49m\u001b[38;5;241;43m=\u001b[39;49m\u001b[43merrors\u001b[49m\u001b[43m,\u001b[49m\n\u001b[0;32m    861\u001b[0m \u001b[43m            \u001b[49m\u001b[43mnewline\u001b[49m\u001b[38;5;241;43m=\u001b[39;49m\u001b[38;5;124;43m\"\u001b[39;49m\u001b[38;5;124;43m\"\u001b[39;49m\u001b[43m,\u001b[49m\n\u001b[0;32m    862\u001b[0m \u001b[43m        \u001b[49m\u001b[43m)\u001b[49m\n\u001b[0;32m    863\u001b[0m     \u001b[38;5;28;01melse\u001b[39;00m:\n\u001b[0;32m    864\u001b[0m         \u001b[38;5;66;03m# Binary mode\u001b[39;00m\n\u001b[0;32m    865\u001b[0m         handle \u001b[38;5;241m=\u001b[39m \u001b[38;5;28mopen\u001b[39m(handle, ioargs\u001b[38;5;241m.\u001b[39mmode)\n",
      "\u001b[1;31mFileNotFoundError\u001b[0m: [Errno 2] No such file or directory: 'housing.csv'"
     ]
    }
   ],
   "source": [
    "# 데이터 로드\n",
    "housing = pd.read_csv(\"housing.csv\")\n",
    "housing.head(10)\n",
    "housing.tail(10)"
   ]
  },
  {
   "cell_type": "code",
   "execution_count": null,
   "id": "e241a3d5",
   "metadata": {},
   "outputs": [],
   "source": [
    "housing.info()"
   ]
  },
  {
   "cell_type": "code",
   "execution_count": null,
   "id": "4f71abe3",
   "metadata": {},
   "outputs": [],
   "source": [
    "housing.describe()\n",
    "# 피쳐 확인\n",
    "# 0)경도 1) 위도 2) 구매나이의 중앙값 3) 전체 방 수 4) 전체 침실 수 5) 인구 6) 가정 7) 수입의 중앙값 8) 집값 중앙값 9) 내륙/해안가 유형"
   ]
  },
  {
   "cell_type": "code",
   "execution_count": null,
   "id": "c05c4eea",
   "metadata": {},
   "outputs": [],
   "source": [
    "housing[\"ocean_proximity\"].value_counts()"
   ]
  },
  {
   "cell_type": "code",
   "execution_count": null,
   "id": "81101c96",
   "metadata": {},
   "outputs": [],
   "source": [
    "housing.hist(bins=120, figsize = (16,12))\n",
    "plt.show()\n",
    "# 테스트셋을 분리하기 전 잠깐 확인"
   ]
  },
  {
   "cell_type": "code",
   "execution_count": 124,
   "id": "5275c45f",
   "metadata": {},
   "outputs": [],
   "source": [
    "# 테스트셋 분리\n",
    "from sklearn.model_selection import train_test_split\n",
    "\n",
    "X, y = train_test_split(housing, test_size = 0.2 , random_state = 9)\n",
    "# 무작위 샘플링"
   ]
  },
  {
   "cell_type": "code",
   "execution_count": 125,
   "id": "1d537fcb",
   "metadata": {},
   "outputs": [
    {
     "data": {
      "text/plain": [
       "<AxesSubplot: >"
      ]
     },
     "execution_count": 125,
     "metadata": {},
     "output_type": "execute_result"
    },
    {
     "data": {
      "image/png": "[encoded data removed]",
      "text/plain": [
       "<Figure size 640x480 with 1 Axes>"
      ]
     },
     "metadata": {},
     "output_type": "display_data"
    }
   ],
   "source": [
    "# 계층 샘플링\n",
    "from sklearn.model_selection import StratifiedShuffleSplit\n",
    "housing[\"income_cat\"] = pd.cut(housing[\"median_income\"],\n",
    "                              bins=[0., 1.5, 3.0, 4.5, 6., np.inf],\n",
    "                              labels=[1,2,3,4,5])\n",
    "housing[\"income_cat\"].hist()\n"
   ]
  },
  {
   "cell_type": "code",
   "execution_count": 126,
   "id": "9504e1b2",
   "metadata": {},
   "outputs": [
    {
     "ename": "KeyError",
     "evalue": "'[1442, 4778, 391, 12676, 12932, 2308, 10292, 16216, 11653, 2494, 9009, 4269, 7118, 8639, 5824, 15116, 14693, 1109, 11616, 9415, 12578, 3005, 5613, 64, 16471, 1443, 14611, 796, 11757, 2389, 8886, 5421, 10955, 15393, 10835, 7355, 9523, 13919, 9126, 12419, 3096, 3932, 3588, 8308, 502, 16481, 16448, 4669, 9166, 1917, 2687, 9079, 10810, 3573, 7548, 9323, 10793, 7155, 14299, 6020, 665, 11648, 5420, 5959, 5550, 6882, 4337, 5066, 7952, 4674, 7597, 9188, 5217, 11511, 12351, 10257, 9135, 14661, 13788, 1843, 5516, 13992, 8178, 15822, 10918, 7339, 8448, 10358, 11292, 602, 20, 11572, 13989, 2227, 6150, 3231, 3055, 12028, 8007, 7410, 389, 3875, 3716, 5200, 1381, 12890, 8709, 2799, 114, 753, 7181, 8666, 16215, 5473, 4521, 2767, 2625, 7960, 6604, 15832, 10036, 13389, 6591, 16408, 147, 10613, 14023, 14397, 11557, 1585, 8162, 4377, 1628, 2614, 11628, 5554, 5413, 14018, 13888, 4883, 11279, 16330, 6493, 14997, 5835, 9996, 12011, 1781, 11549, 757, 5034, 16309, 6453, 834, 2106, 4238, 14714, 5190, 4187, 9838, 6176, 7600, 14564, 11835, 3053, 5351, 5050, 4682, 5561, 3519, 12317, 16124, 14297, 2292, 14283, 11931, 11176, 8, 12121, 8696, 15779, 14798, 2611, 5954, 4526, 10944, 14315, 2843, 11928, 12721, 6877, 15079, 14917, 2147, 9021, 8569, 5674, 16000, 8806, 12322, 5789, 6277, 5957, 10360, 13979, 12993, 10591, 8033, 5145, 4449, 3538, 8844, 13810, 16067, 11747, 12682, 16444, 13415, 14074, 9118, 98, 8978, 7421, 4263, 3742, 4370, 8565, 6084, 9832, 6369, 5780, 7657, 10213, 9162, 1259, 3136, 7, 4811, 5836, 8542, 8799, 118, 6258, 1698, 13921, 7826, 3583, 13600, 7260, 10599, 8675, 11188, 11243, 7242, 2553, 5227, 2998, 10636, 11090, 3470, 14124, 2416, 4194, 11980, 15566, 2166, 1359, 14384, 8484, 1473, 14670, 1934, 2207, 2296, 8482, 15855, 4643, 12896, 13257, 3510, 3960, 7602, 13467, 2136, 12781, 2367, 11800, 14559, 12971, 15753, 15067, 9183, 5975, 16228, 6128, 13123, 5491, 989, 837, 6727, 3312, 1450, 5424, 6503, 11158, 10986, 5558, 8842, 2938, 15974, 4993, 16070, 10712, 13676, 9626, 4534, 14935, 13941, 11569, 7642, 473, 10033, 13970, 3942, 1810, 15313, 12558, 8444, 4928, 12518, 831, 122, 13205, 2164, 2230, 8807, 4441, 14562, 6514, 9778, 3516, 8424, 10048, 5166, 5993, 491, 4859, 9460, 9071, 12248, 7203, 7629, 1251, 7142, 8230, 8752, 164, 6592, 14087, 16456, 13248, 10846, 8314, 8260, 16294, 9905, 7501, 10907, 13820, 7017, 15279, 3995, 6172, 556, 6855, 9833, 16347, 10984, 1188, 12509, 6049, 8879, 8118, 13660, 8215, 1989, 12097, 9494, 10727, 397, 11211, 5243, 12377, 14052, 1348, 2037, 15149, 12727, 1379, 6713, 1182, 3883, 2033, 2080, 15491, 15570, 9700, 807, 12250, 569, 7043, 4907, 9489, 2507, 11609, 14507, 9611, 6244, 4175, 15732, 14726, 11012, 11762, 7940, 7780, 7302, 13239, 13008, 10786, 519, 4544, 9888, 13075, 1551, 3670, 15755, 13794, 7505, 966, 16106, 1542, 16385, 7688, 15481, 9075, 3090, 8244, 6996, 1412, 8136, 13456, 4453, 4310, 7044, 16328, 1630, 13174, 13651, 14093, 9144, 3282, 7369, 7233, 6239, 7958, 3657, 14314, 4625, 3068, 3592, 13324, 4737, 15022, 3154, 2270, 8404, 3522, 884, 3258, 8793, 9211, 16008, 12029, 8615, 11680, 2918, 13984, 11475, 11690, 2151, 2127, 8500, 932, 8274, 11951, 11992, 7228, 11517, 15840, 282, 6716, 1122, 14434, 4941, 2910, 71, 15617, 8712, 2954, 7251, 11, 11870, 671, 6324, 10521, 6508, 7769, 2329, 9483, 5804, 7079, 3856, 2921, 9241, 16505, 9674, 1277, 4447, 16450, 1643, 14178, 15691, 10144, 7446, 5590, 7516, 8609, 16184, 782, 10327, 13448, 3074, 15213, 12637, 12164, 11447, 10661, 6449, 4478, 14961, 7866, 2117, 9897, 7938, 968, 14489, 2099, 14794, 11456, 12442, 10283, 4999, 163, 8547, 1605, 6096, 8511, 15899, 7885, 8866, 14547, 15118, 2666, 8049, 10572, 5545, 7719, 13365, 14257, 8107, 3113, 2483, 15527, 8797, 3693, 14664, 10865, 3878, 1680, 11915, 3467, 10962, 6458, 16468, 12064, 4356, 1594, 10781, 2878, 3012, 1071, 12205, 4222, 14460, 4120, 3277, 10739, 12924, 5446, 1904, 12023, 1855, 1106, 9807, 9475, 14424, 11376, 4804, 5356, 509, 11698, 16144, 5149, 14183, 14735, 8474, 1211, 3351, 1303, 9854, 3309, 14043, 9766, 10673, 9408, 13192, 8693, 14722, 13431, 8184, 12767, 11210, 864, 12395, 6553, 7085, 5196, 8330, 439, 11570, 1429, 15538, 4289, 12686, 11166, 1589, 7855, 15432, 13175, 12327, 13131, 9695, 6623, 16496, 403, 9973, 15493, 10059, 1878, 12399, 5697, 577, 6642, 12999, 3109, 15345, 9206, 5452, 9665, 4966, 2300, 3133, 8432, 14276, 15454, 2366, 1556, 5205, 12848, 10370, 13489, 4383, 15927, 13444, 13048, 6504, 7185, 849, 11325, 16252, 3585, 11239, 14561, 878, 1980, 9762, 3173, 13595, 2632, 3365, 3143, 7407, 760, 12712, 11070, 6815, 13523, 7686, 5026, 1962, 993, 16253, 5499, 15194, 14416, 2097, 11336, 3500, 5570, 13331, 15710, 5393, 3064, 3156, 8391, 7757, 14849, 10196, 9747, 3881, 9244, 13623, 4609, 1082, 6403, 9447, 6543, 3772, 8397, 14343, 4078, 9845, 13298, 14275, 10009, 13503, 11869, 515, 15074, 11633, 9730, 3530, 6565, 12925, 202, 16121, 2973, 6100, 13713, 5913, 15632, 15893, 12742, 2456, 12835, 10338, 14905, 14569, 8022, 7321, 9078, 15268, 2461, 942, 9171, 9209, 12335, 8218, 10235, 15457, 7078, 10394, 5260, 6712, 12026, 10663, 2403, 13230, 1135, 4657, 3982, 6379, 4746, 2740, 11548, 9753, 4824, 15125, 15403, 6207, 745, 11448, 9473, 7328, 9347, 11604, 9262, 16163, 14887, 2884, 7292, 7213, 7883, 2120, 1176, 11971, 10026, 15083, 3574, 5162, 2267, 14744, 14886, 12459, 1136, 2582, 6797, 9409, 7947, 9680, 5528, 7806, 14217, 1956, 949, 799, 13938, 14046, 11812, 7394, 8366, 4886, 1912, 3317, 5792, 3645, 10093, 4215, 4142, 14532, 14797, 13289, 79, 1021, 4838, 8382, 2400, 6356, 6197, 8035, 23, 4095, 230, 6813, 1047, 1275, 15008, 3673, 1516, 10571, 535, 2353, 9670, 1888, 7998, 16313, 10659, 2475, 14389, 11946, 45, 10979, 15039, 15107, 12091, 11269, 2986, 5021, 2951, 3488, 13485, 8289, 1681, 12624, 7917, 1395, 9497, 393, 8541, 6696, 10387, 3214, 16136, 707, 8619, 1740, 13990, 7734, 13433, 4660, 12129, 11657, 5313, 6830, 6582, 3479, 16239, 4876, 1646, 5963, 6392, 10172, 4208, 2883, 7299, 8064, 8400, 7469, 6573, 1020, 12545, 1512, 1471, 2956, 12071, 1846, 9689, 13702, 13737, 2479, 12938, 9826, 7131, 10175, 10349, 1225, 4084, 7021, 10886, 689, 3927, 9959, 5417, 9552, 3884, 1919, 12947, 13855, 12180, 2041, 12252, 3829, 487, 1529, 8401, 2603, 6865, 11979, 10582, 15506, 14591, 6444, 11032, 6681, 208, 7490, 10823, 8928, 12417, 7776, 258, 5946, 2264, 7230, 14061, 3080, 14916, 15600, 12072, 10262, 8803, 8548, 12514, 9831, 1624, 12898, 14592, 15850, 14986, 1086, 485, 11212, 6119, 15293, 14436, 9642, 5790, 5930, 14007, 13441, 2620, 15953, 7214, 16052, 4140, 5285, 7330, 2601, 15309, 1304, 1229, 8143, 3997, 9561, 7459, 2425, 10220, 10411, 16046, 3600, 532, 8905, 4714, 15739, 10917, 3002, 8514, 11770, 8804, 7116, 8132, 7184, 10381, 6270, 56, 10353, 7206, 3523, 13343, 5818, 13805, 13714, 12710, 8874, 8073, 14373, 10193, 12879, 12965, 9470, 13968, 6989, 11962, 13680, 14630, 7512, 11920, 10997, 15433, 5289, 14484, 9656, 11295, 4459, 12648, 16453, 8550, 10833, 16135, 1656, 9110, 1286, 11766, 14062, 3991, 4318, 14883, 2317, 10365, 7284, 3905, 4338, 8536, 14214, 4610, 10434, 15512, 4738, 4089, 9128, 13126, 5077, 9019, 15315, 545, 6015, 15234, 788, 12432, 14521, 7159, 1617, 6702, 4107, 14054, 2412, 12595, 10826, 13578, 8936, 12232, 5573, 5223, 8303, 10414, 16063, 648, 342, 10905, 12524, 14474, 1695, 8906, 15487, 14782, 7083, 5300, 15113, 4472, 12642, 3336, 8829, 8705, 13796, 2346, 13750, 4869, 2384, 9156, 7957, 4188, 7829, 1401, 5696, 5861, 11312, 9806, 7442, 14715, 13351, 4397, 2339, 14031, 12291, 6952, 14531, 11635, 7937, 5534, 3623, 3297, 9114, 13615, 14631, 13612, 16065, 10346, 12145, 3333, 12319, 6546, 2079, 14776, 4050, 8744, 13127, 16175, 1553, 14606, 12635, 817, 11030, 6157, 13516, 5311, 8017, 15311, 13659, 221, 7944, 1519, 11099, 3217, 4352, 11482, 14318, 2359, 13939, 13450, 7912, 11068, 12609, 13313, 6445, 983, 13952, 7735, 11046, 10844, 4878, 3331, 6684, 11484, 5901, 9417, 6360, 15867, 14335, 102, 15271, 14995, 14796, 9011, 1946, 12068, 12107, 16123, 3061, 10857, 4700, 1775, 5015, 3943, 9708, 10322, 6364, 3228, 12353, 13193, 3779, 5608, 12929, 6743, 2560, 10753, 6699, 8921, 4115, 11045, 10912, 2754, 13520, 12430, 1294, 1905, 4287, 4950, 7473, 8221, 7945, 11219, 273, 9752, 1714, 11563, 6778, 7363, 277, 11371, 11712, 1105, 10214, 84, 14984, 10942, 251, 9842, 9004, 7061, 13236, 2020, 5938, 13303, 3537, 16238, 14824, 14607, 11293, 2745, 2930, 7593, 14815, 7475, 7338, 2676, 4930, 6434, 610, 9430, 1627, 8505, 445, 16414, 9906, 3749, 2444, 13323, 14867, 13150, 292, 584, 593, 11708, 348, 12347, 11647, 8717, 6070, 1649, 13134, 15102, 13721, 187, 3863, 2470, 8746, 4264, 12494, 11282, 13251, 488, 4097, 3435, 2288, 9535, 14082, 5595, 3868, 6563, 9869, 5746, 6313, 10854, 7146, 14325, 6539, 12636, 12828, 11074, 8794, 12415, 9227, 227, 3158, 12093, 1310, 12665, 3964, 15737, 1430, 11095, 3604, 9423, 9442, 13812, 5474, 6226, 15296, 8774, 13053, 12613, 352, 4528, 4870, 2636, 5131, 8358, 1240, 14486, 6082, 14307, 5017, 10951, 2314, 1234, 13002, 12701, 9595, 7432, 13010, 4378, 15217, 13542, 3683, 3445, 15529, 929, 15137, 12536, 15117, 15012, 6827, 11742, 16057, 6216, 11964, 5618, 366, 4911, 413, 530, 10001, 13035, 12104, 2747, 13328, 9353, 883, 2662, 16098, 15610, 9602, 5813, 11459, 1545, 9325, 4396, 13983, 16392, 6832, 658, 3983, 6613, 4436, 7547, 6926, 12245, 13550, 15202, 10682, 2294, 11039, 1323, 12976, 15557, 7665, 3897, 814, 4051, 13639, 11402, 13670, 7841, 15321, 5104, 2010, 16318, 11576, 15196, 3952, 14848, 6685, 15928, 1151, 4932, 16159, 2856, 1199, 6821, 1625, 9477, 4565, 12266, 2349, 2511, 5092, 14118, 11241, 10313, 15399, 11972, 2933, 2222, 14952, 7144, 14740, 8195, 14624, 10271, 2363, 12517, 6703, 4400, 8110, 6095, 10832, 10792, 4172, 10890, 8025, 4562, 4426, 4056, 14216, 11077, 3505, 16022, 6385, 5503, 11204, 15037, 252, 5079, 6416, 12258, 5106, 10398, 12954, 11850, 9856, 8044, 7862, 16112, 10108, 13869, 2738, 15061, 6175, 3256, 4292, 8101, 14773, 358, 2645, 10221, 15091, 6945, 14422, 11575, 14133, 8248, 985, 5340, 14265, 13705, 4211, 7860, 14346, 1880, 11398, 14537, 10956, 7349, 11175, 14826, 4921, 12916, 4275, 4556, 4049, 1335, 14040, 10535, 1786, 826, 13583, 14802, 9584, 4607, 10038, 4463, 10759, 8196, 8961, 8241, 214, 2326, 4165, 15456, 7797, 12221, 934, 2771, 6697, 12646, 7956, 7026, 13255, 11629, 7722, 8348, 15988, 8611, 1659, 9779, 14289, 5186, 4343, 11135, 12253, 7481, 4412, 8798, 16255, 13374, 13043, 6165, 13411, 4039, 4183, 12090, 952, 7626, 228, 4506, 16289, 7435, 338, 16016, 6629, 12050, 1816, 5798, 13200, 12035, 5434, 15721, 16042, 10720, 1972, 13469, 16341, 13019, 15818, 15152, 1195, 673, 10077, 601, 3037, 12115, 2235, 4072, 5229, 5678, 15777, 4118, 10514, 4446, 846, 10194, 1602, 14042, 4132, 11467, 8966, 4763, 3718, 7132, 2760, 9127, 13468, 7025, 14172, 6957, 11509, 11707, 16398, 8167, 11504, 12216, 1841, 13419, 13025, 7453, 2694, 1218, 8933, 1760, 13238, 1845, 10837, 5338, 16049, 2804, 1003, 9024, 15616, 10419, 14756, 10878, 3568, 141, 8090, 12480, 9563, 7532, 8108, 11111, 9968, 14614, 8563, 5481, 14471, 5717, 14734, 1665, 11522, 5492, 2558, 1657, 7430, 2891, 644, 13449, 2254, 5749, 2158, 8163, 3677, 241, 6054, 6995, 16176, 4686, 8571, 11197, 14658, 8408, 2371, 15870, 6466, 12824, 13679, 954, 6575, 5080, 15762, 15587, 12044, 8513, 9850, 5918, 16504, 4598, 10527, 6664, 13597, 3717, 15135, 1153, 7696, 4676, 15429, 756, 5781, 2453, 7129, 7546, 13696, 6261, 7239, 11198, 14743, 13312, 3798, 5770, 4445, 5153, 14657, 6487, 7514, 15364, 14915, 9330, 2736, 1949, 9885, 1534, 827, 9184, 6930, 16413, 978, 7140, 6680, 2201, 2065, 11622, 14192, 7164, 5867, 13297, 12814, 6173, 2589, 5295, 2948, 12720, 1731, 6968, 15347, 2599, 14632, 8161, 15839, 8963, 10822, 10037, 10709, 3630, 10915, 11471, 15757, 10563, 15437, 2304, 13414, 14097, 11660, 8699, 1414, 8708, 10181, 765, 8217, 9596, 6544, 12711, 7035, 591, 2718, 4764, 7274, 4831, 9113, 12860, 11019, 15048, 13898, 6972, 4373, 2711, 10581, 6529, 459, 5185, 11011, 3387, 14623, 16204, 4581, 3050, 14341, 417, 12508, 6233, 10850, 4803, 3224, 3447, 8176, 7143, 5640, 11264, 13475, 8559, 10544, 2917, 12874, 7753, 4439, 3528, 695, 15120, 3396, 5694, 7357, 10910, 14030, 2549, 16173, 8770, 7618, 16402, 33, 289, 15015, 14226, 7414, 5521, 1933, 12989, 5399, 14653, 6116, 12542, 14808, 10959, 7766, 11207, 3706, 7989, 10489, 10964, 10672, 11537, 5382, 15103, 1312, 1794, 1590, 9945, 7877, 13338, 15466, 8160, 13354, 2196, 15696, 1737, 668, 6969, 2442, 9381, 15577, 15519, 7575, 12794, 15647, 4410, 10106, 14729, 7272, 13225, 1387, 4512, 4173, 4600, 13666, 10828, 8932, 8065, 4920, 6456, 10812, 11993, 2140, 12671, 7707, 12238, 525, 6783, 14071, 4205, 12766, 1222, 13759, 15842, 12610, 1169, 15547, 13280, 6133, 2113, 2064, 5923, 7034, 7844, 12974, 3153, 9681, 16369, 13969, 15145, 11723, 4111, 2255, 8849, 11547, 6764, 15488, 4906, 6162, 5891, 2118, 5958, 10937, 13772, 5495, 11071, 16236, 7694, 16351, 11646, 9938, 14126, 8897, 15834, 9725, 1050, 3700, 7805, 11297, 2656, 10029, 1523, 6810, 5325, 4048, 1503, 8904, 4367, 5929, 892, 12303, 1637, 5357, 16149, 13114, 8005, 6564, 898, 7399, 14522, 3366, 819, 15179, 12295, 12485, 2375, 5391, 11460, 14786, 10250, 2765, 13006, 7509, 6209, 11974, 12729, 12752, 9641, 16422, 3619, 6850, 14015, 16205, 8278, 171, 9667, 9466, 3871, 9402, 4146, 3984, 15314, 11718, 13980, 2787, 7721, 13031, 10162, 6902, 3581, 808, 2156, 5411, 3836, 9940, 14739, 10684, 196, 6315, 11585, 2502, 13994, 11134, 8378, 6626, 6417, 1095, 13399, 9581, 3438, 4583, 12080, 13811, 3649, 5651, 9949, 169, 8170, 8237, 10936, 5980, 16251, 10209, 1224, 15609, 13740, 15278, 13017, 787, 11912, 13642, 7648, 8863, 12833, 10403, 16350, 3417, 13372, 6688, 1686, 10386, 6935, 15354, 2835, 7295, 4075, 4855, 8102, 705, 11384, 7997, 9193, 5699, 14108, 7265, 5955, 9592, 9793, 13249, 1231, 6624, 15693, 5693, 3123, 11109, 6024, 2376, 2809, 11185, 15530, 1063, 9271, 14141, 11795, 9536, 9719, 15383, 5266, 14885, 16437, 6817, 7637, 12907, 6327, 2469, 426, 15596, 15300, 15489, 557, 12921, 3518, 5169, 14999, 1487, 14895, 1615, 10396, 11948, 7250, 4997, 3912, 12791, 13751, 14481, 8254, 8392, 4185, 2862, 9138, 402, 9282, 11644, 5027, 8914, 9756, 16257, 16324, 12468, 4164, 10043, 1930, 4080, 4277, 2806, 1089, 188, 14864, 16475, 8975, 6852, 13848, 384, 5691, 1399, 15507, 926, 3335, 6598, 13789, 10166, 7443, 2062, 14227, 6847, 12111, 301, 14593, 14376, 3618, 5860, 9446, 3408, 505, 8220, 16376, 12046, 6512, 7684, 14435, 7105, 11590, 10651, 13319, 10329, 10139, 9566, 6486, 7900, 4135, 5866, 10749, 10269, 5811, 7645, 716, 6171, 2963, 11596, 14908, 8088, 5723, 6873, 7770, 7928, 1175, 8324, 10755, 15656, 1863, 4234, 3172, 9041, 7178, 10294, 13377, 161, 5003, 3213, 4597, 15095, 12371, 1647, 10251, 7903, 6884, 15041, 274, 12521, 8835, 4313, 16091, 12504, 6494, 9546, 9577, 3833, 11004, 10397, 5896, 14263, 15607, 16278, 3267, 2807, 14993, 13346, 939, 5001, 14272, 7557, 4286, 4143, 8716, 7857, 12580, 887, 1744, 10851, 14273, 7199, 6966, 6368, 9741, 9543, 4745, 8577, 5969, 5670, 139, 14609, 16018, 15108, 4887, 131, 15761, 15717, 1815, 12552, 647, 637, 15115, 4614, 9974, 11961, 16495, 4790, 11510, 7610, 14790, 8277, 11502, 9696, 128, 7899, 13864, 3901, 2210, 1440, 5231, 8420, 7226, 6988, 13147, 12707, 4589, 10227, 244, 4134, 8833, 15124, 10690, 12967, 6185, 14775, 8129, 13673, 804, 13856, 5375, 16425, 14310, 677, 10825, 14364, 8157, 1997, 15524, 9167, 11906, 11470, 9534, 13077, 9125, 12060, 14677, 4918, 13044, 5903, 14640, 13179, 8121, 9131, 4380, 11272, 15076, 6297, 6111, 16354, 7109, 13440, 14433, 603, 10619, 15999, 11055, 15390, 8626, 7136, 5585, 3654, 6701, 1141, 8126, 7023, 12249, 11079, 536, 218, 4251, 7876, 4753, 13413, 4863, 9822, 2218, 2402, 12251, 4761, 14085, 11792, 9652, 748, 4579, 5684, 15716, 14140, 10169, 14415, 9468, 10819, 15033, 12605, 8206, 15598, 5721, 1179, 15511, 10969, 12049, 12585, 4615, 6272, 12447, 5148, 2517, 10205, 10961, 15356, 12185, 9081, 1684, 9005, 6669, 11222, 10743, 6545, 3489, 14153, 5438, 12868, 9555, 4802, 7275, 5320, 10827, 11393, 13438, 8560, 5637, 15809, 14021, 8075, 10729, 15663, 11894, 5248, 8216, 5456, 386, 14224, 7691, 8089, 10080, 16030, 13421, 7479, 3385, 3738, 8290, 14387, 7843, 12887, 2258, 4454, 13472, 57, 11661, 12799, 2152, 1158, 4280, 14839, 11882, 3218, 3925, 12849, 4489, 5498, 3726, 6433, 6213, 10949, 775, 15539, 7462, 2341, 7907, 11814, 13037, 11863, 14963, 3263, 11060, 5803, 16263, 2981, 2408, 77, 8124, 8694, 5621, 4751, 6618, 5926, 800, 16355, 10242, 3308, 7153, 5728, 3112, 11927, 7630, 14327, 10219, 15679, 15128, 9852, 5852, 8425, 6936, 15462, 10967, 10362, 1441, 11729, 3437, 11705, 9875, 5315, 1568, 4020, 9213, 14838, 1742, 1498, 322, 10940, 13311, 3075, 2879, 2871, 10670, 12241, 3507, 5053, 3040, 10141, 9172, 1242, 15518, 12990, 9373, 10664, 3682, 1034, 15895, 1398, 872, 10511, 8520, 94, 15453, 15187, 15685, 12226, 15477, 14044, 5837, 11078, 14570] not in index'",
     "output_type": "error",
     "traceback": [
      "\u001b[1;31m---------------------------------------------------------------------------\u001b[0m",
      "\u001b[1;31mKeyError\u001b[0m                                  Traceback (most recent call last)",
      "Cell \u001b[1;32mIn [126], line 4\u001b[0m\n\u001b[0;32m      2\u001b[0m split \u001b[38;5;241m=\u001b[39m StratifiedShuffleSplit(n_splits\u001b[38;5;241m=\u001b[39m\u001b[38;5;241m1\u001b[39m, test_size \u001b[38;5;241m=\u001b[39m \u001b[38;5;241m0.2\u001b[39m, random_state \u001b[38;5;241m=\u001b[39m \u001b[38;5;241m9\u001b[39m)\n\u001b[0;32m      3\u001b[0m \u001b[38;5;28;01mfor\u001b[39;00m train_index, test_index \u001b[38;5;129;01min\u001b[39;00m split\u001b[38;5;241m.\u001b[39msplit(housing, housing[\u001b[38;5;124m\"\u001b[39m\u001b[38;5;124mincome_cat\u001b[39m\u001b[38;5;124m\"\u001b[39m]):\n\u001b[1;32m----> 4\u001b[0m     strat_train_set \u001b[38;5;241m=\u001b[39m \u001b[43mhousing\u001b[49m\u001b[38;5;241;43m.\u001b[39;49m\u001b[43mloc\u001b[49m\u001b[43m[\u001b[49m\u001b[43mtrain_index\u001b[49m\u001b[43m]\u001b[49m\n\u001b[0;32m      5\u001b[0m     strat_test_set \u001b[38;5;241m=\u001b[39m housing\u001b[38;5;241m.\u001b[39mloc[test_index]\n\u001b[0;32m      6\u001b[0m strat_train_set\u001b[38;5;241m.\u001b[39minfo()\n",
      "File \u001b[1;32mC:\\Anaconda3\\lib\\site-packages\\pandas\\core\\indexing.py:1073\u001b[0m, in \u001b[0;36m_LocationIndexer.__getitem__\u001b[1;34m(self, key)\u001b[0m\n\u001b[0;32m   1070\u001b[0m axis \u001b[38;5;241m=\u001b[39m \u001b[38;5;28mself\u001b[39m\u001b[38;5;241m.\u001b[39maxis \u001b[38;5;129;01mor\u001b[39;00m \u001b[38;5;241m0\u001b[39m\n\u001b[0;32m   1072\u001b[0m maybe_callable \u001b[38;5;241m=\u001b[39m com\u001b[38;5;241m.\u001b[39mapply_if_callable(key, \u001b[38;5;28mself\u001b[39m\u001b[38;5;241m.\u001b[39mobj)\n\u001b[1;32m-> 1073\u001b[0m \u001b[38;5;28;01mreturn\u001b[39;00m \u001b[38;5;28;43mself\u001b[39;49m\u001b[38;5;241;43m.\u001b[39;49m\u001b[43m_getitem_axis\u001b[49m\u001b[43m(\u001b[49m\u001b[43mmaybe_callable\u001b[49m\u001b[43m,\u001b[49m\u001b[43m \u001b[49m\u001b[43maxis\u001b[49m\u001b[38;5;241;43m=\u001b[39;49m\u001b[43maxis\u001b[49m\u001b[43m)\u001b[49m\n",
      "File \u001b[1;32mC:\\Anaconda3\\lib\\site-packages\\pandas\\core\\indexing.py:1301\u001b[0m, in \u001b[0;36m_LocIndexer._getitem_axis\u001b[1;34m(self, key, axis)\u001b[0m\n\u001b[0;32m   1298\u001b[0m     \u001b[38;5;28;01mif\u001b[39;00m \u001b[38;5;28mhasattr\u001b[39m(key, \u001b[38;5;124m\"\u001b[39m\u001b[38;5;124mndim\u001b[39m\u001b[38;5;124m\"\u001b[39m) \u001b[38;5;129;01mand\u001b[39;00m key\u001b[38;5;241m.\u001b[39mndim \u001b[38;5;241m>\u001b[39m \u001b[38;5;241m1\u001b[39m:\n\u001b[0;32m   1299\u001b[0m         \u001b[38;5;28;01mraise\u001b[39;00m \u001b[38;5;167;01mValueError\u001b[39;00m(\u001b[38;5;124m\"\u001b[39m\u001b[38;5;124mCannot index with multidimensional key\u001b[39m\u001b[38;5;124m\"\u001b[39m)\n\u001b[1;32m-> 1301\u001b[0m     \u001b[38;5;28;01mreturn\u001b[39;00m \u001b[38;5;28;43mself\u001b[39;49m\u001b[38;5;241;43m.\u001b[39;49m\u001b[43m_getitem_iterable\u001b[49m\u001b[43m(\u001b[49m\u001b[43mkey\u001b[49m\u001b[43m,\u001b[49m\u001b[43m \u001b[49m\u001b[43maxis\u001b[49m\u001b[38;5;241;43m=\u001b[39;49m\u001b[43maxis\u001b[49m\u001b[43m)\u001b[49m\n\u001b[0;32m   1303\u001b[0m \u001b[38;5;66;03m# nested tuple slicing\u001b[39;00m\n\u001b[0;32m   1304\u001b[0m \u001b[38;5;28;01mif\u001b[39;00m is_nested_tuple(key, labels):\n",
      "File \u001b[1;32mC:\\Anaconda3\\lib\\site-packages\\pandas\\core\\indexing.py:1239\u001b[0m, in \u001b[0;36m_LocIndexer._getitem_iterable\u001b[1;34m(self, key, axis)\u001b[0m\n\u001b[0;32m   1236\u001b[0m \u001b[38;5;28mself\u001b[39m\u001b[38;5;241m.\u001b[39m_validate_key(key, axis)\n\u001b[0;32m   1238\u001b[0m \u001b[38;5;66;03m# A collection of keys\u001b[39;00m\n\u001b[1;32m-> 1239\u001b[0m keyarr, indexer \u001b[38;5;241m=\u001b[39m \u001b[38;5;28;43mself\u001b[39;49m\u001b[38;5;241;43m.\u001b[39;49m\u001b[43m_get_listlike_indexer\u001b[49m\u001b[43m(\u001b[49m\u001b[43mkey\u001b[49m\u001b[43m,\u001b[49m\u001b[43m \u001b[49m\u001b[43maxis\u001b[49m\u001b[43m)\u001b[49m\n\u001b[0;32m   1240\u001b[0m \u001b[38;5;28;01mreturn\u001b[39;00m \u001b[38;5;28mself\u001b[39m\u001b[38;5;241m.\u001b[39mobj\u001b[38;5;241m.\u001b[39m_reindex_with_indexers(\n\u001b[0;32m   1241\u001b[0m     {axis: [keyarr, indexer]}, copy\u001b[38;5;241m=\u001b[39m\u001b[38;5;28;01mTrue\u001b[39;00m, allow_dups\u001b[38;5;241m=\u001b[39m\u001b[38;5;28;01mTrue\u001b[39;00m\n\u001b[0;32m   1242\u001b[0m )\n",
      "File \u001b[1;32mC:\\Anaconda3\\lib\\site-packages\\pandas\\core\\indexing.py:1432\u001b[0m, in \u001b[0;36m_LocIndexer._get_listlike_indexer\u001b[1;34m(self, key, axis)\u001b[0m\n\u001b[0;32m   1429\u001b[0m ax \u001b[38;5;241m=\u001b[39m \u001b[38;5;28mself\u001b[39m\u001b[38;5;241m.\u001b[39mobj\u001b[38;5;241m.\u001b[39m_get_axis(axis)\n\u001b[0;32m   1430\u001b[0m axis_name \u001b[38;5;241m=\u001b[39m \u001b[38;5;28mself\u001b[39m\u001b[38;5;241m.\u001b[39mobj\u001b[38;5;241m.\u001b[39m_get_axis_name(axis)\n\u001b[1;32m-> 1432\u001b[0m keyarr, indexer \u001b[38;5;241m=\u001b[39m \u001b[43max\u001b[49m\u001b[38;5;241;43m.\u001b[39;49m\u001b[43m_get_indexer_strict\u001b[49m\u001b[43m(\u001b[49m\u001b[43mkey\u001b[49m\u001b[43m,\u001b[49m\u001b[43m \u001b[49m\u001b[43maxis_name\u001b[49m\u001b[43m)\u001b[49m\n\u001b[0;32m   1434\u001b[0m \u001b[38;5;28;01mreturn\u001b[39;00m keyarr, indexer\n",
      "File \u001b[1;32mC:\\Anaconda3\\lib\\site-packages\\pandas\\core\\indexes\\base.py:6113\u001b[0m, in \u001b[0;36mIndex._get_indexer_strict\u001b[1;34m(self, key, axis_name)\u001b[0m\n\u001b[0;32m   6110\u001b[0m \u001b[38;5;28;01melse\u001b[39;00m:\n\u001b[0;32m   6111\u001b[0m     keyarr, indexer, new_indexer \u001b[38;5;241m=\u001b[39m \u001b[38;5;28mself\u001b[39m\u001b[38;5;241m.\u001b[39m_reindex_non_unique(keyarr)\n\u001b[1;32m-> 6113\u001b[0m \u001b[38;5;28;43mself\u001b[39;49m\u001b[38;5;241;43m.\u001b[39;49m\u001b[43m_raise_if_missing\u001b[49m\u001b[43m(\u001b[49m\u001b[43mkeyarr\u001b[49m\u001b[43m,\u001b[49m\u001b[43m \u001b[49m\u001b[43mindexer\u001b[49m\u001b[43m,\u001b[49m\u001b[43m \u001b[49m\u001b[43maxis_name\u001b[49m\u001b[43m)\u001b[49m\n\u001b[0;32m   6115\u001b[0m keyarr \u001b[38;5;241m=\u001b[39m \u001b[38;5;28mself\u001b[39m\u001b[38;5;241m.\u001b[39mtake(indexer)\n\u001b[0;32m   6116\u001b[0m \u001b[38;5;28;01mif\u001b[39;00m \u001b[38;5;28misinstance\u001b[39m(key, Index):\n\u001b[0;32m   6117\u001b[0m     \u001b[38;5;66;03m# GH 42790 - Preserve name from an Index\u001b[39;00m\n",
      "File \u001b[1;32mC:\\Anaconda3\\lib\\site-packages\\pandas\\core\\indexes\\base.py:6176\u001b[0m, in \u001b[0;36mIndex._raise_if_missing\u001b[1;34m(self, key, indexer, axis_name)\u001b[0m\n\u001b[0;32m   6173\u001b[0m     \u001b[38;5;28;01mraise\u001b[39;00m \u001b[38;5;167;01mKeyError\u001b[39;00m(\u001b[38;5;124mf\u001b[39m\u001b[38;5;124m\"\u001b[39m\u001b[38;5;124mNone of [\u001b[39m\u001b[38;5;132;01m{\u001b[39;00mkey\u001b[38;5;132;01m}\u001b[39;00m\u001b[38;5;124m] are in the [\u001b[39m\u001b[38;5;132;01m{\u001b[39;00maxis_name\u001b[38;5;132;01m}\u001b[39;00m\u001b[38;5;124m]\u001b[39m\u001b[38;5;124m\"\u001b[39m)\n\u001b[0;32m   6175\u001b[0m not_found \u001b[38;5;241m=\u001b[39m \u001b[38;5;28mlist\u001b[39m(ensure_index(key)[missing_mask\u001b[38;5;241m.\u001b[39mnonzero()[\u001b[38;5;241m0\u001b[39m]]\u001b[38;5;241m.\u001b[39munique())\n\u001b[1;32m-> 6176\u001b[0m \u001b[38;5;28;01mraise\u001b[39;00m \u001b[38;5;167;01mKeyError\u001b[39;00m(\u001b[38;5;124mf\u001b[39m\u001b[38;5;124m\"\u001b[39m\u001b[38;5;132;01m{\u001b[39;00mnot_found\u001b[38;5;132;01m}\u001b[39;00m\u001b[38;5;124m not in index\u001b[39m\u001b[38;5;124m\"\u001b[39m)\n",
      "\u001b[1;31mKeyError\u001b[0m: '[1442, 4778, 391, 12676, 12932, 2308, 10292, 16216, 11653, 2494, 9009, 4269, 7118, 8639, 5824, 15116, 14693, 1109, 11616, 9415, 12578, 3005, 5613, 64, 16471, 1443, 14611, 796, 11757, 2389, 8886, 5421, 10955, 15393, 10835, 7355, 9523, 13919, 9126, 12419, 3096, 3932, 3588, 8308, 502, 16481, 16448, 4669, 9166, 1917, 2687, 9079, 10810, 3573, 7548, 9323, 10793, 7155, 14299, 6020, 665, 11648, 5420, 5959, 5550, 6882, 4337, 5066, 7952, 4674, 7597, 9188, 5217, 11511, 12351, 10257, 9135, 14661, 13788, 1843, 5516, 13992, 8178, 15822, 10918, 7339, 8448, 10358, 11292, 602, 20, 11572, 13989, 2227, 6150, 3231, 3055, 12028, 8007, 7410, 389, 3875, 3716, 5200, 1381, 12890, 8709, 2799, 114, 753, 7181, 8666, 16215, 5473, 4521, 2767, 2625, 7960, 6604, 15832, 10036, 13389, 6591, 16408, 147, 10613, 14023, 14397, 11557, 1585, 8162, 4377, 1628, 2614, 11628, 5554, 5413, 14018, 13888, 4883, 11279, 16330, 6493, 14997, 5835, 9996, 12011, 1781, 11549, 757, 5034, 16309, 6453, 834, 2106, 4238, 14714, 5190, 4187, 9838, 6176, 7600, 14564, 11835, 3053, 5351, 5050, 4682, 5561, 3519, 12317, 16124, 14297, 2292, 14283, 11931, 11176, 8, 12121, 8696, 15779, 14798, 2611, 5954, 4526, 10944, 14315, 2843, 11928, 12721, 6877, 15079, 14917, 2147, 9021, 8569, 5674, 16000, 8806, 12322, 5789, 6277, 5957, 10360, 13979, 12993, 10591, 8033, 5145, 4449, 3538, 8844, 13810, 16067, 11747, 12682, 16444, 13415, 14074, 9118, 98, 8978, 7421, 4263, 3742, 4370, 8565, 6084, 9832, 6369, 5780, 7657, 10213, 9162, 1259, 3136, 7, 4811, 5836, 8542, 8799, 118, 6258, 1698, 13921, 7826, 3583, 13600, 7260, 10599, 8675, 11188, 11243, 7242, 2553, 5227, 2998, 10636, 11090, 3470, 14124, 2416, 4194, 11980, 15566, 2166, 1359, 14384, 8484, 1473, 14670, 1934, 2207, 2296, 8482, 15855, 4643, 12896, 13257, 3510, 3960, 7602, 13467, 2136, 12781, 2367, 11800, 14559, 12971, 15753, 15067, 9183, 5975, 16228, 6128, 13123, 5491, 989, 837, 6727, 3312, 1450, 5424, 6503, 11158, 10986, 5558, 8842, 2938, 15974, 4993, 16070, 10712, 13676, 9626, 4534, 14935, 13941, 11569, 7642, 473, 10033, 13970, 3942, 1810, 15313, 12558, 8444, 4928, 12518, 831, 122, 13205, 2164, 2230, 8807, 4441, 14562, 6514, 9778, 3516, 8424, 10048, 5166, 5993, 491, 4859, 9460, 9071, 12248, 7203, 7629, 1251, 7142, 8230, 8752, 164, 6592, 14087, 16456, 13248, 10846, 8314, 8260, 16294, 9905, 7501, 10907, 13820, 7017, 15279, 3995, 6172, 556, 6855, 9833, 16347, 10984, 1188, 12509, 6049, 8879, 8118, 13660, 8215, 1989, 12097, 9494, 10727, 397, 11211, 5243, 12377, 14052, 1348, 2037, 15149, 12727, 1379, 6713, 1182, 3883, 2033, 2080, 15491, 15570, 9700, 807, 12250, 569, 7043, 4907, 9489, 2507, 11609, 14507, 9611, 6244, 4175, 15732, 14726, 11012, 11762, 7940, 7780, 7302, 13239, 13008, 10786, 519, 4544, 9888, 13075, 1551, 3670, 15755, 13794, 7505, 966, 16106, 1542, 16385, 7688, 15481, 9075, 3090, 8244, 6996, 1412, 8136, 13456, 4453, 4310, 7044, 16328, 1630, 13174, 13651, 14093, 9144, 3282, 7369, 7233, 6239, 7958, 3657, 14314, 4625, 3068, 3592, 13324, 4737, 15022, 3154, 2270, 8404, 3522, 884, 3258, 8793, 9211, 16008, 12029, 8615, 11680, 2918, 13984, 11475, 11690, 2151, 2127, 8500, 932, 8274, 11951, 11992, 7228, 11517, 15840, 282, 6716, 1122, 14434, 4941, 2910, 71, 15617, 8712, 2954, 7251, 11, 11870, 671, 6324, 10521, 6508, 7769, 2329, 9483, 5804, 7079, 3856, 2921, 9241, 16505, 9674, 1277, 4447, 16450, 1643, 14178, 15691, 10144, 7446, 5590, 7516, 8609, 16184, 782, 10327, 13448, 3074, 15213, 12637, 12164, 11447, 10661, 6449, 4478, 14961, 7866, 2117, 9897, 7938, 968, 14489, 2099, 14794, 11456, 12442, 10283, 4999, 163, 8547, 1605, 6096, 8511, 15899, 7885, 8866, 14547, 15118, 2666, 8049, 10572, 5545, 7719, 13365, 14257, 8107, 3113, 2483, 15527, 8797, 3693, 14664, 10865, 3878, 1680, 11915, 3467, 10962, 6458, 16468, 12064, 4356, 1594, 10781, 2878, 3012, 1071, 12205, 4222, 14460, 4120, 3277, 10739, 12924, 5446, 1904, 12023, 1855, 1106, 9807, 9475, 14424, 11376, 4804, 5356, 509, 11698, 16144, 5149, 14183, 14735, 8474, 1211, 3351, 1303, 9854, 3309, 14043, 9766, 10673, 9408, 13192, 8693, 14722, 13431, 8184, 12767, 11210, 864, 12395, 6553, 7085, 5196, 8330, 439, 11570, 1429, 15538, 4289, 12686, 11166, 1589, 7855, 15432, 13175, 12327, 13131, 9695, 6623, 16496, 403, 9973, 15493, 10059, 1878, 12399, 5697, 577, 6642, 12999, 3109, 15345, 9206, 5452, 9665, 4966, 2300, 3133, 8432, 14276, 15454, 2366, 1556, 5205, 12848, 10370, 13489, 4383, 15927, 13444, 13048, 6504, 7185, 849, 11325, 16252, 3585, 11239, 14561, 878, 1980, 9762, 3173, 13595, 2632, 3365, 3143, 7407, 760, 12712, 11070, 6815, 13523, 7686, 5026, 1962, 993, 16253, 5499, 15194, 14416, 2097, 11336, 3500, 5570, 13331, 15710, 5393, 3064, 3156, 8391, 7757, 14849, 10196, 9747, 3881, 9244, 13623, 4609, 1082, 6403, 9447, 6543, 3772, 8397, 14343, 4078, 9845, 13298, 14275, 10009, 13503, 11869, 515, 15074, 11633, 9730, 3530, 6565, 12925, 202, 16121, 2973, 6100, 13713, 5913, 15632, 15893, 12742, 2456, 12835, 10338, 14905, 14569, 8022, 7321, 9078, 15268, 2461, 942, 9171, 9209, 12335, 8218, 10235, 15457, 7078, 10394, 5260, 6712, 12026, 10663, 2403, 13230, 1135, 4657, 3982, 6379, 4746, 2740, 11548, 9753, 4824, 15125, 15403, 6207, 745, 11448, 9473, 7328, 9347, 11604, 9262, 16163, 14887, 2884, 7292, 7213, 7883, 2120, 1176, 11971, 10026, 15083, 3574, 5162, 2267, 14744, 14886, 12459, 1136, 2582, 6797, 9409, 7947, 9680, 5528, 7806, 14217, 1956, 949, 799, 13938, 14046, 11812, 7394, 8366, 4886, 1912, 3317, 5792, 3645, 10093, 4215, 4142, 14532, 14797, 13289, 79, 1021, 4838, 8382, 2400, 6356, 6197, 8035, 23, 4095, 230, 6813, 1047, 1275, 15008, 3673, 1516, 10571, 535, 2353, 9670, 1888, 7998, 16313, 10659, 2475, 14389, 11946, 45, 10979, 15039, 15107, 12091, 11269, 2986, 5021, 2951, 3488, 13485, 8289, 1681, 12624, 7917, 1395, 9497, 393, 8541, 6696, 10387, 3214, 16136, 707, 8619, 1740, 13990, 7734, 13433, 4660, 12129, 11657, 5313, 6830, 6582, 3479, 16239, 4876, 1646, 5963, 6392, 10172, 4208, 2883, 7299, 8064, 8400, 7469, 6573, 1020, 12545, 1512, 1471, 2956, 12071, 1846, 9689, 13702, 13737, 2479, 12938, 9826, 7131, 10175, 10349, 1225, 4084, 7021, 10886, 689, 3927, 9959, 5417, 9552, 3884, 1919, 12947, 13855, 12180, 2041, 12252, 3829, 487, 1529, 8401, 2603, 6865, 11979, 10582, 15506, 14591, 6444, 11032, 6681, 208, 7490, 10823, 8928, 12417, 7776, 258, 5946, 2264, 7230, 14061, 3080, 14916, 15600, 12072, 10262, 8803, 8548, 12514, 9831, 1624, 12898, 14592, 15850, 14986, 1086, 485, 11212, 6119, 15293, 14436, 9642, 5790, 5930, 14007, 13441, 2620, 15953, 7214, 16052, 4140, 5285, 7330, 2601, 15309, 1304, 1229, 8143, 3997, 9561, 7459, 2425, 10220, 10411, 16046, 3600, 532, 8905, 4714, 15739, 10917, 3002, 8514, 11770, 8804, 7116, 8132, 7184, 10381, 6270, 56, 10353, 7206, 3523, 13343, 5818, 13805, 13714, 12710, 8874, 8073, 14373, 10193, 12879, 12965, 9470, 13968, 6989, 11962, 13680, 14630, 7512, 11920, 10997, 15433, 5289, 14484, 9656, 11295, 4459, 12648, 16453, 8550, 10833, 16135, 1656, 9110, 1286, 11766, 14062, 3991, 4318, 14883, 2317, 10365, 7284, 3905, 4338, 8536, 14214, 4610, 10434, 15512, 4738, 4089, 9128, 13126, 5077, 9019, 15315, 545, 6015, 15234, 788, 12432, 14521, 7159, 1617, 6702, 4107, 14054, 2412, 12595, 10826, 13578, 8936, 12232, 5573, 5223, 8303, 10414, 16063, 648, 342, 10905, 12524, 14474, 1695, 8906, 15487, 14782, 7083, 5300, 15113, 4472, 12642, 3336, 8829, 8705, 13796, 2346, 13750, 4869, 2384, 9156, 7957, 4188, 7829, 1401, 5696, 5861, 11312, 9806, 7442, 14715, 13351, 4397, 2339, 14031, 12291, 6952, 14531, 11635, 7937, 5534, 3623, 3297, 9114, 13615, 14631, 13612, 16065, 10346, 12145, 3333, 12319, 6546, 2079, 14776, 4050, 8744, 13127, 16175, 1553, 14606, 12635, 817, 11030, 6157, 13516, 5311, 8017, 15311, 13659, 221, 7944, 1519, 11099, 3217, 4352, 11482, 14318, 2359, 13939, 13450, 7912, 11068, 12609, 13313, 6445, 983, 13952, 7735, 11046, 10844, 4878, 3331, 6684, 11484, 5901, 9417, 6360, 15867, 14335, 102, 15271, 14995, 14796, 9011, 1946, 12068, 12107, 16123, 3061, 10857, 4700, 1775, 5015, 3943, 9708, 10322, 6364, 3228, 12353, 13193, 3779, 5608, 12929, 6743, 2560, 10753, 6699, 8921, 4115, 11045, 10912, 2754, 13520, 12430, 1294, 1905, 4287, 4950, 7473, 8221, 7945, 11219, 273, 9752, 1714, 11563, 6778, 7363, 277, 11371, 11712, 1105, 10214, 84, 14984, 10942, 251, 9842, 9004, 7061, 13236, 2020, 5938, 13303, 3537, 16238, 14824, 14607, 11293, 2745, 2930, 7593, 14815, 7475, 7338, 2676, 4930, 6434, 610, 9430, 1627, 8505, 445, 16414, 9906, 3749, 2444, 13323, 14867, 13150, 292, 584, 593, 11708, 348, 12347, 11647, 8717, 6070, 1649, 13134, 15102, 13721, 187, 3863, 2470, 8746, 4264, 12494, 11282, 13251, 488, 4097, 3435, 2288, 9535, 14082, 5595, 3868, 6563, 9869, 5746, 6313, 10854, 7146, 14325, 6539, 12636, 12828, 11074, 8794, 12415, 9227, 227, 3158, 12093, 1310, 12665, 3964, 15737, 1430, 11095, 3604, 9423, 9442, 13812, 5474, 6226, 15296, 8774, 13053, 12613, 352, 4528, 4870, 2636, 5131, 8358, 1240, 14486, 6082, 14307, 5017, 10951, 2314, 1234, 13002, 12701, 9595, 7432, 13010, 4378, 15217, 13542, 3683, 3445, 15529, 929, 15137, 12536, 15117, 15012, 6827, 11742, 16057, 6216, 11964, 5618, 366, 4911, 413, 530, 10001, 13035, 12104, 2747, 13328, 9353, 883, 2662, 16098, 15610, 9602, 5813, 11459, 1545, 9325, 4396, 13983, 16392, 6832, 658, 3983, 6613, 4436, 7547, 6926, 12245, 13550, 15202, 10682, 2294, 11039, 1323, 12976, 15557, 7665, 3897, 814, 4051, 13639, 11402, 13670, 7841, 15321, 5104, 2010, 16318, 11576, 15196, 3952, 14848, 6685, 15928, 1151, 4932, 16159, 2856, 1199, 6821, 1625, 9477, 4565, 12266, 2349, 2511, 5092, 14118, 11241, 10313, 15399, 11972, 2933, 2222, 14952, 7144, 14740, 8195, 14624, 10271, 2363, 12517, 6703, 4400, 8110, 6095, 10832, 10792, 4172, 10890, 8025, 4562, 4426, 4056, 14216, 11077, 3505, 16022, 6385, 5503, 11204, 15037, 252, 5079, 6416, 12258, 5106, 10398, 12954, 11850, 9856, 8044, 7862, 16112, 10108, 13869, 2738, 15061, 6175, 3256, 4292, 8101, 14773, 358, 2645, 10221, 15091, 6945, 14422, 11575, 14133, 8248, 985, 5340, 14265, 13705, 4211, 7860, 14346, 1880, 11398, 14537, 10956, 7349, 11175, 14826, 4921, 12916, 4275, 4556, 4049, 1335, 14040, 10535, 1786, 826, 13583, 14802, 9584, 4607, 10038, 4463, 10759, 8196, 8961, 8241, 214, 2326, 4165, 15456, 7797, 12221, 934, 2771, 6697, 12646, 7956, 7026, 13255, 11629, 7722, 8348, 15988, 8611, 1659, 9779, 14289, 5186, 4343, 11135, 12253, 7481, 4412, 8798, 16255, 13374, 13043, 6165, 13411, 4039, 4183, 12090, 952, 7626, 228, 4506, 16289, 7435, 338, 16016, 6629, 12050, 1816, 5798, 13200, 12035, 5434, 15721, 16042, 10720, 1972, 13469, 16341, 13019, 15818, 15152, 1195, 673, 10077, 601, 3037, 12115, 2235, 4072, 5229, 5678, 15777, 4118, 10514, 4446, 846, 10194, 1602, 14042, 4132, 11467, 8966, 4763, 3718, 7132, 2760, 9127, 13468, 7025, 14172, 6957, 11509, 11707, 16398, 8167, 11504, 12216, 1841, 13419, 13025, 7453, 2694, 1218, 8933, 1760, 13238, 1845, 10837, 5338, 16049, 2804, 1003, 9024, 15616, 10419, 14756, 10878, 3568, 141, 8090, 12480, 9563, 7532, 8108, 11111, 9968, 14614, 8563, 5481, 14471, 5717, 14734, 1665, 11522, 5492, 2558, 1657, 7430, 2891, 644, 13449, 2254, 5749, 2158, 8163, 3677, 241, 6054, 6995, 16176, 4686, 8571, 11197, 14658, 8408, 2371, 15870, 6466, 12824, 13679, 954, 6575, 5080, 15762, 15587, 12044, 8513, 9850, 5918, 16504, 4598, 10527, 6664, 13597, 3717, 15135, 1153, 7696, 4676, 15429, 756, 5781, 2453, 7129, 7546, 13696, 6261, 7239, 11198, 14743, 13312, 3798, 5770, 4445, 5153, 14657, 6487, 7514, 15364, 14915, 9330, 2736, 1949, 9885, 1534, 827, 9184, 6930, 16413, 978, 7140, 6680, 2201, 2065, 11622, 14192, 7164, 5867, 13297, 12814, 6173, 2589, 5295, 2948, 12720, 1731, 6968, 15347, 2599, 14632, 8161, 15839, 8963, 10822, 10037, 10709, 3630, 10915, 11471, 15757, 10563, 15437, 2304, 13414, 14097, 11660, 8699, 1414, 8708, 10181, 765, 8217, 9596, 6544, 12711, 7035, 591, 2718, 4764, 7274, 4831, 9113, 12860, 11019, 15048, 13898, 6972, 4373, 2711, 10581, 6529, 459, 5185, 11011, 3387, 14623, 16204, 4581, 3050, 14341, 417, 12508, 6233, 10850, 4803, 3224, 3447, 8176, 7143, 5640, 11264, 13475, 8559, 10544, 2917, 12874, 7753, 4439, 3528, 695, 15120, 3396, 5694, 7357, 10910, 14030, 2549, 16173, 8770, 7618, 16402, 33, 289, 15015, 14226, 7414, 5521, 1933, 12989, 5399, 14653, 6116, 12542, 14808, 10959, 7766, 11207, 3706, 7989, 10489, 10964, 10672, 11537, 5382, 15103, 1312, 1794, 1590, 9945, 7877, 13338, 15466, 8160, 13354, 2196, 15696, 1737, 668, 6969, 2442, 9381, 15577, 15519, 7575, 12794, 15647, 4410, 10106, 14729, 7272, 13225, 1387, 4512, 4173, 4600, 13666, 10828, 8932, 8065, 4920, 6456, 10812, 11993, 2140, 12671, 7707, 12238, 525, 6783, 14071, 4205, 12766, 1222, 13759, 15842, 12610, 1169, 15547, 13280, 6133, 2113, 2064, 5923, 7034, 7844, 12974, 3153, 9681, 16369, 13969, 15145, 11723, 4111, 2255, 8849, 11547, 6764, 15488, 4906, 6162, 5891, 2118, 5958, 10937, 13772, 5495, 11071, 16236, 7694, 16351, 11646, 9938, 14126, 8897, 15834, 9725, 1050, 3700, 7805, 11297, 2656, 10029, 1523, 6810, 5325, 4048, 1503, 8904, 4367, 5929, 892, 12303, 1637, 5357, 16149, 13114, 8005, 6564, 898, 7399, 14522, 3366, 819, 15179, 12295, 12485, 2375, 5391, 11460, 14786, 10250, 2765, 13006, 7509, 6209, 11974, 12729, 12752, 9641, 16422, 3619, 6850, 14015, 16205, 8278, 171, 9667, 9466, 3871, 9402, 4146, 3984, 15314, 11718, 13980, 2787, 7721, 13031, 10162, 6902, 3581, 808, 2156, 5411, 3836, 9940, 14739, 10684, 196, 6315, 11585, 2502, 13994, 11134, 8378, 6626, 6417, 1095, 13399, 9581, 3438, 4583, 12080, 13811, 3649, 5651, 9949, 169, 8170, 8237, 10936, 5980, 16251, 10209, 1224, 15609, 13740, 15278, 13017, 787, 11912, 13642, 7648, 8863, 12833, 10403, 16350, 3417, 13372, 6688, 1686, 10386, 6935, 15354, 2835, 7295, 4075, 4855, 8102, 705, 11384, 7997, 9193, 5699, 14108, 7265, 5955, 9592, 9793, 13249, 1231, 6624, 15693, 5693, 3123, 11109, 6024, 2376, 2809, 11185, 15530, 1063, 9271, 14141, 11795, 9536, 9719, 15383, 5266, 14885, 16437, 6817, 7637, 12907, 6327, 2469, 426, 15596, 15300, 15489, 557, 12921, 3518, 5169, 14999, 1487, 14895, 1615, 10396, 11948, 7250, 4997, 3912, 12791, 13751, 14481, 8254, 8392, 4185, 2862, 9138, 402, 9282, 11644, 5027, 8914, 9756, 16257, 16324, 12468, 4164, 10043, 1930, 4080, 4277, 2806, 1089, 188, 14864, 16475, 8975, 6852, 13848, 384, 5691, 1399, 15507, 926, 3335, 6598, 13789, 10166, 7443, 2062, 14227, 6847, 12111, 301, 14593, 14376, 3618, 5860, 9446, 3408, 505, 8220, 16376, 12046, 6512, 7684, 14435, 7105, 11590, 10651, 13319, 10329, 10139, 9566, 6486, 7900, 4135, 5866, 10749, 10269, 5811, 7645, 716, 6171, 2963, 11596, 14908, 8088, 5723, 6873, 7770, 7928, 1175, 8324, 10755, 15656, 1863, 4234, 3172, 9041, 7178, 10294, 13377, 161, 5003, 3213, 4597, 15095, 12371, 1647, 10251, 7903, 6884, 15041, 274, 12521, 8835, 4313, 16091, 12504, 6494, 9546, 9577, 3833, 11004, 10397, 5896, 14263, 15607, 16278, 3267, 2807, 14993, 13346, 939, 5001, 14272, 7557, 4286, 4143, 8716, 7857, 12580, 887, 1744, 10851, 14273, 7199, 6966, 6368, 9741, 9543, 4745, 8577, 5969, 5670, 139, 14609, 16018, 15108, 4887, 131, 15761, 15717, 1815, 12552, 647, 637, 15115, 4614, 9974, 11961, 16495, 4790, 11510, 7610, 14790, 8277, 11502, 9696, 128, 7899, 13864, 3901, 2210, 1440, 5231, 8420, 7226, 6988, 13147, 12707, 4589, 10227, 244, 4134, 8833, 15124, 10690, 12967, 6185, 14775, 8129, 13673, 804, 13856, 5375, 16425, 14310, 677, 10825, 14364, 8157, 1997, 15524, 9167, 11906, 11470, 9534, 13077, 9125, 12060, 14677, 4918, 13044, 5903, 14640, 13179, 8121, 9131, 4380, 11272, 15076, 6297, 6111, 16354, 7109, 13440, 14433, 603, 10619, 15999, 11055, 15390, 8626, 7136, 5585, 3654, 6701, 1141, 8126, 7023, 12249, 11079, 536, 218, 4251, 7876, 4753, 13413, 4863, 9822, 2218, 2402, 12251, 4761, 14085, 11792, 9652, 748, 4579, 5684, 15716, 14140, 10169, 14415, 9468, 10819, 15033, 12605, 8206, 15598, 5721, 1179, 15511, 10969, 12049, 12585, 4615, 6272, 12447, 5148, 2517, 10205, 10961, 15356, 12185, 9081, 1684, 9005, 6669, 11222, 10743, 6545, 3489, 14153, 5438, 12868, 9555, 4802, 7275, 5320, 10827, 11393, 13438, 8560, 5637, 15809, 14021, 8075, 10729, 15663, 11894, 5248, 8216, 5456, 386, 14224, 7691, 8089, 10080, 16030, 13421, 7479, 3385, 3738, 8290, 14387, 7843, 12887, 2258, 4454, 13472, 57, 11661, 12799, 2152, 1158, 4280, 14839, 11882, 3218, 3925, 12849, 4489, 5498, 3726, 6433, 6213, 10949, 775, 15539, 7462, 2341, 7907, 11814, 13037, 11863, 14963, 3263, 11060, 5803, 16263, 2981, 2408, 77, 8124, 8694, 5621, 4751, 6618, 5926, 800, 16355, 10242, 3308, 7153, 5728, 3112, 11927, 7630, 14327, 10219, 15679, 15128, 9852, 5852, 8425, 6936, 15462, 10967, 10362, 1441, 11729, 3437, 11705, 9875, 5315, 1568, 4020, 9213, 14838, 1742, 1498, 322, 10940, 13311, 3075, 2879, 2871, 10670, 12241, 3507, 5053, 3040, 10141, 9172, 1242, 15518, 12990, 9373, 10664, 3682, 1034, 15895, 1398, 872, 10511, 8520, 94, 15453, 15187, 15685, 12226, 15477, 14044, 5837, 11078, 14570] not in index'"
     ]
    }
   ],
   "source": [
    "# 데이터 분할 수=1\n",
    "split = StratifiedShuffleSplit(n_splits=1, test_size = 0.2, random_state = 9)\n",
    "for train_index, test_index in split.split(housing, housing[\"income_cat\"]):\n",
    "    strat_train_set = housing.loc[train_index]\n",
    "    strat_test_set = housing.loc[test_index]\n",
    "strat_train_set.info()"
   ]
  },
  {
   "cell_type": "code",
   "execution_count": null,
   "id": "88cfd35f",
   "metadata": {},
   "outputs": [],
   "source": [
    "for set_ in (strat_train_set, strat_test_set):\n",
    "    set_.drop(\"income_cat\", axis=1, inplace=True)"
   ]
  },
  {
   "cell_type": "code",
   "execution_count": null,
   "id": "9d9e9fef",
   "metadata": {},
   "outputs": [],
   "source": [
    "# 3단계, 데이터 탐색\n",
    "housing = strat_train_set.copy()"
   ]
  },
  {
   "cell_type": "code",
   "execution_count": null,
   "id": "bcac1491",
   "metadata": {},
   "outputs": [],
   "source": [
    "# 단순 산점도\n",
    "housing.plot(kind=\"scatter\", x=\"longitude\", y=\"latitude\", color = \"green\")"
   ]
  },
  {
   "cell_type": "code",
   "execution_count": null,
   "id": "12d1bde3",
   "metadata": {},
   "outputs": [],
   "source": [
    "housing.plot(kind=\"scatter\", x=\"longitude\", y=\"latitude\", color = \"green\", alpha = 0.2)\n",
    "# 밀집구역 확인"
   ]
  },
  {
   "cell_type": "code",
   "execution_count": null,
   "id": "dc3889d4",
   "metadata": {},
   "outputs": [],
   "source": [
    "housing.plot(kind=\"scatter\", x=\"longitude\", y=\"latitude\", alpha = 0.2,\n",
    "            s=housing[\"population\"]/100, label=\"population\", c=\"median_house_value\", cmap=plt.get_cmap(\"jet\"), colorbar = True,\n",
    "            sharex=False)"
   ]
  },
  {
   "cell_type": "code",
   "execution_count": null,
   "id": "52652fc7",
   "metadata": {},
   "outputs": [],
   "source": [
    "# 주택 상관관계 확인\n",
    "corr_matrix = housing.corr()\n",
    "corr_matrix"
   ]
  },
  {
   "cell_type": "code",
   "execution_count": null,
   "id": "1c1fd214",
   "metadata": {},
   "outputs": [],
   "source": [
    "# seaborn으로 상관관계 활용\n",
    "sns.heatmap(housing.corr(), annot=True, vmax = 1, vmin=-1)\n",
    "plt.figure(figsize = (16,16))"
   ]
  },
  {
   "cell_type": "code",
   "execution_count": null,
   "id": "229a437b",
   "metadata": {},
   "outputs": [],
   "source": [
    "from pandas.plotting import scatter_matrix\n",
    "scatter_matrix(housing[[\"population\", \"total_rooms\", \"households\",\"median_income\",\"median_house_value\"]],alpha=0.5, \n",
    "               figsize=(15,12) ,color = \"green\")\n",
    "plt.show()"
   ]
  },
  {
   "cell_type": "code",
   "execution_count": null,
   "id": "a3c5622b",
   "metadata": {},
   "outputs": [],
   "source": [
    "# 상관관계 높은 특성\n",
    "housing.plot(kind = \"scatter\", x=\"median_income\", y=\"median_house_value\", alpha=0.1)"
   ]
  },
  {
   "cell_type": "code",
   "execution_count": null,
   "id": "6525a940",
   "metadata": {},
   "outputs": [],
   "source": [
    "# 가구당 인원 특성\n",
    "housing[\"rooms_per_household\"] = housing[\"total_rooms\"]/housing[\"households\"]\n",
    "housing.plot(kind = \"scatter\", x=\"rooms_per_household\", y=\"median_house_value\", alpha=0.1)"
   ]
  },
  {
   "cell_type": "code",
   "execution_count": 127,
   "id": "9fe13294",
   "metadata": {},
   "outputs": [
    {
     "ename": "KeyError",
     "evalue": "'median_house_value'",
     "output_type": "error",
     "traceback": [
      "\u001b[1;31m---------------------------------------------------------------------------\u001b[0m",
      "\u001b[1;31mKeyError\u001b[0m                                  Traceback (most recent call last)",
      "File \u001b[1;32mC:\\Anaconda3\\lib\\site-packages\\pandas\\core\\indexes\\base.py:3803\u001b[0m, in \u001b[0;36mIndex.get_loc\u001b[1;34m(self, key, method, tolerance)\u001b[0m\n\u001b[0;32m   3802\u001b[0m \u001b[38;5;28;01mtry\u001b[39;00m:\n\u001b[1;32m-> 3803\u001b[0m     \u001b[38;5;28;01mreturn\u001b[39;00m \u001b[38;5;28;43mself\u001b[39;49m\u001b[38;5;241;43m.\u001b[39;49m\u001b[43m_engine\u001b[49m\u001b[38;5;241;43m.\u001b[39;49m\u001b[43mget_loc\u001b[49m\u001b[43m(\u001b[49m\u001b[43mcasted_key\u001b[49m\u001b[43m)\u001b[49m\n\u001b[0;32m   3804\u001b[0m \u001b[38;5;28;01mexcept\u001b[39;00m \u001b[38;5;167;01mKeyError\u001b[39;00m \u001b[38;5;28;01mas\u001b[39;00m err:\n",
      "File \u001b[1;32mC:\\Anaconda3\\lib\\site-packages\\pandas\\_libs\\index.pyx:138\u001b[0m, in \u001b[0;36mpandas._libs.index.IndexEngine.get_loc\u001b[1;34m()\u001b[0m\n",
      "File \u001b[1;32mC:\\Anaconda3\\lib\\site-packages\\pandas\\_libs\\index.pyx:165\u001b[0m, in \u001b[0;36mpandas._libs.index.IndexEngine.get_loc\u001b[1;34m()\u001b[0m\n",
      "File \u001b[1;32mpandas\\_libs\\hashtable_class_helper.pxi:5745\u001b[0m, in \u001b[0;36mpandas._libs.hashtable.PyObjectHashTable.get_item\u001b[1;34m()\u001b[0m\n",
      "File \u001b[1;32mpandas\\_libs\\hashtable_class_helper.pxi:5753\u001b[0m, in \u001b[0;36mpandas._libs.hashtable.PyObjectHashTable.get_item\u001b[1;34m()\u001b[0m\n",
      "\u001b[1;31mKeyError\u001b[0m: 'median_house_value'",
      "\nThe above exception was the direct cause of the following exception:\n",
      "\u001b[1;31mKeyError\u001b[0m                                  Traceback (most recent call last)",
      "Cell \u001b[1;32mIn [127], line 3\u001b[0m\n\u001b[0;32m      1\u001b[0m \u001b[38;5;66;03m# 가구당 침실 특성\u001b[39;00m\n\u001b[0;32m      2\u001b[0m housing[\u001b[38;5;124m\"\u001b[39m\u001b[38;5;124mbedrooms_per_room\u001b[39m\u001b[38;5;124m\"\u001b[39m] \u001b[38;5;241m=\u001b[39m housing[\u001b[38;5;124m\"\u001b[39m\u001b[38;5;124mtotal_bedrooms\u001b[39m\u001b[38;5;124m\"\u001b[39m]\u001b[38;5;241m/\u001b[39mhousing[\u001b[38;5;124m\"\u001b[39m\u001b[38;5;124mtotal_rooms\u001b[39m\u001b[38;5;124m\"\u001b[39m]\n\u001b[1;32m----> 3\u001b[0m \u001b[43mhousing\u001b[49m\u001b[38;5;241;43m.\u001b[39;49m\u001b[43mplot\u001b[49m\u001b[43m(\u001b[49m\u001b[43mkind\u001b[49m\u001b[43m \u001b[49m\u001b[38;5;241;43m=\u001b[39;49m\u001b[43m \u001b[49m\u001b[38;5;124;43m\"\u001b[39;49m\u001b[38;5;124;43mscatter\u001b[39;49m\u001b[38;5;124;43m\"\u001b[39;49m\u001b[43m,\u001b[49m\u001b[43m \u001b[49m\u001b[43mx\u001b[49m\u001b[38;5;241;43m=\u001b[39;49m\u001b[38;5;124;43m\"\u001b[39;49m\u001b[38;5;124;43mbedrooms_per_room\u001b[39;49m\u001b[38;5;124;43m\"\u001b[39;49m\u001b[43m,\u001b[49m\u001b[43m \u001b[49m\u001b[43my\u001b[49m\u001b[38;5;241;43m=\u001b[39;49m\u001b[38;5;124;43m\"\u001b[39;49m\u001b[38;5;124;43mmedian_house_value\u001b[39;49m\u001b[38;5;124;43m\"\u001b[39;49m\u001b[43m,\u001b[49m\u001b[43m \u001b[49m\u001b[43malpha\u001b[49m\u001b[38;5;241;43m=\u001b[39;49m\u001b[38;5;241;43m0.1\u001b[39;49m\u001b[43m)\u001b[49m\n",
      "File \u001b[1;32mC:\\Anaconda3\\lib\\site-packages\\pandas\\plotting\\_core.py:945\u001b[0m, in \u001b[0;36mPlotAccessor.__call__\u001b[1;34m(self, *args, **kwargs)\u001b[0m\n\u001b[0;32m    943\u001b[0m \u001b[38;5;28;01mif\u001b[39;00m kind \u001b[38;5;129;01min\u001b[39;00m \u001b[38;5;28mself\u001b[39m\u001b[38;5;241m.\u001b[39m_dataframe_kinds:\n\u001b[0;32m    944\u001b[0m     \u001b[38;5;28;01mif\u001b[39;00m \u001b[38;5;28misinstance\u001b[39m(data, ABCDataFrame):\n\u001b[1;32m--> 945\u001b[0m         \u001b[38;5;28;01mreturn\u001b[39;00m plot_backend\u001b[38;5;241m.\u001b[39mplot(data, x\u001b[38;5;241m=\u001b[39mx, y\u001b[38;5;241m=\u001b[39my, kind\u001b[38;5;241m=\u001b[39mkind, \u001b[38;5;241m*\u001b[39m\u001b[38;5;241m*\u001b[39mkwargs)\n\u001b[0;32m    946\u001b[0m     \u001b[38;5;28;01melse\u001b[39;00m:\n\u001b[0;32m    947\u001b[0m         \u001b[38;5;28;01mraise\u001b[39;00m \u001b[38;5;167;01mValueError\u001b[39;00m(\u001b[38;5;124mf\u001b[39m\u001b[38;5;124m\"\u001b[39m\u001b[38;5;124mplot kind \u001b[39m\u001b[38;5;132;01m{\u001b[39;00mkind\u001b[38;5;132;01m}\u001b[39;00m\u001b[38;5;124m can only be used for data frames\u001b[39m\u001b[38;5;124m\"\u001b[39m)\n",
      "File \u001b[1;32mC:\\Anaconda3\\lib\\site-packages\\pandas\\plotting\\_matplotlib\\__init__.py:71\u001b[0m, in \u001b[0;36mplot\u001b[1;34m(data, kind, **kwargs)\u001b[0m\n\u001b[0;32m     69\u001b[0m         kwargs[\u001b[38;5;124m\"\u001b[39m\u001b[38;5;124max\u001b[39m\u001b[38;5;124m\"\u001b[39m] \u001b[38;5;241m=\u001b[39m \u001b[38;5;28mgetattr\u001b[39m(ax, \u001b[38;5;124m\"\u001b[39m\u001b[38;5;124mleft_ax\u001b[39m\u001b[38;5;124m\"\u001b[39m, ax)\n\u001b[0;32m     70\u001b[0m plot_obj \u001b[38;5;241m=\u001b[39m PLOT_CLASSES[kind](data, \u001b[38;5;241m*\u001b[39m\u001b[38;5;241m*\u001b[39mkwargs)\n\u001b[1;32m---> 71\u001b[0m \u001b[43mplot_obj\u001b[49m\u001b[38;5;241;43m.\u001b[39;49m\u001b[43mgenerate\u001b[49m\u001b[43m(\u001b[49m\u001b[43m)\u001b[49m\n\u001b[0;32m     72\u001b[0m plot_obj\u001b[38;5;241m.\u001b[39mdraw()\n\u001b[0;32m     73\u001b[0m \u001b[38;5;28;01mreturn\u001b[39;00m plot_obj\u001b[38;5;241m.\u001b[39mresult\n",
      "File \u001b[1;32mC:\\Anaconda3\\lib\\site-packages\\pandas\\plotting\\_matplotlib\\core.py:452\u001b[0m, in \u001b[0;36mMPLPlot.generate\u001b[1;34m(self)\u001b[0m\n\u001b[0;32m    450\u001b[0m \u001b[38;5;28mself\u001b[39m\u001b[38;5;241m.\u001b[39m_compute_plot_data()\n\u001b[0;32m    451\u001b[0m \u001b[38;5;28mself\u001b[39m\u001b[38;5;241m.\u001b[39m_setup_subplots()\n\u001b[1;32m--> 452\u001b[0m \u001b[38;5;28;43mself\u001b[39;49m\u001b[38;5;241;43m.\u001b[39;49m\u001b[43m_make_plot\u001b[49m\u001b[43m(\u001b[49m\u001b[43m)\u001b[49m\n\u001b[0;32m    453\u001b[0m \u001b[38;5;28mself\u001b[39m\u001b[38;5;241m.\u001b[39m_add_table()\n\u001b[0;32m    454\u001b[0m \u001b[38;5;28mself\u001b[39m\u001b[38;5;241m.\u001b[39m_make_legend()\n",
      "File \u001b[1;32mC:\\Anaconda3\\lib\\site-packages\\pandas\\plotting\\_matplotlib\\core.py:1261\u001b[0m, in \u001b[0;36mScatterPlot._make_plot\u001b[1;34m(self)\u001b[0m\n\u001b[0;32m   1257\u001b[0m \u001b[38;5;28;01melse\u001b[39;00m:\n\u001b[0;32m   1258\u001b[0m     label \u001b[38;5;241m=\u001b[39m \u001b[38;5;28;01mNone\u001b[39;00m\n\u001b[0;32m   1259\u001b[0m scatter \u001b[38;5;241m=\u001b[39m ax\u001b[38;5;241m.\u001b[39mscatter(\n\u001b[0;32m   1260\u001b[0m     data[x]\u001b[38;5;241m.\u001b[39mvalues,\n\u001b[1;32m-> 1261\u001b[0m     \u001b[43mdata\u001b[49m\u001b[43m[\u001b[49m\u001b[43my\u001b[49m\u001b[43m]\u001b[49m\u001b[38;5;241m.\u001b[39mvalues,\n\u001b[0;32m   1262\u001b[0m     c\u001b[38;5;241m=\u001b[39mc_values,\n\u001b[0;32m   1263\u001b[0m     label\u001b[38;5;241m=\u001b[39mlabel,\n\u001b[0;32m   1264\u001b[0m     cmap\u001b[38;5;241m=\u001b[39mcmap,\n\u001b[0;32m   1265\u001b[0m     norm\u001b[38;5;241m=\u001b[39mnorm,\n\u001b[0;32m   1266\u001b[0m     \u001b[38;5;241m*\u001b[39m\u001b[38;5;241m*\u001b[39m\u001b[38;5;28mself\u001b[39m\u001b[38;5;241m.\u001b[39mkwds,\n\u001b[0;32m   1267\u001b[0m )\n\u001b[0;32m   1268\u001b[0m \u001b[38;5;28;01mif\u001b[39;00m cb:\n\u001b[0;32m   1269\u001b[0m     cbar_label \u001b[38;5;241m=\u001b[39m c \u001b[38;5;28;01mif\u001b[39;00m c_is_column \u001b[38;5;28;01melse\u001b[39;00m \u001b[38;5;124m\"\u001b[39m\u001b[38;5;124m\"\u001b[39m\n",
      "File \u001b[1;32mC:\\Anaconda3\\lib\\site-packages\\pandas\\core\\frame.py:3805\u001b[0m, in \u001b[0;36mDataFrame.__getitem__\u001b[1;34m(self, key)\u001b[0m\n\u001b[0;32m   3803\u001b[0m \u001b[38;5;28;01mif\u001b[39;00m \u001b[38;5;28mself\u001b[39m\u001b[38;5;241m.\u001b[39mcolumns\u001b[38;5;241m.\u001b[39mnlevels \u001b[38;5;241m>\u001b[39m \u001b[38;5;241m1\u001b[39m:\n\u001b[0;32m   3804\u001b[0m     \u001b[38;5;28;01mreturn\u001b[39;00m \u001b[38;5;28mself\u001b[39m\u001b[38;5;241m.\u001b[39m_getitem_multilevel(key)\n\u001b[1;32m-> 3805\u001b[0m indexer \u001b[38;5;241m=\u001b[39m \u001b[38;5;28;43mself\u001b[39;49m\u001b[38;5;241;43m.\u001b[39;49m\u001b[43mcolumns\u001b[49m\u001b[38;5;241;43m.\u001b[39;49m\u001b[43mget_loc\u001b[49m\u001b[43m(\u001b[49m\u001b[43mkey\u001b[49m\u001b[43m)\u001b[49m\n\u001b[0;32m   3806\u001b[0m \u001b[38;5;28;01mif\u001b[39;00m is_integer(indexer):\n\u001b[0;32m   3807\u001b[0m     indexer \u001b[38;5;241m=\u001b[39m [indexer]\n",
      "File \u001b[1;32mC:\\Anaconda3\\lib\\site-packages\\pandas\\core\\indexes\\base.py:3805\u001b[0m, in \u001b[0;36mIndex.get_loc\u001b[1;34m(self, key, method, tolerance)\u001b[0m\n\u001b[0;32m   3803\u001b[0m     \u001b[38;5;28;01mreturn\u001b[39;00m \u001b[38;5;28mself\u001b[39m\u001b[38;5;241m.\u001b[39m_engine\u001b[38;5;241m.\u001b[39mget_loc(casted_key)\n\u001b[0;32m   3804\u001b[0m \u001b[38;5;28;01mexcept\u001b[39;00m \u001b[38;5;167;01mKeyError\u001b[39;00m \u001b[38;5;28;01mas\u001b[39;00m err:\n\u001b[1;32m-> 3805\u001b[0m     \u001b[38;5;28;01mraise\u001b[39;00m \u001b[38;5;167;01mKeyError\u001b[39;00m(key) \u001b[38;5;28;01mfrom\u001b[39;00m \u001b[38;5;21;01merr\u001b[39;00m\n\u001b[0;32m   3806\u001b[0m \u001b[38;5;28;01mexcept\u001b[39;00m \u001b[38;5;167;01mTypeError\u001b[39;00m:\n\u001b[0;32m   3807\u001b[0m     \u001b[38;5;66;03m# If we have a listlike key, _check_indexing_error will raise\u001b[39;00m\n\u001b[0;32m   3808\u001b[0m     \u001b[38;5;66;03m#  InvalidIndexError. Otherwise we fall through and re-raise\u001b[39;00m\n\u001b[0;32m   3809\u001b[0m     \u001b[38;5;66;03m#  the TypeError.\u001b[39;00m\n\u001b[0;32m   3810\u001b[0m     \u001b[38;5;28mself\u001b[39m\u001b[38;5;241m.\u001b[39m_check_indexing_error(key)\n",
      "\u001b[1;31mKeyError\u001b[0m: 'median_house_value'"
     ]
    },
    {
     "data": {
      "image/png": "[encoded data removed]",
      "text/plain": [
       "<Figure size 640x480 with 1 Axes>"
      ]
     },
     "metadata": {},
     "output_type": "display_data"
    }
   ],
   "source": [
    "# 가구당 침실 특성\n",
    "housing[\"bedrooms_per_room\"] = housing[\"total_bedrooms\"]/housing[\"total_rooms\"]\n",
    "housing.plot(kind = \"scatter\", x=\"bedrooms_per_room\", y=\"median_house_value\", alpha=0.1)"
   ]
  },
  {
   "cell_type": "code",
   "execution_count": null,
   "id": "b65cad63",
   "metadata": {},
   "outputs": [],
   "source": [
    "# 가정 수 당 인구 특성\n",
    "housing[\"population_per_household\"] = housing[\"population\"]/housing[\"households\"]\n",
    "housing.plot(kind = \"scatter\", x=\"population_per_household\", y=\"median_house_value\", alpha=0.1)"
   ]
  },
  {
   "cell_type": "markdown",
   "id": "5dd26b93",
   "metadata": {},
   "source": [
    "#### 상관관계 분석 및 데이터 전처리"
   ]
  },
  {
   "cell_type": "code",
   "execution_count": null,
   "id": "6c1b8998",
   "metadata": {},
   "outputs": [],
   "source": [
    "corr_matrix = housing.corr()\n",
    "corr_matrix[\"median_house_value\"].sort_values(ascending=False)"
   ]
  },
  {
   "cell_type": "code",
   "execution_count": null,
   "id": "68877272",
   "metadata": {},
   "outputs": [],
   "source": [
    "# 알고리즘을 위한 데이터 준비\n",
    "housing = strat_train_set.drop(\"median_house_value\", axis = 1)\n",
    "housing_labels = strat_train_set[\"median_house_value\"].copy()"
   ]
  },
  {
   "cell_type": "code",
   "execution_count": null,
   "id": "8f688f9f",
   "metadata": {},
   "outputs": [],
   "source": [
    "# 데이터 전처리\n",
    "# 결측치 확인\n",
    "housing.isna()"
   ]
  },
  {
   "cell_type": "code",
   "execution_count": null,
   "id": "33f32ff0",
   "metadata": {},
   "outputs": [],
   "source": [
    "# dropna로 제거\n",
    "housing.dropna(subset=[\"total_bedrooms\"])"
   ]
  },
  {
   "cell_type": "code",
   "execution_count": null,
   "id": "9e6612aa",
   "metadata": {},
   "outputs": [],
   "source": [
    "# drop으로 행을 제거\n",
    "drop_col = housing.drop(\"total_bedrooms\",axis = 1)"
   ]
  },
  {
   "cell_type": "code",
   "execution_count": null,
   "id": "c8f56e54",
   "metadata": {},
   "outputs": [],
   "source": [
    "# 중앙값으로 변환\n",
    "median = housing[\"total_bedrooms\"].median()"
   ]
  },
  {
   "cell_type": "code",
   "execution_count": 128,
   "id": "57baa8e9",
   "metadata": {},
   "outputs": [],
   "source": [
    "housing[\"total_bedrooms\"].fillna(median, inplace=True)"
   ]
  },
  {
   "cell_type": "code",
   "execution_count": 129,
   "id": "de54c804",
   "metadata": {},
   "outputs": [],
   "source": [
    "# 사이킷런의 simpleimputer 사용\n",
    "\n",
    "from sklearn.impute import SimpleImputer\n",
    "imputer = SimpleImputer(strategy=\"median\")"
   ]
  },
  {
   "cell_type": "code",
   "execution_count": 130,
   "id": "df7b800a",
   "metadata": {},
   "outputs": [],
   "source": [
    "# 해안 인접여부 제거\n",
    "housing_num = housing.drop(\"ocean_proximity\", axis = 1)"
   ]
  },
  {
   "cell_type": "code",
   "execution_count": 131,
   "id": "eb1bb6f4",
   "metadata": {},
   "outputs": [
    {
     "data": {
      "text/html": [
       "<style>#sk-container-id-21 {color: black;background-color: white;}#sk-container-id-21 pre{padding: 0;}#sk-container-id-21 div.sk-toggleable {background-color: white;}#sk-container-id-21 label.sk-toggleable__label {cursor: pointer;display: block;width: 100%;margin-bottom: 0;padding: 0.3em;box-sizing: border-box;text-align: center;}#sk-container-id-21 label.sk-toggleable__label-arrow:before {content: \"▸\";float: left;margin-right: 0.25em;color: #696969;}#sk-container-id-21 label.sk-toggleable__label-arrow:hover:before {color: black;}#sk-container-id-21 div.sk-estimator:hover label.sk-toggleable__label-arrow:before {color: black;}#sk-container-id-21 div.sk-toggleable__content {max-height: 0;max-width: 0;overflow: hidden;text-align: left;background-color: #f0f8ff;}#sk-container-id-21 div.sk-toggleable__content pre {margin: 0.2em;color: black;border-radius: 0.25em;background-color: #f0f8ff;}#sk-container-id-21 input.sk-toggleable__control:checked~div.sk-toggleable__content {max-height: 200px;max-width: 100%;overflow: auto;}#sk-container-id-21 input.sk-toggleable__control:checked~label.sk-toggleable__label-arrow:before {content: \"▾\";}#sk-container-id-21 div.sk-estimator input.sk-toggleable__control:checked~label.sk-toggleable__label {background-color: #d4ebff;}#sk-container-id-21 div.sk-label input.sk-toggleable__control:checked~label.sk-toggleable__label {background-color: #d4ebff;}#sk-container-id-21 input.sk-hidden--visually {border: 0;clip: rect(1px 1px 1px 1px);clip: rect(1px, 1px, 1px, 1px);height: 1px;margin: -1px;overflow: hidden;padding: 0;position: absolute;width: 1px;}#sk-container-id-21 div.sk-estimator {font-family: monospace;background-color: #f0f8ff;border: 1px dotted black;border-radius: 0.25em;box-sizing: border-box;margin-bottom: 0.5em;}#sk-container-id-21 div.sk-estimator:hover {background-color: #d4ebff;}#sk-container-id-21 div.sk-parallel-item::after {content: \"\";width: 100%;border-bottom: 1px solid gray;flex-grow: 1;}#sk-container-id-21 div.sk-label:hover label.sk-toggleable__label {background-color: #d4ebff;}#sk-container-id-21 div.sk-serial::before {content: \"\";position: absolute;border-left: 1px solid gray;box-sizing: border-box;top: 0;bottom: 0;left: 50%;z-index: 0;}#sk-container-id-21 div.sk-serial {display: flex;flex-direction: column;align-items: center;background-color: white;padding-right: 0.2em;padding-left: 0.2em;position: relative;}#sk-container-id-21 div.sk-item {position: relative;z-index: 1;}#sk-container-id-21 div.sk-parallel {display: flex;align-items: stretch;justify-content: center;background-color: white;position: relative;}#sk-container-id-21 div.sk-item::before, #sk-container-id-21 div.sk-parallel-item::before {content: \"\";position: absolute;border-left: 1px solid gray;box-sizing: border-box;top: 0;bottom: 0;left: 50%;z-index: -1;}#sk-container-id-21 div.sk-parallel-item {display: flex;flex-direction: column;z-index: 1;position: relative;background-color: white;}#sk-container-id-21 div.sk-parallel-item:first-child::after {align-self: flex-end;width: 50%;}#sk-container-id-21 div.sk-parallel-item:last-child::after {align-self: flex-start;width: 50%;}#sk-container-id-21 div.sk-parallel-item:only-child::after {width: 0;}#sk-container-id-21 div.sk-dashed-wrapped {border: 1px dashed gray;margin: 0 0.4em 0.5em 0.4em;box-sizing: border-box;padding-bottom: 0.4em;background-color: white;}#sk-container-id-21 div.sk-label label {font-family: monospace;font-weight: bold;display: inline-block;line-height: 1.2em;}#sk-container-id-21 div.sk-label-container {text-align: center;}#sk-container-id-21 div.sk-container {/* jupyter's `normalize.less` sets `[hidden] { display: none; }` but bootstrap.min.css set `[hidden] { display: none !important; }` so we also need the `!important` here to be able to override the default hidden behavior on the sphinx rendered scikit-learn.org. See: https://github.com/scikit-learn/scikit-learn/issues/21755 */display: inline-block !important;position: relative;}#sk-container-id-21 div.sk-text-repr-fallback {display: none;}</style><div id=\"sk-container-id-21\" class=\"sk-top-container\"><div class=\"sk-text-repr-fallback\"><pre>SimpleImputer(strategy=&#x27;median&#x27;)</pre><b>In a Jupyter environment, please rerun this cell to show the HTML representation or trust the notebook. <br />On GitHub, the HTML representation is unable to render, please try loading this page with nbviewer.org.</b></div><div class=\"sk-container\" hidden><div class=\"sk-item\"><div class=\"sk-estimator sk-toggleable\"><input class=\"sk-toggleable__control sk-hidden--visually\" id=\"sk-estimator-id-24\" type=\"checkbox\" checked><label for=\"sk-estimator-id-24\" class=\"sk-toggleable__label sk-toggleable__label-arrow\">SimpleImputer</label><div class=\"sk-toggleable__content\"><pre>SimpleImputer(strategy=&#x27;median&#x27;)</pre></div></div></div></div></div>"
      ],
      "text/plain": [
       "SimpleImputer(strategy='median')"
      ]
     },
     "execution_count": 131,
     "metadata": {},
     "output_type": "execute_result"
    }
   ],
   "source": [
    "# 훈련데이터에 적용\n",
    "imputer.fit(housing_num)"
   ]
  },
  {
   "cell_type": "code",
   "execution_count": 132,
   "id": "b92132ec",
   "metadata": {},
   "outputs": [
    {
     "data": {
      "text/plain": [
       "array([-1.18500000e+02,  3.42600000e+01,  2.90000000e+01,  2.13350000e+03,\n",
       "        4.35000000e+02,  1.16450000e+03,  4.09000000e+02,  3.53635000e+00,\n",
       "        3.00000000e+00,  2.03074875e-01])"
      ]
     },
     "execution_count": 132,
     "metadata": {},
     "output_type": "execute_result"
    }
   ],
   "source": [
    "# 객체 데이터에 저장\n",
    "imputer.statistics_"
   ]
  },
  {
   "cell_type": "code",
   "execution_count": 133,
   "id": "6500410b",
   "metadata": {},
   "outputs": [
    {
     "name": "stderr",
     "output_type": "stream",
     "text": [
      "C:\\Users\\임채원\\AppData\\Local\\Temp\\ipykernel_13520\\3605723347.py:1: FutureWarning: The default value of numeric_only in DataFrame.median is deprecated. In a future version, it will default to False. In addition, specifying 'numeric_only=None' is deprecated. Select only valid columns or specify the value of numeric_only to silence this warning.\n",
      "  housing_num.median().values\n"
     ]
    },
    {
     "data": {
      "text/plain": [
       "array([-1.18500000e+02,  3.42600000e+01,  2.90000000e+01,  2.13350000e+03,\n",
       "        4.35000000e+02,  1.16450000e+03,  4.09000000e+02,  3.53635000e+00,\n",
       "        2.03074875e-01])"
      ]
     },
     "execution_count": 133,
     "metadata": {},
     "output_type": "execute_result"
    }
   ],
   "source": [
    "housing_num.median().values"
   ]
  },
  {
   "cell_type": "code",
   "execution_count": 134,
   "id": "8f5ffe56",
   "metadata": {},
   "outputs": [
    {
     "data": {
      "text/html": [
       "<div>\n",
       "<style scoped>\n",
       "    .dataframe tbody tr th:only-of-type {\n",
       "        vertical-align: middle;\n",
       "    }\n",
       "\n",
       "    .dataframe tbody tr th {\n",
       "        vertical-align: top;\n",
       "    }\n",
       "\n",
       "    .dataframe thead th {\n",
       "        text-align: right;\n",
       "    }\n",
       "</style>\n",
       "<table border=\"1\" class=\"dataframe\">\n",
       "  <thead>\n",
       "    <tr style=\"text-align: right;\">\n",
       "      <th></th>\n",
       "      <th>longitude</th>\n",
       "      <th>latitude</th>\n",
       "      <th>housing_median_age</th>\n",
       "      <th>total_rooms</th>\n",
       "      <th>total_bedrooms</th>\n",
       "      <th>population</th>\n",
       "      <th>households</th>\n",
       "      <th>median_income</th>\n",
       "      <th>income_cat</th>\n",
       "      <th>bedrooms_per_room</th>\n",
       "    </tr>\n",
       "  </thead>\n",
       "  <tbody>\n",
       "    <tr>\n",
       "      <th>6927</th>\n",
       "      <td>-118.07</td>\n",
       "      <td>34.00</td>\n",
       "      <td>42.0</td>\n",
       "      <td>1392.0</td>\n",
       "      <td>351.0</td>\n",
       "      <td>1471.0</td>\n",
       "      <td>348.0</td>\n",
       "      <td>2.6300</td>\n",
       "      <td>2.0</td>\n",
       "      <td>0.252155</td>\n",
       "    </tr>\n",
       "    <tr>\n",
       "      <th>19037</th>\n",
       "      <td>-121.99</td>\n",
       "      <td>38.36</td>\n",
       "      <td>35.0</td>\n",
       "      <td>2728.0</td>\n",
       "      <td>451.0</td>\n",
       "      <td>1290.0</td>\n",
       "      <td>452.0</td>\n",
       "      <td>3.2768</td>\n",
       "      <td>3.0</td>\n",
       "      <td>0.165323</td>\n",
       "    </tr>\n",
       "    <tr>\n",
       "      <th>4851</th>\n",
       "      <td>-118.30</td>\n",
       "      <td>34.03</td>\n",
       "      <td>40.0</td>\n",
       "      <td>1695.0</td>\n",
       "      <td>374.0</td>\n",
       "      <td>1138.0</td>\n",
       "      <td>357.0</td>\n",
       "      <td>2.7125</td>\n",
       "      <td>2.0</td>\n",
       "      <td>0.220649</td>\n",
       "    </tr>\n",
       "    <tr>\n",
       "      <th>6956</th>\n",
       "      <td>-118.06</td>\n",
       "      <td>33.98</td>\n",
       "      <td>50.0</td>\n",
       "      <td>1146.0</td>\n",
       "      <td>238.0</td>\n",
       "      <td>579.0</td>\n",
       "      <td>213.0</td>\n",
       "      <td>2.9583</td>\n",
       "      <td>2.0</td>\n",
       "      <td>0.207679</td>\n",
       "    </tr>\n",
       "    <tr>\n",
       "      <th>1087</th>\n",
       "      <td>-121.83</td>\n",
       "      <td>39.72</td>\n",
       "      <td>52.0</td>\n",
       "      <td>1890.0</td>\n",
       "      <td>420.0</td>\n",
       "      <td>974.0</td>\n",
       "      <td>383.0</td>\n",
       "      <td>1.6827</td>\n",
       "      <td>2.0</td>\n",
       "      <td>0.222222</td>\n",
       "    </tr>\n",
       "    <tr>\n",
       "      <th>...</th>\n",
       "      <td>...</td>\n",
       "      <td>...</td>\n",
       "      <td>...</td>\n",
       "      <td>...</td>\n",
       "      <td>...</td>\n",
       "      <td>...</td>\n",
       "      <td>...</td>\n",
       "      <td>...</td>\n",
       "      <td>...</td>\n",
       "      <td>...</td>\n",
       "    </tr>\n",
       "    <tr>\n",
       "      <th>1374</th>\n",
       "      <td>-122.12</td>\n",
       "      <td>38.01</td>\n",
       "      <td>50.0</td>\n",
       "      <td>1300.0</td>\n",
       "      <td>263.0</td>\n",
       "      <td>691.0</td>\n",
       "      <td>239.0</td>\n",
       "      <td>3.9519</td>\n",
       "      <td>3.0</td>\n",
       "      <td>0.202308</td>\n",
       "    </tr>\n",
       "    <tr>\n",
       "      <th>2796</th>\n",
       "      <td>-118.05</td>\n",
       "      <td>36.64</td>\n",
       "      <td>34.0</td>\n",
       "      <td>2090.0</td>\n",
       "      <td>478.0</td>\n",
       "      <td>896.0</td>\n",
       "      <td>426.0</td>\n",
       "      <td>2.0357</td>\n",
       "      <td>2.0</td>\n",
       "      <td>0.228708</td>\n",
       "    </tr>\n",
       "    <tr>\n",
       "      <th>9677</th>\n",
       "      <td>-118.98</td>\n",
       "      <td>37.65</td>\n",
       "      <td>18.0</td>\n",
       "      <td>1795.0</td>\n",
       "      <td>416.0</td>\n",
       "      <td>483.0</td>\n",
       "      <td>208.0</td>\n",
       "      <td>4.5375</td>\n",
       "      <td>4.0</td>\n",
       "      <td>0.231755</td>\n",
       "    </tr>\n",
       "    <tr>\n",
       "      <th>3628</th>\n",
       "      <td>-118.44</td>\n",
       "      <td>34.24</td>\n",
       "      <td>35.0</td>\n",
       "      <td>2344.0</td>\n",
       "      <td>435.0</td>\n",
       "      <td>1531.0</td>\n",
       "      <td>399.0</td>\n",
       "      <td>3.7250</td>\n",
       "      <td>3.0</td>\n",
       "      <td>0.185580</td>\n",
       "    </tr>\n",
       "    <tr>\n",
       "      <th>6961</th>\n",
       "      <td>-118.04</td>\n",
       "      <td>33.99</td>\n",
       "      <td>36.0</td>\n",
       "      <td>3531.0</td>\n",
       "      <td>754.0</td>\n",
       "      <td>1613.0</td>\n",
       "      <td>697.0</td>\n",
       "      <td>3.2359</td>\n",
       "      <td>3.0</td>\n",
       "      <td>0.213537</td>\n",
       "    </tr>\n",
       "  </tbody>\n",
       "</table>\n",
       "<p>16512 rows × 10 columns</p>\n",
       "</div>"
      ],
      "text/plain": [
       "       longitude  latitude  housing_median_age  total_rooms  total_bedrooms  \\\n",
       "6927     -118.07     34.00                42.0       1392.0           351.0   \n",
       "19037    -121.99     38.36                35.0       2728.0           451.0   \n",
       "4851     -118.30     34.03                40.0       1695.0           374.0   \n",
       "6956     -118.06     33.98                50.0       1146.0           238.0   \n",
       "1087     -121.83     39.72                52.0       1890.0           420.0   \n",
       "...          ...       ...                 ...          ...             ...   \n",
       "1374     -122.12     38.01                50.0       1300.0           263.0   \n",
       "2796     -118.05     36.64                34.0       2090.0           478.0   \n",
       "9677     -118.98     37.65                18.0       1795.0           416.0   \n",
       "3628     -118.44     34.24                35.0       2344.0           435.0   \n",
       "6961     -118.04     33.99                36.0       3531.0           754.0   \n",
       "\n",
       "       population  households  median_income  income_cat  bedrooms_per_room  \n",
       "6927       1471.0       348.0         2.6300         2.0           0.252155  \n",
       "19037      1290.0       452.0         3.2768         3.0           0.165323  \n",
       "4851       1138.0       357.0         2.7125         2.0           0.220649  \n",
       "6956        579.0       213.0         2.9583         2.0           0.207679  \n",
       "1087        974.0       383.0         1.6827         2.0           0.222222  \n",
       "...           ...         ...            ...         ...                ...  \n",
       "1374        691.0       239.0         3.9519         3.0           0.202308  \n",
       "2796        896.0       426.0         2.0357         2.0           0.228708  \n",
       "9677        483.0       208.0         4.5375         4.0           0.231755  \n",
       "3628       1531.0       399.0         3.7250         3.0           0.185580  \n",
       "6961       1613.0       697.0         3.2359         3.0           0.213537  \n",
       "\n",
       "[16512 rows x 10 columns]"
      ]
     },
     "execution_count": 134,
     "metadata": {},
     "output_type": "execute_result"
    }
   ],
   "source": [
    "# 변형한 feature 정리\n",
    "housing_tr = pd.DataFrame(imputer.transform(housing_num), columns=housing_num.columns, index=housing_num.index)\n",
    "housing_tr"
   ]
  },
  {
   "cell_type": "code",
   "execution_count": 135,
   "id": "72792a17",
   "metadata": {},
   "outputs": [
    {
     "name": "stdout",
     "output_type": "stream",
     "text": [
      "<class 'pandas.core.frame.DataFrame'>\n",
      "Int64Index: 16512 entries, 6927 to 6961\n",
      "Data columns (total 11 columns):\n",
      " #   Column              Non-Null Count  Dtype   \n",
      "---  ------              --------------  -----   \n",
      " 0   longitude           16512 non-null  float64 \n",
      " 1   latitude            16512 non-null  float64 \n",
      " 2   housing_median_age  16512 non-null  float64 \n",
      " 3   total_rooms         16512 non-null  float64 \n",
      " 4   total_bedrooms      16512 non-null  float64 \n",
      " 5   population          16512 non-null  float64 \n",
      " 6   households          16512 non-null  float64 \n",
      " 7   median_income       16512 non-null  float64 \n",
      " 8   ocean_proximity     16512 non-null  object  \n",
      " 9   income_cat          16512 non-null  category\n",
      " 10  bedrooms_per_room   16512 non-null  float64 \n",
      "dtypes: category(1), float64(9), object(1)\n",
      "memory usage: 1.9+ MB\n"
     ]
    }
   ],
   "source": [
    "housing.info()\n",
    "# 범주형 변수 ocean_proximity 확인"
   ]
  },
  {
   "cell_type": "code",
   "execution_count": 136,
   "id": "915b0a23",
   "metadata": {},
   "outputs": [
    {
     "data": {
      "text/html": [
       "<div>\n",
       "<style scoped>\n",
       "    .dataframe tbody tr th:only-of-type {\n",
       "        vertical-align: middle;\n",
       "    }\n",
       "\n",
       "    .dataframe tbody tr th {\n",
       "        vertical-align: top;\n",
       "    }\n",
       "\n",
       "    .dataframe thead th {\n",
       "        text-align: right;\n",
       "    }\n",
       "</style>\n",
       "<table border=\"1\" class=\"dataframe\">\n",
       "  <thead>\n",
       "    <tr style=\"text-align: right;\">\n",
       "      <th></th>\n",
       "      <th>ocean_proximity</th>\n",
       "    </tr>\n",
       "  </thead>\n",
       "  <tbody>\n",
       "    <tr>\n",
       "      <th>6927</th>\n",
       "      <td>&lt;1H OCEAN</td>\n",
       "    </tr>\n",
       "    <tr>\n",
       "      <th>19037</th>\n",
       "      <td>INLAND</td>\n",
       "    </tr>\n",
       "    <tr>\n",
       "      <th>4851</th>\n",
       "      <td>&lt;1H OCEAN</td>\n",
       "    </tr>\n",
       "    <tr>\n",
       "      <th>6956</th>\n",
       "      <td>&lt;1H OCEAN</td>\n",
       "    </tr>\n",
       "    <tr>\n",
       "      <th>1087</th>\n",
       "      <td>INLAND</td>\n",
       "    </tr>\n",
       "    <tr>\n",
       "      <th>...</th>\n",
       "      <td>...</td>\n",
       "    </tr>\n",
       "    <tr>\n",
       "      <th>1374</th>\n",
       "      <td>NEAR BAY</td>\n",
       "    </tr>\n",
       "    <tr>\n",
       "      <th>2796</th>\n",
       "      <td>INLAND</td>\n",
       "    </tr>\n",
       "    <tr>\n",
       "      <th>9677</th>\n",
       "      <td>INLAND</td>\n",
       "    </tr>\n",
       "    <tr>\n",
       "      <th>3628</th>\n",
       "      <td>&lt;1H OCEAN</td>\n",
       "    </tr>\n",
       "    <tr>\n",
       "      <th>6961</th>\n",
       "      <td>&lt;1H OCEAN</td>\n",
       "    </tr>\n",
       "  </tbody>\n",
       "</table>\n",
       "<p>16512 rows × 1 columns</p>\n",
       "</div>"
      ],
      "text/plain": [
       "      ocean_proximity\n",
       "6927        <1H OCEAN\n",
       "19037          INLAND\n",
       "4851        <1H OCEAN\n",
       "6956        <1H OCEAN\n",
       "1087           INLAND\n",
       "...               ...\n",
       "1374         NEAR BAY\n",
       "2796           INLAND\n",
       "9677           INLAND\n",
       "3628        <1H OCEAN\n",
       "6961        <1H OCEAN\n",
       "\n",
       "[16512 rows x 1 columns]"
      ]
     },
     "execution_count": 136,
     "metadata": {},
     "output_type": "execute_result"
    }
   ],
   "source": [
    "housing[[\"ocean_proximity\"]].head(10)\n",
    "housing_cat = housing[[\"ocean_proximity\"]]\n",
    "housing_cat"
   ]
  },
  {
   "cell_type": "code",
   "execution_count": 137,
   "id": "7fdbbfc7",
   "metadata": {},
   "outputs": [],
   "source": [
    "# OrdinalEncoder?\n",
    "from sklearn.preprocessing import OrdinalEncoder\n",
    "ordinal_encoder = OrdinalEncoder()"
   ]
  },
  {
   "cell_type": "code",
   "execution_count": 138,
   "id": "e5a04b60",
   "metadata": {},
   "outputs": [
    {
     "data": {
      "text/plain": [
       "[array(['<1H OCEAN', 'INLAND', 'ISLAND', 'NEAR BAY', 'NEAR OCEAN'],\n",
       "       dtype=object)]"
      ]
     },
     "execution_count": 138,
     "metadata": {},
     "output_type": "execute_result"
    }
   ],
   "source": [
    "# 범주형 피쳐를 위해 사용합니다\n",
    "housing_cat_encoded = ordinal_encoder.fit_transform(housing_cat)\n",
    "housing_cat_encoded[:10]\n",
    "ordinal_encoder.categories_\n"
   ]
  },
  {
   "cell_type": "code",
   "execution_count": 139,
   "id": "df0cf572",
   "metadata": {},
   "outputs": [],
   "source": [
    "# 원핫 인코더 사용\n",
    "from sklearn.preprocessing import OneHotEncoder\n",
    "cat_encoder = OneHotEncoder()\n"
   ]
  },
  {
   "cell_type": "code",
   "execution_count": 140,
   "id": "b506d810",
   "metadata": {},
   "outputs": [
    {
     "data": {
      "text/plain": [
       "<16512x5 sparse matrix of type '<class 'numpy.float64'>'\n",
       "\twith 16512 stored elements in Compressed Sparse Row format>"
      ]
     },
     "execution_count": 140,
     "metadata": {},
     "output_type": "execute_result"
    }
   ],
   "source": [
    "# sparse row로 압축\n",
    "housing_cat_onehot = cat_encoder.fit_transform(housing_cat)\n",
    "housing_cat_onehot"
   ]
  },
  {
   "cell_type": "code",
   "execution_count": 141,
   "id": "d4f19ddf",
   "metadata": {},
   "outputs": [
    {
     "data": {
      "text/plain": [
       "array([[1., 0., 0., 0., 0.],\n",
       "       [0., 1., 0., 0., 0.],\n",
       "       [1., 0., 0., 0., 0.],\n",
       "       ...,\n",
       "       [0., 1., 0., 0., 0.],\n",
       "       [1., 0., 0., 0., 0.],\n",
       "       [1., 0., 0., 0., 0.]])"
      ]
     },
     "execution_count": 141,
     "metadata": {},
     "output_type": "execute_result"
    }
   ],
   "source": [
    "housing_cat_onehot.toarray()\n",
    "# 넘파이 배열로 변환"
   ]
  },
  {
   "cell_type": "code",
   "execution_count": 142,
   "id": "6155d260",
   "metadata": {},
   "outputs": [
    {
     "data": {
      "text/plain": [
       "[array(['<1H OCEAN', 'INLAND', 'ISLAND', 'NEAR BAY', 'NEAR OCEAN'],\n",
       "       dtype=object)]"
      ]
     },
     "execution_count": 142,
     "metadata": {},
     "output_type": "execute_result"
    }
   ],
   "source": [
    "# 원핫 인코더 카테고리 확인합니다\n",
    "cat_encoder.categories_"
   ]
  },
  {
   "cell_type": "markdown",
   "id": "c9cb460d",
   "metadata": {},
   "source": [
    "#### 전처리 과정을 파이프라인으로 통합"
   ]
  },
  {
   "cell_type": "code",
   "execution_count": 143,
   "id": "70239f72",
   "metadata": {},
   "outputs": [],
   "source": [
    "# 데이터 전처리 과정을 결합한 변환기\n",
    "from sklearn.base import BaseEstimator, TransformerMixin\n",
    "rooms_ix, bedrooms_ix, population_ix, households_ix = 3,4,5,6\n",
    "\n",
    "class CombinedAttributesAdder(BaseEstimator, TransformerMixin):\n",
    "    def __init__(self, add_bedrooms_per_room=None):\n",
    "        self.add_bedrooms_per_room = add_bedrooms_per_room\n",
    "    def fit(self, X=None, y=None):\n",
    "        return self\n",
    "    def transform(self, X=None):\n",
    "        rooms_per_household = X[:, rooms_ix] / X[:, households_ix]\n",
    "        population_per_household = X[:, population_ix] / X[:, households_ix]\n",
    "        \n",
    "        if self.add_bedrooms_per_room:\n",
    "            bedrooms_per_room = X[:, bedrooms_ix] / X[:, rooms_ix]\n",
    "            return np.c_[X, rooms_per_household, population_per_household, bedrooms_per_room]\n",
    "        \n",
    "        else:\n",
    "            return np.c_[X, rooms_per_household, population_per_household]\n",
    "        \n",
    "attr_adder = CombinedAttributesAdder(add_bedrooms_per_room=False)\n",
    "housing_extra_attribs = attr_adder.transform(housing.values)\n"
   ]
  },
  {
   "cell_type": "code",
   "execution_count": 144,
   "id": "1c0b3f13",
   "metadata": {},
   "outputs": [
    {
     "data": {
      "text/plain": [
       "array([[ 0.75019159, -0.76797718,  1.05442867, ...,  0.59270363,\n",
       "        -0.57434017,  0.09864572],\n",
       "       [-1.20274745,  1.27527863,  0.50057941, ..., -0.74344434,\n",
       "         0.24463679, -0.02000692],\n",
       "       [ 0.63560588, -0.75391808,  0.89618602, ...,  0.10789774,\n",
       "        -0.27341027,  0.00882971],\n",
       "       ...,\n",
       "       [ 0.29683074,  0.94254661, -0.84448308, ...,  0.27879135,\n",
       "         1.2885414 , -0.0659691 ],\n",
       "       [ 0.56585806, -0.65550439,  0.50057941, ..., -0.43172748,\n",
       "         0.17997179,  0.06495023],\n",
       "       [ 0.76513755, -0.77266355,  0.57970073, ..., -0.00153488,\n",
       "        -0.14541816, -0.0666528 ]])"
      ]
     },
     "execution_count": 144,
     "metadata": {},
     "output_type": "execute_result"
    }
   ],
   "source": [
    "# feature 스케일링 진행합니다\n",
    "# Standard 스케일러\n",
    "from sklearn.pipeline import Pipeline\n",
    "from sklearn.preprocessing import StandardScaler\n",
    "\n",
    "num_pipeline = Pipeline([\n",
    "    ('imputer', SimpleImputer(strategy=\"median\")),\n",
    "    ('attribss_adder', CombinedAttributesAdder()),\n",
    "    ('std_scaler', StandardScaler()),\n",
    "])\n",
    "# 피쳐 인코딩\n",
    "housing_pipeline = num_pipeline.fit_transform(housing_num)\n",
    "housing_pipeline"
   ]
  },
  {
   "cell_type": "code",
   "execution_count": 145,
   "id": "20f28d8b",
   "metadata": {},
   "outputs": [
    {
     "data": {
      "text/html": [
       "<style>#sk-container-id-22 {color: black;background-color: white;}#sk-container-id-22 pre{padding: 0;}#sk-container-id-22 div.sk-toggleable {background-color: white;}#sk-container-id-22 label.sk-toggleable__label {cursor: pointer;display: block;width: 100%;margin-bottom: 0;padding: 0.3em;box-sizing: border-box;text-align: center;}#sk-container-id-22 label.sk-toggleable__label-arrow:before {content: \"▸\";float: left;margin-right: 0.25em;color: #696969;}#sk-container-id-22 label.sk-toggleable__label-arrow:hover:before {color: black;}#sk-container-id-22 div.sk-estimator:hover label.sk-toggleable__label-arrow:before {color: black;}#sk-container-id-22 div.sk-toggleable__content {max-height: 0;max-width: 0;overflow: hidden;text-align: left;background-color: #f0f8ff;}#sk-container-id-22 div.sk-toggleable__content pre {margin: 0.2em;color: black;border-radius: 0.25em;background-color: #f0f8ff;}#sk-container-id-22 input.sk-toggleable__control:checked~div.sk-toggleable__content {max-height: 200px;max-width: 100%;overflow: auto;}#sk-container-id-22 input.sk-toggleable__control:checked~label.sk-toggleable__label-arrow:before {content: \"▾\";}#sk-container-id-22 div.sk-estimator input.sk-toggleable__control:checked~label.sk-toggleable__label {background-color: #d4ebff;}#sk-container-id-22 div.sk-label input.sk-toggleable__control:checked~label.sk-toggleable__label {background-color: #d4ebff;}#sk-container-id-22 input.sk-hidden--visually {border: 0;clip: rect(1px 1px 1px 1px);clip: rect(1px, 1px, 1px, 1px);height: 1px;margin: -1px;overflow: hidden;padding: 0;position: absolute;width: 1px;}#sk-container-id-22 div.sk-estimator {font-family: monospace;background-color: #f0f8ff;border: 1px dotted black;border-radius: 0.25em;box-sizing: border-box;margin-bottom: 0.5em;}#sk-container-id-22 div.sk-estimator:hover {background-color: #d4ebff;}#sk-container-id-22 div.sk-parallel-item::after {content: \"\";width: 100%;border-bottom: 1px solid gray;flex-grow: 1;}#sk-container-id-22 div.sk-label:hover label.sk-toggleable__label {background-color: #d4ebff;}#sk-container-id-22 div.sk-serial::before {content: \"\";position: absolute;border-left: 1px solid gray;box-sizing: border-box;top: 0;bottom: 0;left: 50%;z-index: 0;}#sk-container-id-22 div.sk-serial {display: flex;flex-direction: column;align-items: center;background-color: white;padding-right: 0.2em;padding-left: 0.2em;position: relative;}#sk-container-id-22 div.sk-item {position: relative;z-index: 1;}#sk-container-id-22 div.sk-parallel {display: flex;align-items: stretch;justify-content: center;background-color: white;position: relative;}#sk-container-id-22 div.sk-item::before, #sk-container-id-22 div.sk-parallel-item::before {content: \"\";position: absolute;border-left: 1px solid gray;box-sizing: border-box;top: 0;bottom: 0;left: 50%;z-index: -1;}#sk-container-id-22 div.sk-parallel-item {display: flex;flex-direction: column;z-index: 1;position: relative;background-color: white;}#sk-container-id-22 div.sk-parallel-item:first-child::after {align-self: flex-end;width: 50%;}#sk-container-id-22 div.sk-parallel-item:last-child::after {align-self: flex-start;width: 50%;}#sk-container-id-22 div.sk-parallel-item:only-child::after {width: 0;}#sk-container-id-22 div.sk-dashed-wrapped {border: 1px dashed gray;margin: 0 0.4em 0.5em 0.4em;box-sizing: border-box;padding-bottom: 0.4em;background-color: white;}#sk-container-id-22 div.sk-label label {font-family: monospace;font-weight: bold;display: inline-block;line-height: 1.2em;}#sk-container-id-22 div.sk-label-container {text-align: center;}#sk-container-id-22 div.sk-container {/* jupyter's `normalize.less` sets `[hidden] { display: none; }` but bootstrap.min.css set `[hidden] { display: none !important; }` so we also need the `!important` here to be able to override the default hidden behavior on the sphinx rendered scikit-learn.org. See: https://github.com/scikit-learn/scikit-learn/issues/21755 */display: inline-block !important;position: relative;}#sk-container-id-22 div.sk-text-repr-fallback {display: none;}</style><div id=\"sk-container-id-22\" class=\"sk-top-container\"><div class=\"sk-text-repr-fallback\"><pre>Pipeline(steps=[(&#x27;imputer&#x27;, SimpleImputer(strategy=&#x27;median&#x27;)),\n",
       "                (&#x27;attribss_adder&#x27;, CombinedAttributesAdder()),\n",
       "                (&#x27;std_scaler&#x27;, StandardScaler())])</pre><b>In a Jupyter environment, please rerun this cell to show the HTML representation or trust the notebook. <br />On GitHub, the HTML representation is unable to render, please try loading this page with nbviewer.org.</b></div><div class=\"sk-container\" hidden><div class=\"sk-item sk-dashed-wrapped\"><div class=\"sk-label-container\"><div class=\"sk-label sk-toggleable\"><input class=\"sk-toggleable__control sk-hidden--visually\" id=\"sk-estimator-id-25\" type=\"checkbox\" ><label for=\"sk-estimator-id-25\" class=\"sk-toggleable__label sk-toggleable__label-arrow\">Pipeline</label><div class=\"sk-toggleable__content\"><pre>Pipeline(steps=[(&#x27;imputer&#x27;, SimpleImputer(strategy=&#x27;median&#x27;)),\n",
       "                (&#x27;attribss_adder&#x27;, CombinedAttributesAdder()),\n",
       "                (&#x27;std_scaler&#x27;, StandardScaler())])</pre></div></div></div><div class=\"sk-serial\"><div class=\"sk-item\"><div class=\"sk-estimator sk-toggleable\"><input class=\"sk-toggleable__control sk-hidden--visually\" id=\"sk-estimator-id-26\" type=\"checkbox\" ><label for=\"sk-estimator-id-26\" class=\"sk-toggleable__label sk-toggleable__label-arrow\">SimpleImputer</label><div class=\"sk-toggleable__content\"><pre>SimpleImputer(strategy=&#x27;median&#x27;)</pre></div></div></div><div class=\"sk-item\"><div class=\"sk-estimator sk-toggleable\"><input class=\"sk-toggleable__control sk-hidden--visually\" id=\"sk-estimator-id-27\" type=\"checkbox\" ><label for=\"sk-estimator-id-27\" class=\"sk-toggleable__label sk-toggleable__label-arrow\">CombinedAttributesAdder</label><div class=\"sk-toggleable__content\"><pre>CombinedAttributesAdder()</pre></div></div></div><div class=\"sk-item\"><div class=\"sk-estimator sk-toggleable\"><input class=\"sk-toggleable__control sk-hidden--visually\" id=\"sk-estimator-id-28\" type=\"checkbox\" ><label for=\"sk-estimator-id-28\" class=\"sk-toggleable__label sk-toggleable__label-arrow\">StandardScaler</label><div class=\"sk-toggleable__content\"><pre>StandardScaler()</pre></div></div></div></div></div></div></div>"
      ],
      "text/plain": [
       "Pipeline(steps=[('imputer', SimpleImputer(strategy='median')),\n",
       "                ('attribss_adder', CombinedAttributesAdder()),\n",
       "                ('std_scaler', StandardScaler())])"
      ]
     },
     "execution_count": 145,
     "metadata": {},
     "output_type": "execute_result"
    }
   ],
   "source": [
    "num_pipeline\n",
    "# 파이프라인 형태 확인"
   ]
  },
  {
   "cell_type": "code",
   "execution_count": 146,
   "id": "6e4a8f2e",
   "metadata": {},
   "outputs": [
    {
     "data": {
      "text/plain": [
       "array([[ 0.75019159, -0.76797718,  1.05442867, ...,  0.        ,\n",
       "         0.        ,  0.        ],\n",
       "       [-1.20274745,  1.27527863,  0.50057941, ...,  0.        ,\n",
       "         0.        ,  0.        ],\n",
       "       [ 0.63560588, -0.75391808,  0.89618602, ...,  0.        ,\n",
       "         0.        ,  0.        ],\n",
       "       ...,\n",
       "       [ 0.29683074,  0.94254661, -0.84448308, ...,  0.        ,\n",
       "         0.        ,  0.        ],\n",
       "       [ 0.56585806, -0.65550439,  0.50057941, ...,  0.        ,\n",
       "         0.        ,  0.        ],\n",
       "       [ 0.76513755, -0.77266355,  0.57970073, ...,  0.        ,\n",
       "         0.        ,  0.        ]])"
      ]
     },
     "execution_count": 146,
     "metadata": {},
     "output_type": "execute_result"
    }
   ],
   "source": [
    "# 전체 파이프라인 설계\n",
    "from sklearn.compose import ColumnTransformer\n",
    "\n",
    "num_attribs = list(housing_num)\n",
    "cat_attribs = [\"ocean_proximity\"]\n",
    "full_pipeline = ColumnTransformer([\n",
    "    (\"num\", num_pipeline, num_attribs),\n",
    "    (\"cat\", OneHotEncoder(), cat_attribs),\n",
    "])\n",
    "# 전처리 총합\n",
    "housing_X = full_pipeline.fit_transform(housing)\n",
    "housing_X\n",
    "\n"
   ]
  },
  {
   "cell_type": "markdown",
   "id": "16662583",
   "metadata": {},
   "source": [
    "#### 모델 선택 및 훈련"
   ]
  },
  {
   "cell_type": "code",
   "execution_count": 147,
   "id": "5c8f1bb0",
   "metadata": {},
   "outputs": [
    {
     "data": {
      "text/html": [
       "<style>#sk-container-id-23 {color: black;background-color: white;}#sk-container-id-23 pre{padding: 0;}#sk-container-id-23 div.sk-toggleable {background-color: white;}#sk-container-id-23 label.sk-toggleable__label {cursor: pointer;display: block;width: 100%;margin-bottom: 0;padding: 0.3em;box-sizing: border-box;text-align: center;}#sk-container-id-23 label.sk-toggleable__label-arrow:before {content: \"▸\";float: left;margin-right: 0.25em;color: #696969;}#sk-container-id-23 label.sk-toggleable__label-arrow:hover:before {color: black;}#sk-container-id-23 div.sk-estimator:hover label.sk-toggleable__label-arrow:before {color: black;}#sk-container-id-23 div.sk-toggleable__content {max-height: 0;max-width: 0;overflow: hidden;text-align: left;background-color: #f0f8ff;}#sk-container-id-23 div.sk-toggleable__content pre {margin: 0.2em;color: black;border-radius: 0.25em;background-color: #f0f8ff;}#sk-container-id-23 input.sk-toggleable__control:checked~div.sk-toggleable__content {max-height: 200px;max-width: 100%;overflow: auto;}#sk-container-id-23 input.sk-toggleable__control:checked~label.sk-toggleable__label-arrow:before {content: \"▾\";}#sk-container-id-23 div.sk-estimator input.sk-toggleable__control:checked~label.sk-toggleable__label {background-color: #d4ebff;}#sk-container-id-23 div.sk-label input.sk-toggleable__control:checked~label.sk-toggleable__label {background-color: #d4ebff;}#sk-container-id-23 input.sk-hidden--visually {border: 0;clip: rect(1px 1px 1px 1px);clip: rect(1px, 1px, 1px, 1px);height: 1px;margin: -1px;overflow: hidden;padding: 0;position: absolute;width: 1px;}#sk-container-id-23 div.sk-estimator {font-family: monospace;background-color: #f0f8ff;border: 1px dotted black;border-radius: 0.25em;box-sizing: border-box;margin-bottom: 0.5em;}#sk-container-id-23 div.sk-estimator:hover {background-color: #d4ebff;}#sk-container-id-23 div.sk-parallel-item::after {content: \"\";width: 100%;border-bottom: 1px solid gray;flex-grow: 1;}#sk-container-id-23 div.sk-label:hover label.sk-toggleable__label {background-color: #d4ebff;}#sk-container-id-23 div.sk-serial::before {content: \"\";position: absolute;border-left: 1px solid gray;box-sizing: border-box;top: 0;bottom: 0;left: 50%;z-index: 0;}#sk-container-id-23 div.sk-serial {display: flex;flex-direction: column;align-items: center;background-color: white;padding-right: 0.2em;padding-left: 0.2em;position: relative;}#sk-container-id-23 div.sk-item {position: relative;z-index: 1;}#sk-container-id-23 div.sk-parallel {display: flex;align-items: stretch;justify-content: center;background-color: white;position: relative;}#sk-container-id-23 div.sk-item::before, #sk-container-id-23 div.sk-parallel-item::before {content: \"\";position: absolute;border-left: 1px solid gray;box-sizing: border-box;top: 0;bottom: 0;left: 50%;z-index: -1;}#sk-container-id-23 div.sk-parallel-item {display: flex;flex-direction: column;z-index: 1;position: relative;background-color: white;}#sk-container-id-23 div.sk-parallel-item:first-child::after {align-self: flex-end;width: 50%;}#sk-container-id-23 div.sk-parallel-item:last-child::after {align-self: flex-start;width: 50%;}#sk-container-id-23 div.sk-parallel-item:only-child::after {width: 0;}#sk-container-id-23 div.sk-dashed-wrapped {border: 1px dashed gray;margin: 0 0.4em 0.5em 0.4em;box-sizing: border-box;padding-bottom: 0.4em;background-color: white;}#sk-container-id-23 div.sk-label label {font-family: monospace;font-weight: bold;display: inline-block;line-height: 1.2em;}#sk-container-id-23 div.sk-label-container {text-align: center;}#sk-container-id-23 div.sk-container {/* jupyter's `normalize.less` sets `[hidden] { display: none; }` but bootstrap.min.css set `[hidden] { display: none !important; }` so we also need the `!important` here to be able to override the default hidden behavior on the sphinx rendered scikit-learn.org. See: https://github.com/scikit-learn/scikit-learn/issues/21755 */display: inline-block !important;position: relative;}#sk-container-id-23 div.sk-text-repr-fallback {display: none;}</style><div id=\"sk-container-id-23\" class=\"sk-top-container\"><div class=\"sk-text-repr-fallback\"><pre>LinearRegression()</pre><b>In a Jupyter environment, please rerun this cell to show the HTML representation or trust the notebook. <br />On GitHub, the HTML representation is unable to render, please try loading this page with nbviewer.org.</b></div><div class=\"sk-container\" hidden><div class=\"sk-item\"><div class=\"sk-estimator sk-toggleable\"><input class=\"sk-toggleable__control sk-hidden--visually\" id=\"sk-estimator-id-29\" type=\"checkbox\" checked><label for=\"sk-estimator-id-29\" class=\"sk-toggleable__label sk-toggleable__label-arrow\">LinearRegression</label><div class=\"sk-toggleable__content\"><pre>LinearRegression()</pre></div></div></div></div></div>"
      ],
      "text/plain": [
       "LinearRegression()"
      ]
     },
     "execution_count": 147,
     "metadata": {},
     "output_type": "execute_result"
    }
   ],
   "source": [
    "from sklearn.linear_model import LinearRegression\n",
    "\n",
    "# 선형 회귀부터 진행합니다\n",
    "lin_reg = LinearRegression()\n",
    "lin_reg.fit(housing_X, housing_labels)"
   ]
  },
  {
   "cell_type": "code",
   "execution_count": 148,
   "id": "45d4006c",
   "metadata": {},
   "outputs": [
    {
     "name": "stdout",
     "output_type": "stream",
     "text": [
      "7번 col까지 임시 예측값 : [160990.09501683 154370.05287519 177042.89756487 194421.22153081\n",
      "  81940.8629635  156185.86648234 373853.44328332]\n",
      "7번 col까지 임시 레이블 : [143800.0, 117600.0, 150000.0, 172600.0, 78700.0, 90400.0, 360600.0]\n"
     ]
    }
   ],
   "source": [
    "data = housing.iloc[:7]\n",
    "labels = housing_labels.iloc[:7]\n",
    "data_prepared = full_pipeline.transform(data)\n",
    "print(f\"7번 col까지 임시 예측값 : {lin_reg.predict(data_prepared)}\")\n",
    "print(f\"7번 col까지 임시 레이블 : {list(labels)}\")"
   ]
  },
  {
   "cell_type": "code",
   "execution_count": 149,
   "id": "7195d465",
   "metadata": {},
   "outputs": [
    {
     "data": {
      "text/plain": [
       "array([160990.09501683, 154370.05287519, 177042.89756487, ...,\n",
       "       154987.70942447, 203910.09437828, 223303.59310733])"
      ]
     },
     "execution_count": 149,
     "metadata": {},
     "output_type": "execute_result"
    }
   ],
   "source": [
    "# 훈련셋 평가 - MSE\n",
    "from sklearn.metrics import mean_squared_error\n",
    "housing_predictions = lin_reg.predict(housing_X)\n",
    "housing_predictions"
   ]
  },
  {
   "cell_type": "code",
   "execution_count": 150,
   "id": "9ce1690f",
   "metadata": {},
   "outputs": [
    {
     "data": {
      "text/plain": [
       "4625112209.74785"
      ]
     },
     "execution_count": 150,
     "metadata": {},
     "output_type": "execute_result"
    }
   ],
   "source": [
    "# MSE 값 출력합니다\n",
    "lin_mse = mean_squared_error(housing_labels, housing_predictions)\n",
    "lin_mse"
   ]
  },
  {
   "cell_type": "code",
   "execution_count": 151,
   "id": "b13577cd",
   "metadata": {},
   "outputs": [
    {
     "data": {
      "text/plain": [
       "68008.17752114705"
      ]
     },
     "execution_count": 151,
     "metadata": {},
     "output_type": "execute_result"
    }
   ],
   "source": [
    "# RMSE 계산합니다\n",
    "lin_rmse = np.sqrt(lin_mse)\n",
    "lin_rmse"
   ]
  },
  {
   "cell_type": "code",
   "execution_count": 152,
   "id": "e890b87d",
   "metadata": {},
   "outputs": [
    {
     "data": {
      "text/html": [
       "<style>#sk-container-id-24 {color: black;background-color: white;}#sk-container-id-24 pre{padding: 0;}#sk-container-id-24 div.sk-toggleable {background-color: white;}#sk-container-id-24 label.sk-toggleable__label {cursor: pointer;display: block;width: 100%;margin-bottom: 0;padding: 0.3em;box-sizing: border-box;text-align: center;}#sk-container-id-24 label.sk-toggleable__label-arrow:before {content: \"▸\";float: left;margin-right: 0.25em;color: #696969;}#sk-container-id-24 label.sk-toggleable__label-arrow:hover:before {color: black;}#sk-container-id-24 div.sk-estimator:hover label.sk-toggleable__label-arrow:before {color: black;}#sk-container-id-24 div.sk-toggleable__content {max-height: 0;max-width: 0;overflow: hidden;text-align: left;background-color: #f0f8ff;}#sk-container-id-24 div.sk-toggleable__content pre {margin: 0.2em;color: black;border-radius: 0.25em;background-color: #f0f8ff;}#sk-container-id-24 input.sk-toggleable__control:checked~div.sk-toggleable__content {max-height: 200px;max-width: 100%;overflow: auto;}#sk-container-id-24 input.sk-toggleable__control:checked~label.sk-toggleable__label-arrow:before {content: \"▾\";}#sk-container-id-24 div.sk-estimator input.sk-toggleable__control:checked~label.sk-toggleable__label {background-color: #d4ebff;}#sk-container-id-24 div.sk-label input.sk-toggleable__control:checked~label.sk-toggleable__label {background-color: #d4ebff;}#sk-container-id-24 input.sk-hidden--visually {border: 0;clip: rect(1px 1px 1px 1px);clip: rect(1px, 1px, 1px, 1px);height: 1px;margin: -1px;overflow: hidden;padding: 0;position: absolute;width: 1px;}#sk-container-id-24 div.sk-estimator {font-family: monospace;background-color: #f0f8ff;border: 1px dotted black;border-radius: 0.25em;box-sizing: border-box;margin-bottom: 0.5em;}#sk-container-id-24 div.sk-estimator:hover {background-color: #d4ebff;}#sk-container-id-24 div.sk-parallel-item::after {content: \"\";width: 100%;border-bottom: 1px solid gray;flex-grow: 1;}#sk-container-id-24 div.sk-label:hover label.sk-toggleable__label {background-color: #d4ebff;}#sk-container-id-24 div.sk-serial::before {content: \"\";position: absolute;border-left: 1px solid gray;box-sizing: border-box;top: 0;bottom: 0;left: 50%;z-index: 0;}#sk-container-id-24 div.sk-serial {display: flex;flex-direction: column;align-items: center;background-color: white;padding-right: 0.2em;padding-left: 0.2em;position: relative;}#sk-container-id-24 div.sk-item {position: relative;z-index: 1;}#sk-container-id-24 div.sk-parallel {display: flex;align-items: stretch;justify-content: center;background-color: white;position: relative;}#sk-container-id-24 div.sk-item::before, #sk-container-id-24 div.sk-parallel-item::before {content: \"\";position: absolute;border-left: 1px solid gray;box-sizing: border-box;top: 0;bottom: 0;left: 50%;z-index: -1;}#sk-container-id-24 div.sk-parallel-item {display: flex;flex-direction: column;z-index: 1;position: relative;background-color: white;}#sk-container-id-24 div.sk-parallel-item:first-child::after {align-self: flex-end;width: 50%;}#sk-container-id-24 div.sk-parallel-item:last-child::after {align-self: flex-start;width: 50%;}#sk-container-id-24 div.sk-parallel-item:only-child::after {width: 0;}#sk-container-id-24 div.sk-dashed-wrapped {border: 1px dashed gray;margin: 0 0.4em 0.5em 0.4em;box-sizing: border-box;padding-bottom: 0.4em;background-color: white;}#sk-container-id-24 div.sk-label label {font-family: monospace;font-weight: bold;display: inline-block;line-height: 1.2em;}#sk-container-id-24 div.sk-label-container {text-align: center;}#sk-container-id-24 div.sk-container {/* jupyter's `normalize.less` sets `[hidden] { display: none; }` but bootstrap.min.css set `[hidden] { display: none !important; }` so we also need the `!important` here to be able to override the default hidden behavior on the sphinx rendered scikit-learn.org. See: https://github.com/scikit-learn/scikit-learn/issues/21755 */display: inline-block !important;position: relative;}#sk-container-id-24 div.sk-text-repr-fallback {display: none;}</style><div id=\"sk-container-id-24\" class=\"sk-top-container\"><div class=\"sk-text-repr-fallback\"><pre>DecisionTreeRegressor()</pre><b>In a Jupyter environment, please rerun this cell to show the HTML representation or trust the notebook. <br />On GitHub, the HTML representation is unable to render, please try loading this page with nbviewer.org.</b></div><div class=\"sk-container\" hidden><div class=\"sk-item\"><div class=\"sk-estimator sk-toggleable\"><input class=\"sk-toggleable__control sk-hidden--visually\" id=\"sk-estimator-id-30\" type=\"checkbox\" checked><label for=\"sk-estimator-id-30\" class=\"sk-toggleable__label sk-toggleable__label-arrow\">DecisionTreeRegressor</label><div class=\"sk-toggleable__content\"><pre>DecisionTreeRegressor()</pre></div></div></div></div></div>"
      ],
      "text/plain": [
       "DecisionTreeRegressor()"
      ]
     },
     "execution_count": 152,
     "metadata": {},
     "output_type": "execute_result"
    }
   ],
   "source": [
    "# Decision tree 진행\n",
    "\n",
    "from sklearn.tree import DecisionTreeRegressor\n",
    "tree_reg = DecisionTreeRegressor()\n",
    "tree_reg.fit(housing_X, housing_labels)"
   ]
  },
  {
   "cell_type": "code",
   "execution_count": 153,
   "id": "d38aff29",
   "metadata": {},
   "outputs": [
    {
     "data": {
      "text/plain": [
       "array([143800., 117600., 150000., ..., 169800., 178200., 198600.])"
      ]
     },
     "execution_count": 153,
     "metadata": {},
     "output_type": "execute_result"
    }
   ],
   "source": [
    "# 훈련 진행\n",
    "housing_predictions2 = tree_reg.predict(housing_X)\n",
    "housing_predictions2"
   ]
  },
  {
   "cell_type": "code",
   "execution_count": 154,
   "id": "7dd2aa51",
   "metadata": {},
   "outputs": [
    {
     "data": {
      "text/plain": [
       "0.0"
      ]
     },
     "execution_count": 154,
     "metadata": {},
     "output_type": "execute_result"
    }
   ],
   "source": [
    "# MSE, RMSE 점수 계산합니다.\n",
    "tree_mse = mean_squared_error(housing_labels, housing_predictions2)\n",
    "tree_mse"
   ]
  },
  {
   "cell_type": "code",
   "execution_count": 70,
   "id": "28760390",
   "metadata": {},
   "outputs": [
    {
     "data": {
      "text/plain": [
       "0.0"
      ]
     },
     "execution_count": 70,
     "metadata": {},
     "output_type": "execute_result"
    }
   ],
   "source": [
    "tree_rmse = np.sqrt(tree_mse)\n",
    "tree_rmse\n",
    "# 점수가 0 도출"
   ]
  },
  {
   "cell_type": "markdown",
   "id": "0a305fc8",
   "metadata": {},
   "source": [
    "#### cross validation 진행"
   ]
  },
  {
   "cell_type": "code",
   "execution_count": 79,
   "id": "8ca668a5",
   "metadata": {},
   "outputs": [
    {
     "data": {
      "text/plain": [
       "array([-5.35503521e+09, -5.11248567e+09, -5.35084654e+09])"
      ]
     },
     "execution_count": 79,
     "metadata": {},
     "output_type": "execute_result"
    }
   ],
   "source": [
    "from sklearn.model_selection import cross_val_score\n",
    "scores = cross_val_score(tree_reg, housing_X, housing_labels, scoring = \"neg_mean_squared_error\", cv = 3)\n",
    "scores"
   ]
  },
  {
   "cell_type": "code",
   "execution_count": 80,
   "id": "ab4d2a30",
   "metadata": {},
   "outputs": [
    {
     "data": {
      "text/plain": [
       "array([73178.10607032, 71501.6480018 , 73149.48076854])"
      ]
     },
     "execution_count": 80,
     "metadata": {},
     "output_type": "execute_result"
    }
   ],
   "source": [
    "# RMSE 점수\n",
    "tree_rmse_scores = np.sqrt(-scores)\n",
    "tree_rmse_scores"
   ]
  },
  {
   "cell_type": "code",
   "execution_count": 81,
   "id": "dd1f6a00",
   "metadata": {},
   "outputs": [
    {
     "name": "stdout",
     "output_type": "stream",
     "text": [
      "점수 : [73178.10607032 71501.6480018  73149.48076854] \n",
      " 평균 : 72609.74494688625 \n",
      " 표준편차 : 783.6300069757826\n"
     ]
    }
   ],
   "source": [
    "print(f\"점수 : {tree_rmse_scores} \\n 평균 : {tree_rmse_scores.mean()} \\n 표준편차 : {tree_rmse_scores.std()}\")"
   ]
  },
  {
   "cell_type": "code",
   "execution_count": 82,
   "id": "66fe0012",
   "metadata": {},
   "outputs": [
    {
     "name": "stdout",
     "output_type": "stream",
     "text": [
      "점수 : [68984.67988281 68065.34960176 69379.70786668] \n",
      " 평균 : 68809.91245041795 \n",
      " 표준편차 : 550.6312460623941\n"
     ]
    }
   ],
   "source": [
    "# 선형 회귀시 점수\n",
    "lin_scores = cross_val_score(lin_reg, housing_X, housing_labels, scoring = \"neg_mean_squared_error\", cv = 3)\n",
    "lin_scores\n",
    "lin_rmse_scores = np.sqrt(-lin_scores)\n",
    "\n",
    "print(f\"점수 : {lin_rmse_scores} \\n 평균 : {lin_rmse_scores.mean()} \\n 표준편차 : {lin_rmse_scores.std()}\")"
   ]
  },
  {
   "cell_type": "code",
   "execution_count": null,
   "id": "afce2901",
   "metadata": {},
   "outputs": [],
   "source": []
  },
  {
   "cell_type": "code",
   "execution_count": 89,
   "id": "f603f619",
   "metadata": {},
   "outputs": [
    {
     "data": {
      "text/html": [
       "<style>#sk-container-id-7 {color: black;background-color: white;}#sk-container-id-7 pre{padding: 0;}#sk-container-id-7 div.sk-toggleable {background-color: white;}#sk-container-id-7 label.sk-toggleable__label {cursor: pointer;display: block;width: 100%;margin-bottom: 0;padding: 0.3em;box-sizing: border-box;text-align: center;}#sk-container-id-7 label.sk-toggleable__label-arrow:before {content: \"▸\";float: left;margin-right: 0.25em;color: #696969;}#sk-container-id-7 label.sk-toggleable__label-arrow:hover:before {color: black;}#sk-container-id-7 div.sk-estimator:hover label.sk-toggleable__label-arrow:before {color: black;}#sk-container-id-7 div.sk-toggleable__content {max-height: 0;max-width: 0;overflow: hidden;text-align: left;background-color: #f0f8ff;}#sk-container-id-7 div.sk-toggleable__content pre {margin: 0.2em;color: black;border-radius: 0.25em;background-color: #f0f8ff;}#sk-container-id-7 input.sk-toggleable__control:checked~div.sk-toggleable__content {max-height: 200px;max-width: 100%;overflow: auto;}#sk-container-id-7 input.sk-toggleable__control:checked~label.sk-toggleable__label-arrow:before {content: \"▾\";}#sk-container-id-7 div.sk-estimator input.sk-toggleable__control:checked~label.sk-toggleable__label {background-color: #d4ebff;}#sk-container-id-7 div.sk-label input.sk-toggleable__control:checked~label.sk-toggleable__label {background-color: #d4ebff;}#sk-container-id-7 input.sk-hidden--visually {border: 0;clip: rect(1px 1px 1px 1px);clip: rect(1px, 1px, 1px, 1px);height: 1px;margin: -1px;overflow: hidden;padding: 0;position: absolute;width: 1px;}#sk-container-id-7 div.sk-estimator {font-family: monospace;background-color: #f0f8ff;border: 1px dotted black;border-radius: 0.25em;box-sizing: border-box;margin-bottom: 0.5em;}#sk-container-id-7 div.sk-estimator:hover {background-color: #d4ebff;}#sk-container-id-7 div.sk-parallel-item::after {content: \"\";width: 100%;border-bottom: 1px solid gray;flex-grow: 1;}#sk-container-id-7 div.sk-label:hover label.sk-toggleable__label {background-color: #d4ebff;}#sk-container-id-7 div.sk-serial::before {content: \"\";position: absolute;border-left: 1px solid gray;box-sizing: border-box;top: 0;bottom: 0;left: 50%;z-index: 0;}#sk-container-id-7 div.sk-serial {display: flex;flex-direction: column;align-items: center;background-color: white;padding-right: 0.2em;padding-left: 0.2em;position: relative;}#sk-container-id-7 div.sk-item {position: relative;z-index: 1;}#sk-container-id-7 div.sk-parallel {display: flex;align-items: stretch;justify-content: center;background-color: white;position: relative;}#sk-container-id-7 div.sk-item::before, #sk-container-id-7 div.sk-parallel-item::before {content: \"\";position: absolute;border-left: 1px solid gray;box-sizing: border-box;top: 0;bottom: 0;left: 50%;z-index: -1;}#sk-container-id-7 div.sk-parallel-item {display: flex;flex-direction: column;z-index: 1;position: relative;background-color: white;}#sk-container-id-7 div.sk-parallel-item:first-child::after {align-self: flex-end;width: 50%;}#sk-container-id-7 div.sk-parallel-item:last-child::after {align-self: flex-start;width: 50%;}#sk-container-id-7 div.sk-parallel-item:only-child::after {width: 0;}#sk-container-id-7 div.sk-dashed-wrapped {border: 1px dashed gray;margin: 0 0.4em 0.5em 0.4em;box-sizing: border-box;padding-bottom: 0.4em;background-color: white;}#sk-container-id-7 div.sk-label label {font-family: monospace;font-weight: bold;display: inline-block;line-height: 1.2em;}#sk-container-id-7 div.sk-label-container {text-align: center;}#sk-container-id-7 div.sk-container {/* jupyter's `normalize.less` sets `[hidden] { display: none; }` but bootstrap.min.css set `[hidden] { display: none !important; }` so we also need the `!important` here to be able to override the default hidden behavior on the sphinx rendered scikit-learn.org. See: https://github.com/scikit-learn/scikit-learn/issues/21755 */display: inline-block !important;position: relative;}#sk-container-id-7 div.sk-text-repr-fallback {display: none;}</style><div id=\"sk-container-id-7\" class=\"sk-top-container\"><div class=\"sk-text-repr-fallback\"><pre>RandomForestRegressor()</pre><b>In a Jupyter environment, please rerun this cell to show the HTML representation or trust the notebook. <br />On GitHub, the HTML representation is unable to render, please try loading this page with nbviewer.org.</b></div><div class=\"sk-container\" hidden><div class=\"sk-item\"><div class=\"sk-estimator sk-toggleable\"><input class=\"sk-toggleable__control sk-hidden--visually\" id=\"sk-estimator-id-10\" type=\"checkbox\" checked><label for=\"sk-estimator-id-10\" class=\"sk-toggleable__label sk-toggleable__label-arrow\">RandomForestRegressor</label><div class=\"sk-toggleable__content\"><pre>RandomForestRegressor()</pre></div></div></div></div></div>"
      ],
      "text/plain": [
       "RandomForestRegressor()"
      ]
     },
     "execution_count": 89,
     "metadata": {},
     "output_type": "execute_result"
    }
   ],
   "source": [
    "# 랜덤 포레스트 학습 진행\n",
    "\n",
    "from sklearn.ensemble import RandomForestRegressor\n",
    "forest_reg = RandomForestRegressor()\n",
    "forest_reg.fit(housing_X, housing_labels)"
   ]
  },
  {
   "cell_type": "code",
   "execution_count": 90,
   "id": "b052f8d4",
   "metadata": {},
   "outputs": [
    {
     "data": {
      "text/plain": [
       "array([-2.60669784e+09, -2.62565084e+09, -2.73759890e+09])"
      ]
     },
     "execution_count": 90,
     "metadata": {},
     "output_type": "execute_result"
    }
   ],
   "source": [
    "# 앙상블 MSE\n",
    "forest_scores = cross_val_score(forest_reg, housing_X, housing_labels, scoring = \"neg_mean_squared_error\", cv = 3)\n",
    "forest_scores"
   ]
  },
  {
   "cell_type": "code",
   "execution_count": 100,
   "id": "b4172436",
   "metadata": {},
   "outputs": [
    {
     "name": "stdout",
     "output_type": "stream",
     "text": [
      "점수 : [51055.8306178  51241.1050253  52322.06893652] \n",
      " 평균 : 51539.668193207784 \n",
      " 표준편차 : 558.3874663542066\n"
     ]
    }
   ],
   "source": [
    "# RMSE, 앙상블 전체 점수\n",
    "forest_rmse_scores= np.sqrt(-forest_scores)\n",
    "\n",
    "forest_rmse_scores\n",
    "print(f\"점수 : {forest_rmse_scores} \\n 평균 : {forest_rmse_scores.mean()} \\n 표준편차 : {forest_rmse_scores.std()}\")"
   ]
  },
  {
   "cell_type": "code",
   "execution_count": 119,
   "id": "ccee7e95",
   "metadata": {},
   "outputs": [],
   "source": []
  },
  {
   "cell_type": "code",
   "execution_count": 120,
   "id": "bdea25a9",
   "metadata": {},
   "outputs": [
    {
     "data": {
      "text/html": [
       "<style>#sk-container-id-19 {color: black;background-color: white;}#sk-container-id-19 pre{padding: 0;}#sk-container-id-19 div.sk-toggleable {background-color: white;}#sk-container-id-19 label.sk-toggleable__label {cursor: pointer;display: block;width: 100%;margin-bottom: 0;padding: 0.3em;box-sizing: border-box;text-align: center;}#sk-container-id-19 label.sk-toggleable__label-arrow:before {content: \"▸\";float: left;margin-right: 0.25em;color: #696969;}#sk-container-id-19 label.sk-toggleable__label-arrow:hover:before {color: black;}#sk-container-id-19 div.sk-estimator:hover label.sk-toggleable__label-arrow:before {color: black;}#sk-container-id-19 div.sk-toggleable__content {max-height: 0;max-width: 0;overflow: hidden;text-align: left;background-color: #f0f8ff;}#sk-container-id-19 div.sk-toggleable__content pre {margin: 0.2em;color: black;border-radius: 0.25em;background-color: #f0f8ff;}#sk-container-id-19 input.sk-toggleable__control:checked~div.sk-toggleable__content {max-height: 200px;max-width: 100%;overflow: auto;}#sk-container-id-19 input.sk-toggleable__control:checked~label.sk-toggleable__label-arrow:before {content: \"▾\";}#sk-container-id-19 div.sk-estimator input.sk-toggleable__control:checked~label.sk-toggleable__label {background-color: #d4ebff;}#sk-container-id-19 div.sk-label input.sk-toggleable__control:checked~label.sk-toggleable__label {background-color: #d4ebff;}#sk-container-id-19 input.sk-hidden--visually {border: 0;clip: rect(1px 1px 1px 1px);clip: rect(1px, 1px, 1px, 1px);height: 1px;margin: -1px;overflow: hidden;padding: 0;position: absolute;width: 1px;}#sk-container-id-19 div.sk-estimator {font-family: monospace;background-color: #f0f8ff;border: 1px dotted black;border-radius: 0.25em;box-sizing: border-box;margin-bottom: 0.5em;}#sk-container-id-19 div.sk-estimator:hover {background-color: #d4ebff;}#sk-container-id-19 div.sk-parallel-item::after {content: \"\";width: 100%;border-bottom: 1px solid gray;flex-grow: 1;}#sk-container-id-19 div.sk-label:hover label.sk-toggleable__label {background-color: #d4ebff;}#sk-container-id-19 div.sk-serial::before {content: \"\";position: absolute;border-left: 1px solid gray;box-sizing: border-box;top: 0;bottom: 0;left: 50%;z-index: 0;}#sk-container-id-19 div.sk-serial {display: flex;flex-direction: column;align-items: center;background-color: white;padding-right: 0.2em;padding-left: 0.2em;position: relative;}#sk-container-id-19 div.sk-item {position: relative;z-index: 1;}#sk-container-id-19 div.sk-parallel {display: flex;align-items: stretch;justify-content: center;background-color: white;position: relative;}#sk-container-id-19 div.sk-item::before, #sk-container-id-19 div.sk-parallel-item::before {content: \"\";position: absolute;border-left: 1px solid gray;box-sizing: border-box;top: 0;bottom: 0;left: 50%;z-index: -1;}#sk-container-id-19 div.sk-parallel-item {display: flex;flex-direction: column;z-index: 1;position: relative;background-color: white;}#sk-container-id-19 div.sk-parallel-item:first-child::after {align-self: flex-end;width: 50%;}#sk-container-id-19 div.sk-parallel-item:last-child::after {align-self: flex-start;width: 50%;}#sk-container-id-19 div.sk-parallel-item:only-child::after {width: 0;}#sk-container-id-19 div.sk-dashed-wrapped {border: 1px dashed gray;margin: 0 0.4em 0.5em 0.4em;box-sizing: border-box;padding-bottom: 0.4em;background-color: white;}#sk-container-id-19 div.sk-label label {font-family: monospace;font-weight: bold;display: inline-block;line-height: 1.2em;}#sk-container-id-19 div.sk-label-container {text-align: center;}#sk-container-id-19 div.sk-container {/* jupyter's `normalize.less` sets `[hidden] { display: none; }` but bootstrap.min.css set `[hidden] { display: none !important; }` so we also need the `!important` here to be able to override the default hidden behavior on the sphinx rendered scikit-learn.org. See: https://github.com/scikit-learn/scikit-learn/issues/21755 */display: inline-block !important;position: relative;}#sk-container-id-19 div.sk-text-repr-fallback {display: none;}</style><div id=\"sk-container-id-19\" class=\"sk-top-container\"><div class=\"sk-text-repr-fallback\"><pre>SVR(kernel=&#x27;linear&#x27;)</pre><b>In a Jupyter environment, please rerun this cell to show the HTML representation or trust the notebook. <br />On GitHub, the HTML representation is unable to render, please try loading this page with nbviewer.org.</b></div><div class=\"sk-container\" hidden><div class=\"sk-item\"><div class=\"sk-estimator sk-toggleable\"><input class=\"sk-toggleable__control sk-hidden--visually\" id=\"sk-estimator-id-22\" type=\"checkbox\" checked><label for=\"sk-estimator-id-22\" class=\"sk-toggleable__label sk-toggleable__label-arrow\">SVR</label><div class=\"sk-toggleable__content\"><pre>SVR(kernel=&#x27;linear&#x27;)</pre></div></div></div></div></div>"
      ],
      "text/plain": [
       "SVR(kernel='linear')"
      ]
     },
     "execution_count": 120,
     "metadata": {},
     "output_type": "execute_result"
    }
   ],
   "source": [
    "# SVM 회귀 모델 사용 - kernel = 선형\n",
    "from sklearn import svm\n",
    "svm_reg_linear = svm.SVR(kernel = 'linear')\n",
    "svm_reg_linear"
   ]
  },
  {
   "cell_type": "code",
   "execution_count": 121,
   "id": "3b665c78",
   "metadata": {},
   "outputs": [
    {
     "data": {
      "text/html": [
       "<style>#sk-container-id-20 {color: black;background-color: white;}#sk-container-id-20 pre{padding: 0;}#sk-container-id-20 div.sk-toggleable {background-color: white;}#sk-container-id-20 label.sk-toggleable__label {cursor: pointer;display: block;width: 100%;margin-bottom: 0;padding: 0.3em;box-sizing: border-box;text-align: center;}#sk-container-id-20 label.sk-toggleable__label-arrow:before {content: \"▸\";float: left;margin-right: 0.25em;color: #696969;}#sk-container-id-20 label.sk-toggleable__label-arrow:hover:before {color: black;}#sk-container-id-20 div.sk-estimator:hover label.sk-toggleable__label-arrow:before {color: black;}#sk-container-id-20 div.sk-toggleable__content {max-height: 0;max-width: 0;overflow: hidden;text-align: left;background-color: #f0f8ff;}#sk-container-id-20 div.sk-toggleable__content pre {margin: 0.2em;color: black;border-radius: 0.25em;background-color: #f0f8ff;}#sk-container-id-20 input.sk-toggleable__control:checked~div.sk-toggleable__content {max-height: 200px;max-width: 100%;overflow: auto;}#sk-container-id-20 input.sk-toggleable__control:checked~label.sk-toggleable__label-arrow:before {content: \"▾\";}#sk-container-id-20 div.sk-estimator input.sk-toggleable__control:checked~label.sk-toggleable__label {background-color: #d4ebff;}#sk-container-id-20 div.sk-label input.sk-toggleable__control:checked~label.sk-toggleable__label {background-color: #d4ebff;}#sk-container-id-20 input.sk-hidden--visually {border: 0;clip: rect(1px 1px 1px 1px);clip: rect(1px, 1px, 1px, 1px);height: 1px;margin: -1px;overflow: hidden;padding: 0;position: absolute;width: 1px;}#sk-container-id-20 div.sk-estimator {font-family: monospace;background-color: #f0f8ff;border: 1px dotted black;border-radius: 0.25em;box-sizing: border-box;margin-bottom: 0.5em;}#sk-container-id-20 div.sk-estimator:hover {background-color: #d4ebff;}#sk-container-id-20 div.sk-parallel-item::after {content: \"\";width: 100%;border-bottom: 1px solid gray;flex-grow: 1;}#sk-container-id-20 div.sk-label:hover label.sk-toggleable__label {background-color: #d4ebff;}#sk-container-id-20 div.sk-serial::before {content: \"\";position: absolute;border-left: 1px solid gray;box-sizing: border-box;top: 0;bottom: 0;left: 50%;z-index: 0;}#sk-container-id-20 div.sk-serial {display: flex;flex-direction: column;align-items: center;background-color: white;padding-right: 0.2em;padding-left: 0.2em;position: relative;}#sk-container-id-20 div.sk-item {position: relative;z-index: 1;}#sk-container-id-20 div.sk-parallel {display: flex;align-items: stretch;justify-content: center;background-color: white;position: relative;}#sk-container-id-20 div.sk-item::before, #sk-container-id-20 div.sk-parallel-item::before {content: \"\";position: absolute;border-left: 1px solid gray;box-sizing: border-box;top: 0;bottom: 0;left: 50%;z-index: -1;}#sk-container-id-20 div.sk-parallel-item {display: flex;flex-direction: column;z-index: 1;position: relative;background-color: white;}#sk-container-id-20 div.sk-parallel-item:first-child::after {align-self: flex-end;width: 50%;}#sk-container-id-20 div.sk-parallel-item:last-child::after {align-self: flex-start;width: 50%;}#sk-container-id-20 div.sk-parallel-item:only-child::after {width: 0;}#sk-container-id-20 div.sk-dashed-wrapped {border: 1px dashed gray;margin: 0 0.4em 0.5em 0.4em;box-sizing: border-box;padding-bottom: 0.4em;background-color: white;}#sk-container-id-20 div.sk-label label {font-family: monospace;font-weight: bold;display: inline-block;line-height: 1.2em;}#sk-container-id-20 div.sk-label-container {text-align: center;}#sk-container-id-20 div.sk-container {/* jupyter's `normalize.less` sets `[hidden] { display: none; }` but bootstrap.min.css set `[hidden] { display: none !important; }` so we also need the `!important` here to be able to override the default hidden behavior on the sphinx rendered scikit-learn.org. See: https://github.com/scikit-learn/scikit-learn/issues/21755 */display: inline-block !important;position: relative;}#sk-container-id-20 div.sk-text-repr-fallback {display: none;}</style><div id=\"sk-container-id-20\" class=\"sk-top-container\"><div class=\"sk-text-repr-fallback\"><pre>SVR(kernel=&#x27;linear&#x27;)</pre><b>In a Jupyter environment, please rerun this cell to show the HTML representation or trust the notebook. <br />On GitHub, the HTML representation is unable to render, please try loading this page with nbviewer.org.</b></div><div class=\"sk-container\" hidden><div class=\"sk-item\"><div class=\"sk-estimator sk-toggleable\"><input class=\"sk-toggleable__control sk-hidden--visually\" id=\"sk-estimator-id-23\" type=\"checkbox\" checked><label for=\"sk-estimator-id-23\" class=\"sk-toggleable__label sk-toggleable__label-arrow\">SVR</label><div class=\"sk-toggleable__content\"><pre>SVR(kernel=&#x27;linear&#x27;)</pre></div></div></div></div></div>"
      ],
      "text/plain": [
       "SVR(kernel='linear')"
      ]
     },
     "execution_count": 121,
     "metadata": {},
     "output_type": "execute_result"
    }
   ],
   "source": [
    "# 학습\n",
    "svm_reg_linear.fit(housing_X, housing_labels)"
   ]
  },
  {
   "cell_type": "code",
   "execution_count": 110,
   "id": "095e9b4b",
   "metadata": {},
   "outputs": [
    {
     "data": {
      "text/plain": [
       "array([175998.86344215, 172736.06970443, 177101.40883142, ...,\n",
       "       176072.60234099, 182154.27927178, 182056.06558201])"
      ]
     },
     "execution_count": 110,
     "metadata": {},
     "output_type": "execute_result"
    }
   ],
   "source": [
    "# 예측\n",
    "svm_predictions = svm_reg_linear.predict(housing_X)\n",
    "svm_predictions"
   ]
  },
  {
   "cell_type": "code",
   "execution_count": 111,
   "id": "ca35a1b2",
   "metadata": {},
   "outputs": [
    {
     "data": {
      "text/plain": [
       "array([-1.29341557e+10, -1.25789419e+10, -1.30419802e+10])"
      ]
     },
     "execution_count": 111,
     "metadata": {},
     "output_type": "execute_result"
    }
   ],
   "source": [
    "# 서포트 벡터머신 점수계산(cross_val)\n",
    "svm_scores_linear = cross_val_score(svm_reg_linear, housing_X, housing_labels, scoring = \"neg_mean_squared_error\", cv = 3)\n",
    "svm_scores_linear"
   ]
  },
  {
   "cell_type": "code",
   "execution_count": 113,
   "id": "76da746b",
   "metadata": {},
   "outputs": [
    {
     "data": {
      "text/html": [
       "<style>#sk-container-id-15 {color: black;background-color: white;}#sk-container-id-15 pre{padding: 0;}#sk-container-id-15 div.sk-toggleable {background-color: white;}#sk-container-id-15 label.sk-toggleable__label {cursor: pointer;display: block;width: 100%;margin-bottom: 0;padding: 0.3em;box-sizing: border-box;text-align: center;}#sk-container-id-15 label.sk-toggleable__label-arrow:before {content: \"▸\";float: left;margin-right: 0.25em;color: #696969;}#sk-container-id-15 label.sk-toggleable__label-arrow:hover:before {color: black;}#sk-container-id-15 div.sk-estimator:hover label.sk-toggleable__label-arrow:before {color: black;}#sk-container-id-15 div.sk-toggleable__content {max-height: 0;max-width: 0;overflow: hidden;text-align: left;background-color: #f0f8ff;}#sk-container-id-15 div.sk-toggleable__content pre {margin: 0.2em;color: black;border-radius: 0.25em;background-color: #f0f8ff;}#sk-container-id-15 input.sk-toggleable__control:checked~div.sk-toggleable__content {max-height: 200px;max-width: 100%;overflow: auto;}#sk-container-id-15 input.sk-toggleable__control:checked~label.sk-toggleable__label-arrow:before {content: \"▾\";}#sk-container-id-15 div.sk-estimator input.sk-toggleable__control:checked~label.sk-toggleable__label {background-color: #d4ebff;}#sk-container-id-15 div.sk-label input.sk-toggleable__control:checked~label.sk-toggleable__label {background-color: #d4ebff;}#sk-container-id-15 input.sk-hidden--visually {border: 0;clip: rect(1px 1px 1px 1px);clip: rect(1px, 1px, 1px, 1px);height: 1px;margin: -1px;overflow: hidden;padding: 0;position: absolute;width: 1px;}#sk-container-id-15 div.sk-estimator {font-family: monospace;background-color: #f0f8ff;border: 1px dotted black;border-radius: 0.25em;box-sizing: border-box;margin-bottom: 0.5em;}#sk-container-id-15 div.sk-estimator:hover {background-color: #d4ebff;}#sk-container-id-15 div.sk-parallel-item::after {content: \"\";width: 100%;border-bottom: 1px solid gray;flex-grow: 1;}#sk-container-id-15 div.sk-label:hover label.sk-toggleable__label {background-color: #d4ebff;}#sk-container-id-15 div.sk-serial::before {content: \"\";position: absolute;border-left: 1px solid gray;box-sizing: border-box;top: 0;bottom: 0;left: 50%;z-index: 0;}#sk-container-id-15 div.sk-serial {display: flex;flex-direction: column;align-items: center;background-color: white;padding-right: 0.2em;padding-left: 0.2em;position: relative;}#sk-container-id-15 div.sk-item {position: relative;z-index: 1;}#sk-container-id-15 div.sk-parallel {display: flex;align-items: stretch;justify-content: center;background-color: white;position: relative;}#sk-container-id-15 div.sk-item::before, #sk-container-id-15 div.sk-parallel-item::before {content: \"\";position: absolute;border-left: 1px solid gray;box-sizing: border-box;top: 0;bottom: 0;left: 50%;z-index: -1;}#sk-container-id-15 div.sk-parallel-item {display: flex;flex-direction: column;z-index: 1;position: relative;background-color: white;}#sk-container-id-15 div.sk-parallel-item:first-child::after {align-self: flex-end;width: 50%;}#sk-container-id-15 div.sk-parallel-item:last-child::after {align-self: flex-start;width: 50%;}#sk-container-id-15 div.sk-parallel-item:only-child::after {width: 0;}#sk-container-id-15 div.sk-dashed-wrapped {border: 1px dashed gray;margin: 0 0.4em 0.5em 0.4em;box-sizing: border-box;padding-bottom: 0.4em;background-color: white;}#sk-container-id-15 div.sk-label label {font-family: monospace;font-weight: bold;display: inline-block;line-height: 1.2em;}#sk-container-id-15 div.sk-label-container {text-align: center;}#sk-container-id-15 div.sk-container {/* jupyter's `normalize.less` sets `[hidden] { display: none; }` but bootstrap.min.css set `[hidden] { display: none !important; }` so we also need the `!important` here to be able to override the default hidden behavior on the sphinx rendered scikit-learn.org. See: https://github.com/scikit-learn/scikit-learn/issues/21755 */display: inline-block !important;position: relative;}#sk-container-id-15 div.sk-text-repr-fallback {display: none;}</style><div id=\"sk-container-id-15\" class=\"sk-top-container\"><div class=\"sk-text-repr-fallback\"><pre>SVR()</pre><b>In a Jupyter environment, please rerun this cell to show the HTML representation or trust the notebook. <br />On GitHub, the HTML representation is unable to render, please try loading this page with nbviewer.org.</b></div><div class=\"sk-container\" hidden><div class=\"sk-item\"><div class=\"sk-estimator sk-toggleable\"><input class=\"sk-toggleable__control sk-hidden--visually\" id=\"sk-estimator-id-18\" type=\"checkbox\" checked><label for=\"sk-estimator-id-18\" class=\"sk-toggleable__label sk-toggleable__label-arrow\">SVR</label><div class=\"sk-toggleable__content\"><pre>SVR()</pre></div></div></div></div></div>"
      ],
      "text/plain": [
       "SVR()"
      ]
     },
     "execution_count": 113,
     "metadata": {},
     "output_type": "execute_result"
    }
   ],
   "source": [
    "# 모델 사용 - kernel = RBF\n",
    "svm_reg_rbf = svm.SVR(kernel = 'rbf')\n",
    "svm_reg_rbf"
   ]
  },
  {
   "cell_type": "code",
   "execution_count": 114,
   "id": "1fd9a8b0",
   "metadata": {},
   "outputs": [
    {
     "data": {
      "text/html": [
       "<style>#sk-container-id-16 {color: black;background-color: white;}#sk-container-id-16 pre{padding: 0;}#sk-container-id-16 div.sk-toggleable {background-color: white;}#sk-container-id-16 label.sk-toggleable__label {cursor: pointer;display: block;width: 100%;margin-bottom: 0;padding: 0.3em;box-sizing: border-box;text-align: center;}#sk-container-id-16 label.sk-toggleable__label-arrow:before {content: \"▸\";float: left;margin-right: 0.25em;color: #696969;}#sk-container-id-16 label.sk-toggleable__label-arrow:hover:before {color: black;}#sk-container-id-16 div.sk-estimator:hover label.sk-toggleable__label-arrow:before {color: black;}#sk-container-id-16 div.sk-toggleable__content {max-height: 0;max-width: 0;overflow: hidden;text-align: left;background-color: #f0f8ff;}#sk-container-id-16 div.sk-toggleable__content pre {margin: 0.2em;color: black;border-radius: 0.25em;background-color: #f0f8ff;}#sk-container-id-16 input.sk-toggleable__control:checked~div.sk-toggleable__content {max-height: 200px;max-width: 100%;overflow: auto;}#sk-container-id-16 input.sk-toggleable__control:checked~label.sk-toggleable__label-arrow:before {content: \"▾\";}#sk-container-id-16 div.sk-estimator input.sk-toggleable__control:checked~label.sk-toggleable__label {background-color: #d4ebff;}#sk-container-id-16 div.sk-label input.sk-toggleable__control:checked~label.sk-toggleable__label {background-color: #d4ebff;}#sk-container-id-16 input.sk-hidden--visually {border: 0;clip: rect(1px 1px 1px 1px);clip: rect(1px, 1px, 1px, 1px);height: 1px;margin: -1px;overflow: hidden;padding: 0;position: absolute;width: 1px;}#sk-container-id-16 div.sk-estimator {font-family: monospace;background-color: #f0f8ff;border: 1px dotted black;border-radius: 0.25em;box-sizing: border-box;margin-bottom: 0.5em;}#sk-container-id-16 div.sk-estimator:hover {background-color: #d4ebff;}#sk-container-id-16 div.sk-parallel-item::after {content: \"\";width: 100%;border-bottom: 1px solid gray;flex-grow: 1;}#sk-container-id-16 div.sk-label:hover label.sk-toggleable__label {background-color: #d4ebff;}#sk-container-id-16 div.sk-serial::before {content: \"\";position: absolute;border-left: 1px solid gray;box-sizing: border-box;top: 0;bottom: 0;left: 50%;z-index: 0;}#sk-container-id-16 div.sk-serial {display: flex;flex-direction: column;align-items: center;background-color: white;padding-right: 0.2em;padding-left: 0.2em;position: relative;}#sk-container-id-16 div.sk-item {position: relative;z-index: 1;}#sk-container-id-16 div.sk-parallel {display: flex;align-items: stretch;justify-content: center;background-color: white;position: relative;}#sk-container-id-16 div.sk-item::before, #sk-container-id-16 div.sk-parallel-item::before {content: \"\";position: absolute;border-left: 1px solid gray;box-sizing: border-box;top: 0;bottom: 0;left: 50%;z-index: -1;}#sk-container-id-16 div.sk-parallel-item {display: flex;flex-direction: column;z-index: 1;position: relative;background-color: white;}#sk-container-id-16 div.sk-parallel-item:first-child::after {align-self: flex-end;width: 50%;}#sk-container-id-16 div.sk-parallel-item:last-child::after {align-self: flex-start;width: 50%;}#sk-container-id-16 div.sk-parallel-item:only-child::after {width: 0;}#sk-container-id-16 div.sk-dashed-wrapped {border: 1px dashed gray;margin: 0 0.4em 0.5em 0.4em;box-sizing: border-box;padding-bottom: 0.4em;background-color: white;}#sk-container-id-16 div.sk-label label {font-family: monospace;font-weight: bold;display: inline-block;line-height: 1.2em;}#sk-container-id-16 div.sk-label-container {text-align: center;}#sk-container-id-16 div.sk-container {/* jupyter's `normalize.less` sets `[hidden] { display: none; }` but bootstrap.min.css set `[hidden] { display: none !important; }` so we also need the `!important` here to be able to override the default hidden behavior on the sphinx rendered scikit-learn.org. See: https://github.com/scikit-learn/scikit-learn/issues/21755 */display: inline-block !important;position: relative;}#sk-container-id-16 div.sk-text-repr-fallback {display: none;}</style><div id=\"sk-container-id-16\" class=\"sk-top-container\"><div class=\"sk-text-repr-fallback\"><pre>SVR()</pre><b>In a Jupyter environment, please rerun this cell to show the HTML representation or trust the notebook. <br />On GitHub, the HTML representation is unable to render, please try loading this page with nbviewer.org.</b></div><div class=\"sk-container\" hidden><div class=\"sk-item\"><div class=\"sk-estimator sk-toggleable\"><input class=\"sk-toggleable__control sk-hidden--visually\" id=\"sk-estimator-id-19\" type=\"checkbox\" checked><label for=\"sk-estimator-id-19\" class=\"sk-toggleable__label sk-toggleable__label-arrow\">SVR</label><div class=\"sk-toggleable__content\"><pre>SVR()</pre></div></div></div></div></div>"
      ],
      "text/plain": [
       "SVR()"
      ]
     },
     "execution_count": 114,
     "metadata": {},
     "output_type": "execute_result"
    }
   ],
   "source": [
    "# 학습\n",
    "svm_reg_rbf.fit(housing_X, housing_labels)"
   ]
  },
  {
   "cell_type": "code",
   "execution_count": 115,
   "id": "f47e9867",
   "metadata": {},
   "outputs": [
    {
     "data": {
      "text/plain": [
       "array([179756.82129911, 179397.83348363, 179840.35377538, ...,\n",
       "       179713.20293149, 180244.18107616, 180230.35840343])"
      ]
     },
     "execution_count": 115,
     "metadata": {},
     "output_type": "execute_result"
    }
   ],
   "source": [
    "# 예측\n",
    "svm_predictions = svm_reg_rbf.predict(housing_X)\n",
    "svm_predictions"
   ]
  },
  {
   "cell_type": "code",
   "execution_count": 116,
   "id": "ab9768b8",
   "metadata": {},
   "outputs": [
    {
     "data": {
      "text/plain": [
       "array([-1.40598598e+10, -1.36835119e+10, -1.41730771e+10])"
      ]
     },
     "execution_count": 116,
     "metadata": {},
     "output_type": "execute_result"
    }
   ],
   "source": [
    "# 서포트 벡터머신 점수계산(linear)\n",
    "svm_scores_rbf = cross_val_score(svm_reg_rbf, housing_X, housing_labels, scoring = \"neg_mean_squared_error\", cv = 3)\n",
    "svm_scores_rbf"
   ]
  },
  {
   "cell_type": "markdown",
   "id": "33011999",
   "metadata": {},
   "source": [
    "#### randomforest - 완성했다고 보고 모델 저장"
   ]
  },
  {
   "cell_type": "code",
   "execution_count": 95,
   "id": "ad4647cc",
   "metadata": {},
   "outputs": [
    {
     "data": {
      "text/plain": [
       "['housing_forest_model.pkl']"
      ]
     },
     "execution_count": 95,
     "metadata": {},
     "output_type": "execute_result"
    }
   ],
   "source": [
    "import joblib\n",
    "joblib.dump(forest_reg, \"housing_forest_model.pkl\")"
   ]
  },
  {
   "cell_type": "code",
   "execution_count": 97,
   "id": "16aaeafc",
   "metadata": {},
   "outputs": [
    {
     "data": {
      "text/html": [
       "<style>#sk-container-id-8 {color: black;background-color: white;}#sk-container-id-8 pre{padding: 0;}#sk-container-id-8 div.sk-toggleable {background-color: white;}#sk-container-id-8 label.sk-toggleable__label {cursor: pointer;display: block;width: 100%;margin-bottom: 0;padding: 0.3em;box-sizing: border-box;text-align: center;}#sk-container-id-8 label.sk-toggleable__label-arrow:before {content: \"▸\";float: left;margin-right: 0.25em;color: #696969;}#sk-container-id-8 label.sk-toggleable__label-arrow:hover:before {color: black;}#sk-container-id-8 div.sk-estimator:hover label.sk-toggleable__label-arrow:before {color: black;}#sk-container-id-8 div.sk-toggleable__content {max-height: 0;max-width: 0;overflow: hidden;text-align: left;background-color: #f0f8ff;}#sk-container-id-8 div.sk-toggleable__content pre {margin: 0.2em;color: black;border-radius: 0.25em;background-color: #f0f8ff;}#sk-container-id-8 input.sk-toggleable__control:checked~div.sk-toggleable__content {max-height: 200px;max-width: 100%;overflow: auto;}#sk-container-id-8 input.sk-toggleable__control:checked~label.sk-toggleable__label-arrow:before {content: \"▾\";}#sk-container-id-8 div.sk-estimator input.sk-toggleable__control:checked~label.sk-toggleable__label {background-color: #d4ebff;}#sk-container-id-8 div.sk-label input.sk-toggleable__control:checked~label.sk-toggleable__label {background-color: #d4ebff;}#sk-container-id-8 input.sk-hidden--visually {border: 0;clip: rect(1px 1px 1px 1px);clip: rect(1px, 1px, 1px, 1px);height: 1px;margin: -1px;overflow: hidden;padding: 0;position: absolute;width: 1px;}#sk-container-id-8 div.sk-estimator {font-family: monospace;background-color: #f0f8ff;border: 1px dotted black;border-radius: 0.25em;box-sizing: border-box;margin-bottom: 0.5em;}#sk-container-id-8 div.sk-estimator:hover {background-color: #d4ebff;}#sk-container-id-8 div.sk-parallel-item::after {content: \"\";width: 100%;border-bottom: 1px solid gray;flex-grow: 1;}#sk-container-id-8 div.sk-label:hover label.sk-toggleable__label {background-color: #d4ebff;}#sk-container-id-8 div.sk-serial::before {content: \"\";position: absolute;border-left: 1px solid gray;box-sizing: border-box;top: 0;bottom: 0;left: 50%;z-index: 0;}#sk-container-id-8 div.sk-serial {display: flex;flex-direction: column;align-items: center;background-color: white;padding-right: 0.2em;padding-left: 0.2em;position: relative;}#sk-container-id-8 div.sk-item {position: relative;z-index: 1;}#sk-container-id-8 div.sk-parallel {display: flex;align-items: stretch;justify-content: center;background-color: white;position: relative;}#sk-container-id-8 div.sk-item::before, #sk-container-id-8 div.sk-parallel-item::before {content: \"\";position: absolute;border-left: 1px solid gray;box-sizing: border-box;top: 0;bottom: 0;left: 50%;z-index: -1;}#sk-container-id-8 div.sk-parallel-item {display: flex;flex-direction: column;z-index: 1;position: relative;background-color: white;}#sk-container-id-8 div.sk-parallel-item:first-child::after {align-self: flex-end;width: 50%;}#sk-container-id-8 div.sk-parallel-item:last-child::after {align-self: flex-start;width: 50%;}#sk-container-id-8 div.sk-parallel-item:only-child::after {width: 0;}#sk-container-id-8 div.sk-dashed-wrapped {border: 1px dashed gray;margin: 0 0.4em 0.5em 0.4em;box-sizing: border-box;padding-bottom: 0.4em;background-color: white;}#sk-container-id-8 div.sk-label label {font-family: monospace;font-weight: bold;display: inline-block;line-height: 1.2em;}#sk-container-id-8 div.sk-label-container {text-align: center;}#sk-container-id-8 div.sk-container {/* jupyter's `normalize.less` sets `[hidden] { display: none; }` but bootstrap.min.css set `[hidden] { display: none !important; }` so we also need the `!important` here to be able to override the default hidden behavior on the sphinx rendered scikit-learn.org. See: https://github.com/scikit-learn/scikit-learn/issues/21755 */display: inline-block !important;position: relative;}#sk-container-id-8 div.sk-text-repr-fallback {display: none;}</style><div id=\"sk-container-id-8\" class=\"sk-top-container\"><div class=\"sk-text-repr-fallback\"><pre>RandomForestRegressor()</pre><b>In a Jupyter environment, please rerun this cell to show the HTML representation or trust the notebook. <br />On GitHub, the HTML representation is unable to render, please try loading this page with nbviewer.org.</b></div><div class=\"sk-container\" hidden><div class=\"sk-item\"><div class=\"sk-estimator sk-toggleable\"><input class=\"sk-toggleable__control sk-hidden--visually\" id=\"sk-estimator-id-11\" type=\"checkbox\" checked><label for=\"sk-estimator-id-11\" class=\"sk-toggleable__label sk-toggleable__label-arrow\">RandomForestRegressor</label><div class=\"sk-toggleable__content\"><pre>RandomForestRegressor()</pre></div></div></div></div></div>"
      ],
      "text/plain": [
       "RandomForestRegressor()"
      ]
     },
     "execution_count": 97,
     "metadata": {},
     "output_type": "execute_result"
    }
   ],
   "source": [
    "joblib.load(\"housing_forest_model.pkl\")"
   ]
  },
  {
   "cell_type": "code",
   "execution_count": 99,
   "id": "659a17a9",
   "metadata": {},
   "outputs": [],
   "source": [
    "class housing_prepared:\n",
    "    def __init__(self):\n",
    "        housing_prepared = full_pipeline.fit_transform(housing)"
   ]
  },
  {
   "cell_type": "code",
   "execution_count": null,
   "id": "506ea138",
   "metadata": {},
   "outputs": [],
   "source": []
  }
 ],
 "metadata": {
  "kernelspec": {
   "display_name": "Python 3 (ipykernel)",
   "language": "python",
   "name": "python3"
  },
  "language_info": {
   "codemirror_mode": {
    "name": "ipython",
    "version": 3
   },
   "file_extension": ".py",
   "mimetype": "text/x-python",
   "name": "python",
   "nbconvert_exporter": "python",
   "pygments_lexer": "ipython3",
   "version": "3.9.16"
  }
 },
 "nbformat": 4,
 "nbformat_minor": 5
}
