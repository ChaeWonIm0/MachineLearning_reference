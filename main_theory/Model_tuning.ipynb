{
 "cells": [
  {
   "cell_type": "code",
   "execution_count": 17,
   "id": "7d18e2d3",
   "metadata": {},
   "outputs": [
    {
     "name": "stdout",
     "output_type": "stream",
     "text": [
      "Requirement already satisfied: import_ipynb in c:\\anaconda3\\lib\\site-packages (0.1.4)\n",
      "Requirement already satisfied: IPython in c:\\users\\임채원\\appdata\\roaming\\python\\python39\\site-packages (from import_ipynb) (8.6.0)\n",
      "Requirement already satisfied: nbformat in c:\\users\\임채원\\appdata\\roaming\\python\\python39\\site-packages (from import_ipynb) (5.7.0)\n",
      "Requirement already satisfied: colorama in c:\\users\\임채원\\appdata\\roaming\\python\\python39\\site-packages (from IPython->import_ipynb) (0.4.6)\n",
      "Requirement already satisfied: pickleshare in c:\\users\\임채원\\appdata\\roaming\\python\\python39\\site-packages (from IPython->import_ipynb) (0.7.5)\n",
      "Requirement already satisfied: decorator in c:\\users\\임채원\\appdata\\roaming\\python\\python39\\site-packages (from IPython->import_ipynb) (5.1.1)\n",
      "Requirement already satisfied: prompt-toolkit<3.1.0,>3.0.1 in c:\\users\\임채원\\appdata\\roaming\\python\\python39\\site-packages (from IPython->import_ipynb) (3.0.32)\n",
      "Requirement already satisfied: backcall in c:\\users\\임채원\\appdata\\roaming\\python\\python39\\site-packages (from IPython->import_ipynb) (0.2.0)\n",
      "Requirement already satisfied: pygments>=2.4.0 in c:\\users\\임채원\\appdata\\roaming\\python\\python39\\site-packages (from IPython->import_ipynb) (2.13.0)\n",
      "Requirement already satisfied: traitlets>=5 in c:\\users\\임채원\\appdata\\roaming\\python\\python39\\site-packages (from IPython->import_ipynb) (5.5.0)\n",
      "Requirement already satisfied: stack-data in c:\\users\\임채원\\appdata\\roaming\\python\\python39\\site-packages (from IPython->import_ipynb) (0.6.1)\n",
      "Requirement already satisfied: matplotlib-inline in c:\\users\\임채원\\appdata\\roaming\\python\\python39\\site-packages (from IPython->import_ipynb) (0.1.6)\n",
      "Requirement already satisfied: jedi>=0.16 in c:\\users\\임채원\\appdata\\roaming\\python\\python39\\site-packages (from IPython->import_ipynb) (0.18.1)\n",
      "Requirement already satisfied: jsonschema>=2.6 in c:\\users\\임채원\\appdata\\roaming\\python\\python39\\site-packages (from nbformat->import_ipynb) (4.17.0)\n",
      "Requirement already satisfied: jupyter-core in c:\\users\\임채원\\appdata\\roaming\\python\\python39\\site-packages (from nbformat->import_ipynb) (5.0.0)\n",
      "Requirement already satisfied: fastjsonschema in c:\\users\\임채원\\appdata\\roaming\\python\\python39\\site-packages (from nbformat->import_ipynb) (2.16.2)\n",
      "Requirement already satisfied: parso<0.9.0,>=0.8.0 in c:\\users\\임채원\\appdata\\roaming\\python\\python39\\site-packages (from jedi>=0.16->IPython->import_ipynb) (0.8.3)\n",
      "Requirement already satisfied: attrs>=17.4.0 in c:\\users\\임채원\\appdata\\roaming\\python\\python39\\site-packages (from jsonschema>=2.6->nbformat->import_ipynb) (22.1.0)\n",
      "Requirement already satisfied: pyrsistent!=0.17.0,!=0.17.1,!=0.17.2,>=0.14.0 in c:\\users\\임채원\\appdata\\roaming\\python\\python39\\site-packages (from jsonschema>=2.6->nbformat->import_ipynb) (0.19.2)\n",
      "Requirement already satisfied: wcwidth in c:\\users\\임채원\\appdata\\roaming\\python\\python39\\site-packages (from prompt-toolkit<3.1.0,>3.0.1->IPython->import_ipynb) (0.2.5)\n",
      "Requirement already satisfied: pywin32>=1.0 in c:\\users\\임채원\\appdata\\roaming\\python\\python39\\site-packages (from jupyter-core->nbformat->import_ipynb) (305)\n",
      "Requirement already satisfied: platformdirs in c:\\users\\임채원\\appdata\\roaming\\python\\python39\\site-packages (from jupyter-core->nbformat->import_ipynb) (2.5.4)\n",
      "Requirement already satisfied: asttokens>=2.1.0 in c:\\users\\임채원\\appdata\\roaming\\python\\python39\\site-packages (from stack-data->IPython->import_ipynb) (2.1.0)\n",
      "Requirement already satisfied: pure-eval in c:\\users\\임채원\\appdata\\roaming\\python\\python39\\site-packages (from stack-data->IPython->import_ipynb) (0.2.2)\n",
      "Requirement already satisfied: executing>=1.2.0 in c:\\users\\임채원\\appdata\\roaming\\python\\python39\\site-packages (from stack-data->IPython->import_ipynb) (1.2.0)\n",
      "Requirement already satisfied: six in c:\\users\\임채원\\appdata\\roaming\\python\\python39\\site-packages (from asttokens>=2.1.0->stack-data->IPython->import_ipynb) (1.16.0)\n"
     ]
    },
    {
     "name": "stderr",
     "output_type": "stream",
     "text": [
      "WARNING: Ignoring invalid distribution -pype1 (c:\\users\\임채원\\appdata\\roaming\\python\\python39\\site-packages)\n",
      "WARNING: Ignoring invalid distribution -pype1 (c:\\users\\임채원\\appdata\\roaming\\python\\python39\\site-packages)\n",
      "WARNING: Ignoring invalid distribution -pype1 (c:\\users\\임채원\\appdata\\roaming\\python\\python39\\site-packages)\n",
      "WARNING: Ignoring invalid distribution -pype1 (c:\\users\\임채원\\appdata\\roaming\\python\\python39\\site-packages)\n",
      "WARNING: Ignoring invalid distribution -pype1 (c:\\users\\임채원\\appdata\\roaming\\python\\python39\\site-packages)\n",
      "WARNING: Ignoring invalid distribution -pype1 (c:\\users\\임채원\\appdata\\roaming\\python\\python39\\site-packages)\n"
     ]
    }
   ],
   "source": [
    "# !pip install import_ipynb\n",
    "import joblib\n",
    "import pandas as pd\n",
    "import numpy as np\n",
    "import matplotlib.pyplot as plt\n",
    "import sklearn\n",
    "import seaborn as sns"
   ]
  },
  {
   "cell_type": "code",
   "execution_count": 18,
   "id": "e73793ef",
   "metadata": {},
   "outputs": [],
   "source": [
    "import import_ipynb"
   ]
  },
  {
   "cell_type": "code",
   "execution_count": 21,
   "id": "69519b07",
   "metadata": {},
   "outputs": [
    {
     "ename": "ModuleNotFoundError",
     "evalue": "No module named 'Entire_process_Housing_model'",
     "output_type": "error",
     "traceback": [
      "\u001b[1;31m---------------------------------------------------------------------------\u001b[0m",
      "\u001b[1;31mModuleNotFoundError\u001b[0m                       Traceback (most recent call last)",
      "Cell \u001b[1;32mIn [21], line 2\u001b[0m\n\u001b[0;32m      1\u001b[0m \u001b[38;5;66;03m# 지난번 데이터전처리 완료한 독립변수 반환\u001b[39;00m\n\u001b[1;32m----> 2\u001b[0m \u001b[38;5;28;01mfrom\u001b[39;00m \u001b[38;5;21;01mEntire_process_Housing_model\u001b[39;00m\u001b[38;5;21;01m.\u001b[39;00m\u001b[38;5;21;01mipynb\u001b[39;00m \u001b[38;5;28;01mimport\u001b[39;00m housing, full_pipeline\n",
      "\u001b[1;31mModuleNotFoundError\u001b[0m: No module named 'Entire_process_Housing_model'"
     ]
    }
   ],
   "source": [
    "# 지난번 데이터전처리 완료한 독립변수 반환\n",
    "from Entire_process_Housing_model import housing, full_pipeline"
   ]
  },
  {
   "cell_type": "code",
   "execution_count": null,
   "id": "c27288f2",
   "metadata": {},
   "outputs": [],
   "source": [
    "housing_prepared = full_pipeline.fit_transform(housing)\n",
    "housing_prepared"
   ]
  },
  {
   "cell_type": "code",
   "execution_count": null,
   "id": "93079f17",
   "metadata": {},
   "outputs": [],
   "source": [
    "from sklearn.ensemble import RandomForestRegressor\n",
    "forest_reg = RandomForestRegressor()"
   ]
  },
  {
   "cell_type": "code",
   "execution_count": null,
   "id": "dcdd14d6",
   "metadata": {},
   "outputs": [],
   "source": [
    "# 종속변수(레이블)도 소환\n",
    "from Entire_process_Housing_model import housing_labels\n",
    "housing_labels"
   ]
  },
  {
   "cell_type": "markdown",
   "id": "245b4365",
   "metadata": {},
   "source": [
    "#### 세부튜닝 - 그리드 서치 cv"
   ]
  },
  {
   "cell_type": "code",
   "execution_count": null,
   "id": "bf2f6bcc",
   "metadata": {},
   "outputs": [],
   "source": [
    "from sklearn.model_selection import GridSearchCV\n",
    "\n",
    "param_grid = [{'n_estimators':[3,10,30], 'max_features':[2,4,6,8]}, \n",
    "              {'bootstrap':[False], 'n_estimators':[3, 10], 'max_features':[2,3,4]},\n",
    "             ]"
   ]
  },
  {
   "cell_type": "code",
   "execution_count": null,
   "id": "7d3aee43",
   "metadata": {},
   "outputs": [],
   "source": [
    "# 그리드 서치\n",
    "grid_search = GridSearchCV(forest_reg, param_grid, cv=5, scoring='neg_mean_squared_error', return_train_score=True)\n",
    "grid_search.fit(housing_prepared, housing_labels)"
   ]
  },
  {
   "cell_type": "code",
   "execution_count": null,
   "id": "9660fd9b",
   "metadata": {},
   "outputs": [],
   "source": [
    "# 최적의 그리드 서치값 도출\n",
    "grid_search.best_params_"
   ]
  },
  {
   "cell_type": "code",
   "execution_count": null,
   "id": "d1320186",
   "metadata": {},
   "outputs": [],
   "source": [
    "grid_search.best_estimator_ # 최적의 검출 패러미터"
   ]
  },
  {
   "cell_type": "code",
   "execution_count": null,
   "id": "894c03fd",
   "metadata": {},
   "outputs": [],
   "source": [
    "# 평가점수 패러미터별 확인\n",
    "cvres = grid_search.cv_results_\n",
    "for mean_score, params in zip(cvres[\"mean_test_score\"], cvres[\"params\"]):\n",
    "    print(f\"RMSE점수 : {np.sqrt(-mean_score)}, {params}\")"
   ]
  },
  {
   "cell_type": "code",
   "execution_count": null,
   "id": "eca6d01d",
   "metadata": {},
   "outputs": [],
   "source": [
    "# 서포트 벡터머신을 그리드 서치를 통해 점수 계산\n",
    "\n",
    "# SVM 회귀 모델 사용\n",
    "from sklearn import svm\n",
    "\n",
    "grid_search_svm = GridSearchCV(estimator=svm.SVR(),\n",
    "             param_grid={'C': [1, 2, 5, 7, 10], 'gamma': [0.001, 0.002, 0.01, 0.02, 0.1, 0.2, 0.5],\n",
    "            'kernel': ('linear', 'rbf')}, cv = 5, \n",
    "            scoring='neg_mean_squared_error', return_train_score=True)\n",
    "grid_search_svm"
   ]
  },
  {
   "cell_type": "code",
   "execution_count": null,
   "id": "1986ab95",
   "metadata": {},
   "outputs": [],
   "source": [
    "grid_search_svm.fit(housing_prepared, housing_labels)"
   ]
  },
  {
   "cell_type": "code",
   "execution_count": null,
   "id": "ec7b85e8",
   "metadata": {},
   "outputs": [],
   "source": [
    "# SVM의 최적 parameter 도출\n",
    "grid_search_svm.best_params_"
   ]
  },
  {
   "cell_type": "code",
   "execution_count": null,
   "id": "000163bd",
   "metadata": {},
   "outputs": [],
   "source": [
    "grid_search_svm.best_estimator_ # 최적의 검출 패러미터"
   ]
  },
  {
   "cell_type": "code",
   "execution_count": null,
   "id": "f4711d84",
   "metadata": {},
   "outputs": [],
   "source": [
    "# 평가점수 (svm) 패러미터별 확인\n",
    "cvres_svm = grid_search_svm.cv_results_\n",
    "for mean_score, params in zip(cvres_svm[\"mean_test_score\"], cvres_svm[\"params\"]):\n",
    "    print(f\"RMSE점수 : {np.sqrt(-mean_score)}, {params}\")"
   ]
  },
  {
   "cell_type": "markdown",
   "id": "e0a8eaa3",
   "metadata": {},
   "source": [
    "#### 모델 지정, 피쳐 중요도 분석"
   ]
  },
  {
   "cell_type": "code",
   "execution_count": null,
   "id": "f0968a82",
   "metadata": {},
   "outputs": [],
   "source": [
    "feature_importances = grid_search.best_estimator_.feature_importances_\n",
    "feature_importances\n",
    "# 피쳐의 상대적인 중요도"
   ]
  },
  {
   "cell_type": "code",
   "execution_count": null,
   "id": "9475ae0e",
   "metadata": {},
   "outputs": [],
   "source": [
    "# 피쳐 이름 서술\n",
    "from Entire_process_Housing_model import num_attribs\n",
    "extra_attribs = [\"rooms_per_hhold\", \"pop_per_hhold\", \"bedrooms_per_room\"]\n",
    "cat_encoder = full_pipeline.named_transformers_[\"cat\"]\n",
    "cat_one_hot_attribs = list(cat_encoder.categories_[0])\n",
    "attributes = num_attribs+extra_attribs+cat_one_hot_attribs\n",
    "sorted(zip(feature_importances, attributes), reverse=True)"
   ]
  },
  {
   "cell_type": "markdown",
   "id": "a85d7a3f",
   "metadata": {},
   "source": [
    "#### 최종모델 평가"
   ]
  },
  {
   "cell_type": "code",
   "execution_count": null,
   "id": "84a99a9a",
   "metadata": {},
   "outputs": [],
   "source": [
    "from Entire_process_Housing_model import strat_test_set\n",
    "final_model = grid_search.best_estimator_\n",
    "X_test = strat_test_set.drop(\"median_house_value\", axis=1)\n",
    "y_test = strat_test_set[\"median_house_value\"].copy()\n",
    "# 테스트셋"
   ]
  },
  {
   "cell_type": "code",
   "execution_count": null,
   "id": "5dce651e",
   "metadata": {},
   "outputs": [],
   "source": [
    "from sklearn.metrics import mean_squared_error\n",
    "X_test_prepared = full_pipeline.transform(X_test)\n",
    "final_predictions = final_model.predict(X_test_prepared)\n",
    "final_mse = mean_squared_error(y_test, final_predictions)\n",
    "final_rmse = np.sqrt(final_mse)\n",
    "final_rmse"
   ]
  },
  {
   "cell_type": "code",
   "execution_count": null,
   "id": "89f1d4c7",
   "metadata": {},
   "outputs": [],
   "source": [
    "# 신뢰구간 계산\n",
    "from scipy import stats\n",
    "confidence = 0.95\n",
    "squared_errors = (final_predictions-y_test) **2\n",
    "np.sqrt(stats.t.interval(confidence, len(squared_errors) -1, \n",
    "                        loc=squared_erros.mean(),\n",
    "                        scale=stats.sem(squared_errors)))"
   ]
  },
  {
   "cell_type": "code",
   "execution_count": null,
   "id": "6cebf283",
   "metadata": {},
   "outputs": [],
   "source": []
  }
 ],
 "metadata": {
  "kernelspec": {
   "display_name": "Python 3 (ipykernel)",
   "language": "python",
   "name": "python3"
  },
  "language_info": {
   "codemirror_mode": {
    "name": "ipython",
    "version": 3
   },
   "file_extension": ".py",
   "mimetype": "text/x-python",
   "name": "python",
   "nbconvert_exporter": "python",
   "pygments_lexer": "ipython3",
   "version": "3.9.16"
  }
 },
 "nbformat": 4,
 "nbformat_minor": 5
}
