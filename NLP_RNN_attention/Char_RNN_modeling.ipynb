{
  "nbformat": 4,
  "nbformat_minor": 0,
  "metadata": {
    "colab": {
      "provenance": [],
      "gpuType": "T4"
    },
    "kernelspec": {
      "name": "python3",
      "display_name": "Python 3"
    },
    "language_info": {
      "name": "python"
    },
    "accelerator": "GPU"
  },
  "cells": [
    {
      "cell_type": "code",
      "execution_count": null,
      "metadata": {
        "id": "pLi6hBux8g2f"
      },
      "outputs": [],
      "source": [
        "import os\n",
        "import pandas as pd\n",
        "import numpy as np\n",
        "import matplotlib.pyplot as plt\n",
        "import sklearn\n",
        "import seaborn as sns\n",
        "import matplotlib as mpl\n",
        "import joblib\n",
        "import keras\n",
        "import tensorflow as tf\n",
        "import pandas as pd\n",
        "import numpy as np\n",
        "# tensorflow 용 시간체크와 tqdm\n",
        "!pip install tensorflow-addons\n",
        "import tqdm\n",
        "import tensorflow_addons as tfa\n",
        "tqdm_callback = tfa.callbacks.TQDMProgressBar()"
      ]
    },
    {
      "cell_type": "markdown",
      "source": [
        "#### [0~14]을 윈도우로 분리"
      ],
      "metadata": {
        "id": "uUqBIkdDArOw"
      }
    },
    {
      "cell_type": "code",
      "source": [
        "n_steps = 5\n",
        "dataset = tf.data.Dataset.from_tensor_slices(tf.range(15))\n",
        "dataset = dataset.window(n_steps, shift=2, drop_remainder=True)\n",
        "dataset = dataset.flat_map(lambda window : window.batch(n_steps))\n",
        "dataset = dataset.shuffle(10).map(lambda window: (window[:-1], window[1:]))\n",
        "dataset = dataset.batch(3).prefetch(1)"
      ],
      "metadata": {
        "id": "zrTgBYo881GN"
      },
      "execution_count": 42,
      "outputs": []
    },
    {
      "cell_type": "code",
      "source": [
        "for index, (X_batch, Y_batch) in enumerate(dataset):\n",
        "  print(\"===============\",f\"\\n{index+1})\", f\"Batch {index}\",  f\"\\n   X_batch\\n{X_batch.numpy()}\")\n",
        "  print(\"ㅡㅡㅡㅡㅡㅡㅡ\", f\"\\n   Y_batch\\n{Y_batch.numpy()}\")"
      ],
      "metadata": {
        "colab": {
          "base_uri": "https://localhost:8080/"
        },
        "id": "O3PJfQzAA7T6",
        "outputId": "9a517ad6-380c-4fc9-fd0b-e367252fdefb"
      },
      "execution_count": 43,
      "outputs": [
        {
          "output_type": "stream",
          "name": "stdout",
          "text": [
            "=============== \n",
            "1) Batch 0 \n",
            "   X_batch\n",
            "[[ 0  1  2  3]\n",
            " [10 11 12 13]\n",
            " [ 8  9 10 11]]\n",
            "ㅡㅡㅡㅡㅡㅡㅡ \n",
            "   Y_batch\n",
            "[[ 1  2  3  4]\n",
            " [11 12 13 14]\n",
            " [ 9 10 11 12]]\n",
            "=============== \n",
            "2) Batch 1 \n",
            "   X_batch\n",
            "[[6 7 8 9]\n",
            " [4 5 6 7]\n",
            " [2 3 4 5]]\n",
            "ㅡㅡㅡㅡㅡㅡㅡ \n",
            "   Y_batch\n",
            "[[ 7  8  9 10]\n",
            " [ 5  6  7  8]\n",
            " [ 3  4  5  6]]\n"
          ]
        }
      ]
    },
    {
      "cell_type": "markdown",
      "source": [
        "#### 셰익스피어 작품 데이터"
      ],
      "metadata": {
        "id": "u2vF3mdBC_XO"
      }
    },
    {
      "cell_type": "code",
      "source": [
        "file_path = \"https://raw.githubusercontent.com/ChaeWonIm0/MachineLearning_reference/main/Time_Series/shakespeare.txt\"\n",
        "file_path = keras.utils.get_file(\"shakespeare.txt\", file_path)\n",
        "with open(file_path) as f:\n",
        "  shakespeare_text = f.read()"
      ],
      "metadata": {
        "id": "eXpT45yQCLaR"
      },
      "execution_count": 152,
      "outputs": []
    },
    {
      "cell_type": "code",
      "source": [
        "# 내용 확인\n",
        "shakespeare_text[:200]"
      ],
      "metadata": {
        "colab": {
          "base_uri": "https://localhost:8080/",
          "height": 72
        },
        "id": "hDQxTcUzFF0F",
        "outputId": "ca8ad530-ab3a-4662-f422-8bf84965ca90"
      },
      "execution_count": 153,
      "outputs": [
        {
          "output_type": "execute_result",
          "data": {
            "text/plain": [
              "'First Citizen:\\nBefore we proceed any further, hear me speak.\\n\\nAll:\\nSpeak, speak.\\n\\nFirst Citizen:\\nYou are all resolved rather to die than to famish?\\n\\nAll:\\nResolved. resolved.\\n\\nFirst Citizen:\\nFirst, you'"
            ],
            "application/vnd.google.colaboratory.intrinsic+json": {
              "type": "string"
            }
          },
          "metadata": {},
          "execution_count": 153
        }
      ]
    },
    {
      "cell_type": "code",
      "source": [
        "# GRU로 쓸 토크나이저 정의\n",
        "tokenizer = keras.preprocessing.text.Tokenizer(char_level=True)\n",
        "tokenizer.fit_on_texts(shakespeare_text)"
      ],
      "metadata": {
        "id": "kQfRRIhzFOMt"
      },
      "execution_count": 154,
      "outputs": []
    },
    {
      "cell_type": "code",
      "source": [
        "# 배열 > 글자 , 글자 > 배열\n",
        "tokenizer.texts_to_sequences([\"Second\"]), tokenizer.sequences_to_texts([[8, 2, 19, 4, 10, 13]])"
      ],
      "metadata": {
        "colab": {
          "base_uri": "https://localhost:8080/"
        },
        "id": "JMW788nZIGld",
        "outputId": "faa20a89-62c7-4021-c535-5854e312cb7b"
      },
      "execution_count": 155,
      "outputs": [
        {
          "output_type": "execute_result",
          "data": {
            "text/plain": [
              "([[8, 2, 19, 4, 10, 13]], ['s e c o n d'])"
            ]
          },
          "metadata": {},
          "execution_count": 155
        }
      ]
    },
    {
      "cell_type": "code",
      "source": [
        "# 워드 갯수\n",
        "max_id = len(tokenizer.word_index)\n",
        "max_id"
      ],
      "metadata": {
        "colab": {
          "base_uri": "https://localhost:8080/"
        },
        "id": "H5Alr91jJUWL",
        "outputId": "f547a1e8-47fc-416d-8e77-fbb21af12ce1"
      },
      "execution_count": 156,
      "outputs": [
        {
          "output_type": "execute_result",
          "data": {
            "text/plain": [
              "39"
            ]
          },
          "metadata": {},
          "execution_count": 156
        }
      ]
    },
    {
      "cell_type": "code",
      "source": [
        "# 워드배열의 총 갯수\n",
        "dataset_size = tokenizer.document_count\n",
        "dataset_size"
      ],
      "metadata": {
        "colab": {
          "base_uri": "https://localhost:8080/"
        },
        "id": "f-m7Hl_TKZb2",
        "outputId": "23605005-36d3-499d-8058-8959e9f9920c"
      },
      "execution_count": 157,
      "outputs": [
        {
          "output_type": "execute_result",
          "data": {
            "text/plain": [
              "1115394"
            ]
          },
          "metadata": {},
          "execution_count": 157
        }
      ]
    },
    {
      "cell_type": "code",
      "source": [
        "# 각 워드를 숫자로 변환\n",
        "[encoded] = np.array(tokenizer.texts_to_sequences([shakespeare_text])) -1\n",
        "# [encoded] = np.array(tokenizer.texts_to_sequences([shakespeare_text]))\n",
        "[encoded]"
      ],
      "metadata": {
        "colab": {
          "base_uri": "https://localhost:8080/"
        },
        "id": "iShfkU2WKgG8",
        "outputId": "af2e8722-11a7-4efc-9115-5947e67ba054"
      },
      "execution_count": 158,
      "outputs": [
        {
          "output_type": "execute_result",
          "data": {
            "text/plain": [
              "[array([19,  5,  8, ..., 20, 26, 10])]"
            ]
          },
          "metadata": {},
          "execution_count": 158
        }
      ]
    },
    {
      "cell_type": "code",
      "source": [
        "# 학습셋 분리\n",
        "train_size = dataset_size * 90 // 100\n",
        "train_size"
      ],
      "metadata": {
        "colab": {
          "base_uri": "https://localhost:8080/"
        },
        "id": "dYZC8opEK0o7",
        "outputId": "befe76a7-2597-490f-951c-06c460717622"
      },
      "execution_count": 159,
      "outputs": [
        {
          "output_type": "execute_result",
          "data": {
            "text/plain": [
              "1003854"
            ]
          },
          "metadata": {},
          "execution_count": 159
        }
      ]
    },
    {
      "cell_type": "code",
      "source": [
        "dataset = tf.data.Dataset.from_tensor_slices(encoded[:train_size])\n",
        "dataset"
      ],
      "metadata": {
        "colab": {
          "base_uri": "https://localhost:8080/"
        },
        "id": "Mq18JdB2LuVs",
        "outputId": "2319a820-9ab4-4d84-e140-0abb1a4f1d16"
      },
      "execution_count": 160,
      "outputs": [
        {
          "output_type": "execute_result",
          "data": {
            "text/plain": [
              "<_TensorSliceDataset element_spec=TensorSpec(shape=(), dtype=tf.int64, name=None)>"
            ]
          },
          "metadata": {},
          "execution_count": 160
        }
      ]
    },
    {
      "cell_type": "markdown",
      "source": [
        "#### 긴 sequences를 그보다 작은 window로 변환"
      ],
      "metadata": {
        "id": "gbKM91ipMOAc"
      }
    },
    {
      "cell_type": "code",
      "source": [
        "# 타겟\n",
        "n_steps = 100\n",
        "window_length = n_steps +1\n",
        "dataset = dataset.window(window_length, shift = 1, drop_remainder = True)\n",
        "dataset"
      ],
      "metadata": {
        "colab": {
          "base_uri": "https://localhost:8080/"
        },
        "id": "3pLiTWUZL2S-",
        "outputId": "595e779e-0873-4d3d-b031-b151a7252aac"
      },
      "execution_count": 161,
      "outputs": [
        {
          "output_type": "execute_result",
          "data": {
            "text/plain": [
              "<_WindowDataset element_spec=DatasetSpec(TensorSpec(shape=(), dtype=tf.int64, name=None), TensorShape([]))>"
            ]
          },
          "metadata": {},
          "execution_count": 161
        }
      ]
    },
    {
      "cell_type": "code",
      "source": [
        "# 데이터 평탄화\n",
        "dataset = dataset.flat_map(lambda window: window.batch(window_length))\n",
        "dataset"
      ],
      "metadata": {
        "colab": {
          "base_uri": "https://localhost:8080/"
        },
        "id": "hAslv8JpMFKC",
        "outputId": "35b65073-e38b-4416-b0ac-dc5c1d625104"
      },
      "execution_count": 162,
      "outputs": [
        {
          "output_type": "execute_result",
          "data": {
            "text/plain": [
              "<_FlatMapDataset element_spec=TensorSpec(shape=(None,), dtype=tf.int64, name=None)>"
            ]
          },
          "metadata": {},
          "execution_count": 162
        }
      ]
    },
    {
      "cell_type": "code",
      "source": [
        "# batch 사이즈\n",
        "batch_size = 32\n",
        "dataset = dataset.shuffle(10000).batch(batch_size)\n",
        "dataset = dataset.map(lambda windows: (windows[:,:-1], windows[:, 1:]))\n",
        "dataset"
      ],
      "metadata": {
        "colab": {
          "base_uri": "https://localhost:8080/"
        },
        "id": "yzNKQA31Mo0F",
        "outputId": "4d746da3-d929-4c0e-fbcf-42e3f0e2a3d8"
      },
      "execution_count": 163,
      "outputs": [
        {
          "output_type": "execute_result",
          "data": {
            "text/plain": [
              "<_MapDataset element_spec=(TensorSpec(shape=(None, None), dtype=tf.int64, name=None), TensorSpec(shape=(None, None), dtype=tf.int64, name=None))>"
            ]
          },
          "metadata": {},
          "execution_count": 163
        }
      ]
    },
    {
      "cell_type": "code",
      "source": [
        "dataset = dataset.map(\n",
        "    lambda X_batch, Y_batch: (tf.one_hot(X_batch, depth=max_id), Y_batch))"
      ],
      "metadata": {
        "id": "YAR4kFLzNa2Y"
      },
      "execution_count": 164,
      "outputs": []
    },
    {
      "cell_type": "code",
      "source": [
        "# 프리패치 추가\n",
        "dataset = dataset.prefetch(1)\n",
        "dataset"
      ],
      "metadata": {
        "colab": {
          "base_uri": "https://localhost:8080/"
        },
        "id": "kzzNzrn8OSbq",
        "outputId": "a4b456c8-7da9-4383-827c-9d71dfb311d3"
      },
      "execution_count": 165,
      "outputs": [
        {
          "output_type": "execute_result",
          "data": {
            "text/plain": [
              "<_PrefetchDataset element_spec=(TensorSpec(shape=(None, None, 39), dtype=tf.float32, name=None), TensorSpec(shape=(None, None), dtype=tf.int64, name=None))>"
            ]
          },
          "metadata": {},
          "execution_count": 165
        }
      ]
    },
    {
      "cell_type": "code",
      "source": [
        "# 사이즈 확인\n",
        "for x,y in dataset.take(1):\n",
        "  print(f\"X 배치 텐서 : {x.shape}, Y 배치 텐서 {y.shape}\")"
      ],
      "metadata": {
        "colab": {
          "base_uri": "https://localhost:8080/"
        },
        "id": "Yr40uS7UOu48",
        "outputId": "51b0860b-9abb-4e9d-ce97-fa9d762dcba4"
      },
      "execution_count": 166,
      "outputs": [
        {
          "output_type": "stream",
          "name": "stdout",
          "text": [
            "X 배치 텐서 : (32, 100, 39), Y 배치 텐서 (32, 100)\n"
          ]
        }
      ]
    },
    {
      "cell_type": "markdown",
      "source": [
        "#### 모델 로드"
      ],
      "metadata": {
        "id": "o7DGCDoCPD2P"
      }
    },
    {
      "cell_type": "code",
      "source": [
        "model = keras.models.Sequential([\n",
        "    keras.layers.GRU(128, return_sequences=True, input_shape=[None, max_id],\n",
        "                     #dropout=0.2, recurrent_dropout=0.2),\n",
        "                     dropout=0.2),\n",
        "    keras.layers.GRU(128, return_sequences=True,\n",
        "                     #dropout=0.2, recurrent_dropout=0.2),\n",
        "                     dropout=0.2),\n",
        "    keras.layers.TimeDistributed(keras.layers.Dense(max_id,\n",
        "                                                    activation=\"softmax\"))\n",
        "])\n",
        "# 128층 인풋, DROPOUT은 GPU 사용시 쓰이지 않기 때문에 삭제"
      ],
      "metadata": {
        "id": "hTK5RixKO_oG"
      },
      "execution_count": 167,
      "outputs": []
    },
    {
      "cell_type": "code",
      "source": [
        "# 모델 컴파일\n",
        "model.compile(loss=\"sparse_categorical_crossentropy\", optimizer=\"adam\")"
      ],
      "metadata": {
        "id": "uS-AKnfXPGTf"
      },
      "execution_count": 171,
      "outputs": []
    },
    {
      "cell_type": "code",
      "source": [
        "model.summary()"
      ],
      "metadata": {
        "colab": {
          "base_uri": "https://localhost:8080/"
        },
        "id": "ezvwjKfkPuV9",
        "outputId": "0b67a1b3-178f-48cb-d665-ae744282614d"
      },
      "execution_count": 172,
      "outputs": [
        {
          "output_type": "stream",
          "name": "stdout",
          "text": [
            "Model: \"sequential_5\"\n",
            "_________________________________________________________________\n",
            " Layer (type)                Output Shape              Param #   \n",
            "=================================================================\n",
            " gru_10 (GRU)                (None, None, 128)         64896     \n",
            "                                                                 \n",
            " gru_11 (GRU)                (None, None, 128)         99072     \n",
            "                                                                 \n",
            " time_distributed_5 (TimeDis  (None, None, 39)         5031      \n",
            " tributed)                                                       \n",
            "                                                                 \n",
            "=================================================================\n",
            "Total params: 168,999\n",
            "Trainable params: 168,999\n",
            "Non-trainable params: 0\n",
            "_________________________________________________________________\n"
          ]
        }
      ]
    },
    {
      "cell_type": "code",
      "source": [
        "# 모델 학습 1회\n",
        "history = model.fit(dataset, epochs=1)"
      ],
      "metadata": {
        "colab": {
          "base_uri": "https://localhost:8080/"
        },
        "id": "ZfMkbkJhPv-v",
        "outputId": "fef4469a-cf6f-4666-d018-46b123c5504e"
      },
      "execution_count": 173,
      "outputs": [
        {
          "output_type": "stream",
          "name": "stdout",
          "text": [
            "31368/31368 [==============================] - 433s 14ms/step - loss: 1.6091\n"
          ]
        }
      ]
    },
    {
      "cell_type": "code",
      "source": [
        "# 전처리\n",
        "def preprocess(text):\n",
        "  X = np.array(tokenizer.texts_to_sequences(text)) - 1\n",
        "  # X = np.array(tokenizer.texts_to_sequences(text))\n",
        "  return tf.one_hot(X, max_id)"
      ],
      "metadata": {
        "id": "lBkvCbrpP3eV"
      },
      "execution_count": 174,
      "outputs": []
    },
    {
      "cell_type": "code",
      "source": [
        "# 테스트\n",
        "X_new = preprocess([\"Who are yo\"])\n",
        "Y_pred = np.argmax(model(X_new), axis=-1)\n",
        "tokenizer.sequences_to_texts(Y_pred + 1)[0][-1]"
      ],
      "metadata": {
        "colab": {
          "base_uri": "https://localhost:8080/",
          "height": 35
        },
        "id": "I7W6de5pXOXC",
        "outputId": "f632dcbb-7c4b-4a88-e9dc-cdec53a81280"
      },
      "execution_count": 176,
      "outputs": [
        {
          "output_type": "execute_result",
          "data": {
            "text/plain": [
              "'u'"
            ],
            "application/vnd.google.colaboratory.intrinsic+json": {
              "type": "string"
            }
          },
          "metadata": {},
          "execution_count": 176
        }
      ]
    },
    {
      "cell_type": "code",
      "source": [
        "# loss 그래프 시각화\n",
        "def plot_learning_curves(loss):\n",
        "    plt.plot(np.arange(len(loss)) + 0.5, loss, \"b.-\", label=\"Training loss\")\n",
        "    # plt.plot(np.arange(len(val_loss)) + 1, val_loss, \"r.-\", label=\"Validation loss\")\n",
        "    plt.gca().xaxis.set_major_locator(mpl.ticker.MaxNLocator(integer=True))\n",
        "    plt.axis([1, 20, 0, 2])\n",
        "    plt.legend(fontsize=14)\n",
        "    plt.xlabel(\"Epochs\")\n",
        "    plt.ylabel(\"Loss\")\n",
        "    plt.grid(True)\n",
        "plot_learning_curves(history.history[\"loss\"])\n",
        "plt.title(\"Char-RNN nadam\")\n",
        "plt.show()"
      ],
      "metadata": {
        "colab": {
          "base_uri": "https://localhost:8080/",
          "height": 472
        },
        "id": "jNsj2gE-Yi9b",
        "outputId": "0ea82618-444c-4129-9110-792a0f232dce"
      },
      "execution_count": 179,
      "outputs": [
        {
          "output_type": "display_data",
          "data": {
            "text/plain": [
              "<Figure size 640x480 with 1 Axes>"
            ],
            "image/png": "[encoded data removed]"
          },
          "metadata": {}
        }
      ]
    },
    {
      "cell_type": "code",
      "source": [
        "# 랜덤 생성\n",
        "tf.random.categorical([[np.log(0.5), np.log(0.4), np.log(0.1)]], num_samples=40).numpy()"
      ],
      "metadata": {
        "colab": {
          "base_uri": "https://localhost:8080/"
        },
        "id": "kLVos5P3XdLk",
        "outputId": "9e120ec8-40aa-40e6-c7c9-e549e535199d"
      },
      "execution_count": 180,
      "outputs": [
        {
          "output_type": "execute_result",
          "data": {
            "text/plain": [
              "array([[1, 0, 0, 0, 1, 1, 0, 1, 0, 1, 0, 0, 0, 2, 2, 1, 0, 1, 1, 1, 1, 0,\n",
              "        0, 0, 0, 0, 1, 0, 1, 1, 1, 1, 0, 1, 0, 0, 0, 1, 0, 0]])"
            ]
          },
          "metadata": {},
          "execution_count": 180
        }
      ]
    },
    {
      "cell_type": "code",
      "source": [
        "# 다음 글자를 예측하는 함수\n",
        "def next_char(text, temperature=1):\n",
        "    X_new = preprocess([text])\n",
        "    y_proba = model(X_new)[0, -1:, :]\n",
        "    rescaled_logits = tf.math.log(y_proba) / temperature\n",
        "    char_id = tf.random.categorical(rescaled_logits, num_samples=1) + 1\n",
        "    return tokenizer.sequences_to_texts(char_id.numpy())[0]"
      ],
      "metadata": {
        "id": "BmTaJn6JYPGJ"
      },
      "execution_count": 181,
      "outputs": []
    },
    {
      "cell_type": "code",
      "source": [
        "next_char(\"where is h\", temperature=1)"
      ],
      "metadata": {
        "colab": {
          "base_uri": "https://localhost:8080/",
          "height": 35
        },
        "id": "xPQQgi8jYPIA",
        "outputId": "37cfadab-57a1-4874-bbe5-9a91fabc0daf"
      },
      "execution_count": 183,
      "outputs": [
        {
          "output_type": "execute_result",
          "data": {
            "text/plain": [
              "'o'"
            ],
            "application/vnd.google.colaboratory.intrinsic+json": {
              "type": "string"
            }
          },
          "metadata": {},
          "execution_count": 183
        }
      ]
    },
    {
      "cell_type": "code",
      "source": [
        "# 문자를 완성하는 함수\n",
        "def complete_text(text, n_chars=50, temperature=1):\n",
        "    for _ in range(n_chars):\n",
        "        text += next_char(text, temperature)\n",
        "    return text"
      ],
      "metadata": {
        "id": "JbQZJokgYPJ6"
      },
      "execution_count": 184,
      "outputs": []
    },
    {
      "cell_type": "code",
      "source": [
        "# 사용\n",
        "tf.random.set_seed(42)\n",
        "\n",
        "print(complete_text(\"t\", temperature=0.2))"
      ],
      "metadata": {
        "colab": {
          "base_uri": "https://localhost:8080/"
        },
        "id": "c6so57xjYPL0",
        "outputId": "bf333438-5fe7-4928-adac-e41b4e5ad731"
      },
      "execution_count": 185,
      "outputs": [
        {
          "output_type": "stream",
          "name": "stdout",
          "text": [
            "the world,\n",
            "that she is so best the rest with her.\n",
            "\n",
            "\n"
          ]
        }
      ]
    },
    {
      "cell_type": "code",
      "source": [
        "print(complete_text(\"t\", temperature=0.5))"
      ],
      "metadata": {
        "colab": {
          "base_uri": "https://localhost:8080/"
        },
        "id": "o1PaokONYPN5",
        "outputId": "cd2880a2-1566-42e7-e6f5-1940c5659be1"
      },
      "execution_count": 188,
      "outputs": [
        {
          "output_type": "stream",
          "name": "stdout",
          "text": [
            "this gands,\n",
            "he come to well and well i know her wor\n"
          ]
        }
      ]
    },
    {
      "cell_type": "markdown",
      "source": [
        "# stateful RNN 로드\n"
      ],
      "metadata": {
        "id": "OM1xc4DMYuHV"
      }
    },
    {
      "cell_type": "code",
      "source": [
        "# Dataset 정리\n",
        "dataset = tf.data.Dataset.from_tensor_slices(encoded[:train_size])\n",
        "dataset = dataset.window(window_length, shift=n_steps, drop_remainder=True)\n",
        "dataset = dataset.flat_map(lambda window: window.batch(window_length))\n",
        "dataset = dataset.batch(1)\n",
        "dataset = dataset.map(lambda windows: (windows[:, :-1], windows[:, 1:]))\n",
        "dataset = dataset.map(\n",
        "    lambda X_batch, Y_batch: (tf.one_hot(X_batch, depth=max_id), Y_batch))\n",
        "dataset = dataset.prefetch(1)\n"
      ],
      "metadata": {
        "id": "7vao-QCkY-Lo"
      },
      "execution_count": 189,
      "outputs": []
    },
    {
      "cell_type": "code",
      "source": [
        "batch_size = 32\n",
        "encoded_parts = np.array_split(encoded[:train_size], batch_size)\n",
        "datasets = []\n",
        "for encoded_part in encoded_parts:\n",
        "    dataset = tf.data.Dataset.from_tensor_slices(encoded_part)\n",
        "    dataset = dataset.window(window_length, shift=n_steps, drop_remainder=True)\n",
        "    dataset = dataset.flat_map(lambda window: window.batch(window_length))\n",
        "    datasets.append(dataset)\n",
        "dataset = tf.data.Dataset.zip(tuple(datasets)).map(lambda *windows: tf.stack(windows))\n",
        "dataset = dataset.map(lambda windows: (windows[:, :-1], windows[:, 1:]))\n",
        "dataset = dataset.map(\n",
        "    lambda X_batch, Y_batch: (tf.one_hot(X_batch, depth=max_id), Y_batch))\n",
        "dataset = dataset.prefetch(1)"
      ],
      "metadata": {
        "id": "n5XDKOu2ZEwf"
      },
      "execution_count": 190,
      "outputs": []
    },
    {
      "cell_type": "code",
      "source": [
        "# 모델 설계\n",
        "model = keras.models.Sequential([\n",
        "    keras.layers.GRU(128, return_sequences=True, stateful=True,\n",
        "                     #dropout=0.2, recurrent_dropout=0.2,\n",
        "                     dropout=0.2,\n",
        "                     batch_input_shape=[batch_size, None, max_id]),\n",
        "    keras.layers.GRU(128, return_sequences=True, stateful=True,\n",
        "                     #dropout=0.2, recurrent_dropout=0.2),\n",
        "                     dropout=0.2),\n",
        "    keras.layers.TimeDistributed(keras.layers.Dense(max_id,\n",
        "                                                    activation=\"softmax\"))\n",
        "])"
      ],
      "metadata": {
        "id": "ASZKdYSZZF5_"
      },
      "execution_count": 191,
      "outputs": []
    },
    {
      "cell_type": "code",
      "source": [
        "# state reset하는 콜백함수 정의\n",
        "class ResetStatesCallback(keras.callbacks.Callback):\n",
        "    def on_epoch_begin(self, epoch, logs):\n",
        "        self.model.reset_states()"
      ],
      "metadata": {
        "id": "SgYsmUdNZKH4"
      },
      "execution_count": 192,
      "outputs": []
    },
    {
      "cell_type": "code",
      "source": [
        "# Statefull RNN 컴파일\n",
        "model.compile(loss=\"sparse_categorical_crossentropy\", optimizer=\"adam\")"
      ],
      "metadata": {
        "id": "eqweu4zQZSPA"
      },
      "execution_count": 194,
      "outputs": []
    },
    {
      "cell_type": "code",
      "source": [
        "# 모델 학습\n",
        "history = model.fit(dataset, epochs=30,\n",
        "                    callbacks=[ResetStatesCallback()])"
      ],
      "metadata": {
        "colab": {
          "base_uri": "https://localhost:8080/"
        },
        "id": "59kbGdWeZSRP",
        "outputId": "63b7f349-7fa1-472a-ae6c-9ef5af9334b5"
      },
      "execution_count": 195,
      "outputs": [
        {
          "output_type": "stream",
          "name": "stdout",
          "text": [
            "Epoch 1/30\n",
            "313/313 [==============================] - 8s 16ms/step - loss: 2.6236\n",
            "Epoch 2/30\n",
            "313/313 [==============================] - 8s 25ms/step - loss: 2.2492\n",
            "Epoch 3/30\n",
            "313/313 [==============================] - 5s 17ms/step - loss: 2.1214\n",
            "Epoch 4/30\n",
            "313/313 [==============================] - 8s 26ms/step - loss: 2.0428\n",
            "Epoch 5/30\n",
            "313/313 [==============================] - 7s 22ms/step - loss: 1.9906\n",
            "Epoch 6/30\n",
            "313/313 [==============================] - 6s 18ms/step - loss: 1.9517\n",
            "Epoch 7/30\n",
            "313/313 [==============================] - 5s 17ms/step - loss: 1.9235\n",
            "Epoch 8/30\n",
            "313/313 [==============================] - 6s 20ms/step - loss: 1.9013\n",
            "Epoch 9/30\n",
            "313/313 [==============================] - 7s 22ms/step - loss: 1.8839\n",
            "Epoch 10/30\n",
            "313/313 [==============================] - 5s 16ms/step - loss: 1.8677\n",
            "Epoch 11/30\n",
            "313/313 [==============================] - 7s 22ms/step - loss: 1.8556\n",
            "Epoch 12/30\n",
            "313/313 [==============================] - 8s 25ms/step - loss: 1.8443\n",
            "Epoch 13/30\n",
            "313/313 [==============================] - 6s 18ms/step - loss: 1.8356\n",
            "Epoch 14/30\n",
            "313/313 [==============================] - 7s 22ms/step - loss: 1.8248\n",
            "Epoch 15/30\n",
            "313/313 [==============================] - 5s 17ms/step - loss: 1.8179\n",
            "Epoch 16/30\n",
            "313/313 [==============================] - 5s 17ms/step - loss: 1.8118\n",
            "Epoch 17/30\n",
            "313/313 [==============================] - 6s 21ms/step - loss: 1.8032\n",
            "Epoch 18/30\n",
            "313/313 [==============================] - 5s 17ms/step - loss: 1.7985\n",
            "Epoch 19/30\n",
            "313/313 [==============================] - 7s 21ms/step - loss: 1.7935\n",
            "Epoch 20/30\n",
            "313/313 [==============================] - 5s 17ms/step - loss: 1.7901\n",
            "Epoch 21/30\n",
            "313/313 [==============================] - 7s 22ms/step - loss: 1.7853\n",
            "Epoch 22/30\n",
            "313/313 [==============================] - 5s 17ms/step - loss: 1.7799\n",
            "Epoch 23/30\n",
            "313/313 [==============================] - 6s 20ms/step - loss: 1.7746\n",
            "Epoch 24/30\n",
            "313/313 [==============================] - 5s 17ms/step - loss: 1.7719\n",
            "Epoch 25/30\n",
            "313/313 [==============================] - 7s 22ms/step - loss: 1.7688\n",
            "Epoch 26/30\n",
            "313/313 [==============================] - 5s 17ms/step - loss: 1.7646\n",
            "Epoch 27/30\n",
            "313/313 [==============================] - 7s 22ms/step - loss: 1.7627\n",
            "Epoch 28/30\n",
            "313/313 [==============================] - 7s 22ms/step - loss: 1.7596\n",
            "Epoch 29/30\n",
            "313/313 [==============================] - 5s 17ms/step - loss: 1.7572\n",
            "Epoch 30/30\n",
            "313/313 [==============================] - 7s 22ms/step - loss: 1.7532\n"
          ]
        }
      ]
    },
    {
      "cell_type": "code",
      "source": [
        "# loss 그래프 시각화\n",
        "def plot_learning_curves(loss):\n",
        "    plt.plot(np.arange(len(loss)) + 0.5, loss, \"b.-\", label=\"Training loss\")\n",
        "    # plt.plot(np.arange(len(val_loss)) + 1, val_loss, \"r.-\", label=\"Validation loss\")\n",
        "    plt.gca().xaxis.set_major_locator(mpl.ticker.MaxNLocator(integer=True))\n",
        "    plt.axis([1, 30, 1, 3])\n",
        "    plt.legend(fontsize=14)\n",
        "    plt.xlabel(\"Epochs\")\n",
        "    plt.ylabel(\"Loss\")\n",
        "    plt.grid(True)\n",
        "plot_learning_curves(history.history[\"loss\"])\n",
        "plt.title(\"stateful Char-RNN adam\")\n",
        "plt.show()"
      ],
      "metadata": {
        "colab": {
          "base_uri": "https://localhost:8080/",
          "height": 472
        },
        "id": "Nm31YOp2vJde",
        "outputId": "8c939a1b-f00c-48e2-8531-83fa99c211b9"
      },
      "execution_count": 204,
      "outputs": [
        {
          "output_type": "display_data",
          "data": {
            "text/plain": [
              "<Figure size 640x480 with 1 Axes>"
            ],
            "image/png": "[encoded data removed]"
          },
          "metadata": {}
        }
      ]
    },
    {
      "cell_type": "code",
      "source": [
        "# 상태가 없는 복사본 생성\n",
        "stateless_model = keras.models.Sequential([\n",
        "    keras.layers.GRU(128, return_sequences=True, input_shape=[None, max_id]),\n",
        "    keras.layers.GRU(128, return_sequences=True),\n",
        "    keras.layers.TimeDistributed(keras.layers.Dense(max_id,\n",
        "                                                    activation=\"softmax\"))\n",
        "])"
      ],
      "metadata": {
        "id": "tJrc4mPjZSV4"
      },
      "execution_count": 197,
      "outputs": []
    },
    {
      "cell_type": "code",
      "source": [
        "# 모델 빌드\n",
        "\n",
        "stateless_model.build(tf.TensorShape([None, None, max_id]))"
      ],
      "metadata": {
        "id": "Yz_aR_hXZSYH"
      },
      "execution_count": 198,
      "outputs": []
    },
    {
      "cell_type": "code",
      "source": [
        "# 가중치\n",
        "stateless_model.set_weights(model.get_weights())\n",
        "model = stateless_model"
      ],
      "metadata": {
        "id": "Z1GeX3xrZhVT"
      },
      "execution_count": 199,
      "outputs": []
    },
    {
      "cell_type": "code",
      "source": [
        "# 검증\n",
        "print(complete_text(\"t\"), 0.2)"
      ],
      "metadata": {
        "colab": {
          "base_uri": "https://localhost:8080/"
        },
        "id": "HsxY6MAeZk8r",
        "outputId": "da9db376-51b4-4801-cf38-726cff000f26"
      },
      "execution_count": 205,
      "outputs": [
        {
          "output_type": "stream",
          "name": "stdout",
          "text": [
            "tor.\n",
            "\n",
            "capulet:\n",
            "he will fon out thore them: no, no w 0.2\n"
          ]
        }
      ]
    },
    {
      "cell_type": "code",
      "source": [],
      "metadata": {
        "id": "p43bSkBQVvNP"
      },
      "execution_count": null,
      "outputs": []
    }
  ]
}