{
  "nbformat": 4,
  "nbformat_minor": 0,
  "metadata": {
    "colab": {
      "provenance": [],
      "gpuType": "T4"
    },
    "kernelspec": {
      "name": "python3",
      "display_name": "Python 3"
    },
    "language_info": {
      "name": "python"
    },
    "accelerator": "GPU"
  },
  "cells": [
    {
      "cell_type": "markdown",
      "source": [
        "### TF Agents 사용\n",
        "\n",
        "https://www.tensorflow.org/agents/tutorials/2_environments_tutorial?hl=ko#introduction"
      ],
      "metadata": {
        "id": "cO97v9rDaF8r"
      }
    },
    {
      "cell_type": "code",
      "source": [
        "!pip install tf_agents\n",
        "import tf_agents\n",
        "\n",
        "from ale_py import ALEInterface\n",
        "\n",
        "ale = ALEInterface()"
      ],
      "metadata": {
        "id": "gNWNFYOCi4AZ"
      },
      "execution_count": null,
      "outputs": []
    },
    {
      "cell_type": "code",
      "source": [
        "import random\n",
        "# gym 사용\n",
        "import gym\n",
        "import numpy as np"
      ],
      "metadata": {
        "id": "UMbSHrexjVFP"
      },
      "execution_count": 20,
      "outputs": []
    },
    {
      "cell_type": "code",
      "source": [
        "from tf_agents.environments import py_environment\n",
        "from tf_agents.environments import tf_environment\n",
        "from tf_agents.environments import tf_py_environment\n",
        "from tf_agents.environments import utils\n",
        "from tf_agents.specs import array_spec\n",
        "from tf_agents.environments import wrappers\n",
        "from tf_agents.environments import suite_gym\n",
        "from tf_agents.trajectories import time_step as ts"
      ],
      "metadata": {
        "id": "NwbyyqiWwZdD"
      },
      "execution_count": 33,
      "outputs": []
    },
    {
      "cell_type": "code",
      "source": [
        "# 블랙잭\n",
        "class CardGameEnv(py_environment.PyEnvironment):\n",
        "  # 각 계수 초기화. 0에서 1까지 행동을 정함\n",
        "  def __init__(self):\n",
        "    self._action_spec = array_spec.BoundedArraySpec(\n",
        "        shape=(), dtype=np.int32, minimum=0, maximum=1, name='action')\n",
        "    self._observation_spec = array_spec.BoundedArraySpec(\n",
        "        shape=(1,), dtype=np.int32, minimum=0, name='observation')\n",
        "    self._state = 0\n",
        "    self._episode_ended = False\n",
        "  # 행동 값. 0 아니면 1\n",
        "  def action_spec(self):\n",
        "    return self._action_spec\n",
        "  # 현재 라운드에서 카드 합\n",
        "  def observation_spec(self):\n",
        "    return self._observation_spec\n",
        "  # 초기화\n",
        "  def _reset(self):\n",
        "    self._state = 0\n",
        "    self._episode_ended = False\n",
        "    return ts.restart(np.array([self._state], dtype=np.int32))\n",
        "  # step = 라운드\n",
        "  def _step(self, action):\n",
        "\n",
        "    if self._episode_ended:\n",
        "      # 액션이 끝나면 에피소드도 끝난 것. 현재 행동은 무시\n",
        "      # 에피소드 초기화\n",
        "      return self.reset()\n",
        "\n",
        "    # 행동 : 0일 경우 새 카드 받기. 1일 경우 현재 라운드 종료\n",
        "    if action == 1:\n",
        "      self._episode_ended = True\n",
        "    elif action == 0:\n",
        "      new_card = np.random.randint(1, 11)\n",
        "      self._state += new_card\n",
        "    else:\n",
        "      raise ValueError('`action` should be 0 or 1.')\n",
        "    # 21에 가까울수록 높은 리워드\n",
        "    if self._episode_ended or self._state >= 21:\n",
        "      reward = self._state - 21 if self._state <= 21 else -21\n",
        "      return ts.termination(np.array([self._state], dtype=np.int32), reward)\n",
        "    else:\n",
        "      return ts.transition(\n",
        "          np.array([self._state], dtype=np.int32), reward=0.0, discount=1.0)"
      ],
      "metadata": {
        "id": "ReyKtIH4wZuK"
      },
      "execution_count": 31,
      "outputs": []
    },
    {
      "cell_type": "code",
      "source": [
        "# 에피소드 5개\n",
        "environment = CardGameEnv()\n",
        "utils.validate_py_environment(environment, episodes=5)"
      ],
      "metadata": {
        "id": "gwkuzvmMyXJC"
      },
      "execution_count": 34,
      "outputs": []
    },
    {
      "cell_type": "code",
      "source": [
        "# 새 카드 뽑기/ 라운드 종료\n",
        "get_new_card_action = np.array(0, dtype=np.int32)\n",
        "end_round_action = np.array(1, dtype = np.int32)\n",
        "\n",
        "# 한번의 스텝\n",
        "time_step = environment.reset()\n",
        "print(time_step)"
      ],
      "metadata": {
        "colab": {
          "base_uri": "https://localhost:8080/"
        },
        "id": "ULlWqO-my5ME",
        "outputId": "7e1844da-c3b3-4e09-e1e8-c3c981965437"
      },
      "execution_count": 35,
      "outputs": [
        {
          "output_type": "stream",
          "name": "stdout",
          "text": [
            "TimeStep(\n",
            "{'discount': array(1., dtype=float32),\n",
            " 'observation': array([0], dtype=int32),\n",
            " 'reward': array(0., dtype=float32),\n",
            " 'step_type': array(0, dtype=int32)})\n"
          ]
        }
      ]
    },
    {
      "cell_type": "code",
      "source": [
        "# 끝나면 리워드"
      ],
      "metadata": {
        "id": "I8l4hhMt0U0j"
      },
      "execution_count": null,
      "outputs": []
    }
  ]
}